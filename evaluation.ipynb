{
 "cells": [
  {
   "cell_type": "code",
   "execution_count": 1,
   "id": "b7729202-5719-4d67-971c-42e458706a41",
   "metadata": {},
   "outputs": [],
   "source": [
    "import os\n",
    "import mne\n",
    "import numpy as np\n",
    "import pandas as pd\n",
    "import itertools\n",
    "import matplotlib.pyplot as plt\n",
    "from scipy.stats import pearsonr, permutation_test"
   ]
  },
  {
   "cell_type": "markdown",
   "id": "057474c0-f804-49a5-a61c-573cd2975e2e",
   "metadata": {},
   "source": [
    "# Functions"
   ]
  },
  {
   "cell_type": "code",
   "execution_count": 2,
   "id": "7692721d-f382-41c9-80e7-0fe082ae0d72",
   "metadata": {},
   "outputs": [],
   "source": [
    "def calc_pearson_corr(in_ear_data, scalp_data):\n",
    "    return pearsonr(in_ear_data.ravel(), scalp_data.ravel())[0]"
   ]
  },
  {
   "cell_type": "markdown",
   "id": "159d485c-61c5-4ef0-9444-8e09c9cbfb4d",
   "metadata": {},
   "source": [
    "# Fetch Data"
   ]
  },
  {
   "cell_type": "code",
   "execution_count": 3,
   "id": "a7727961-d851-4a0b-8486-e9ff7ab6b87b",
   "metadata": {},
   "outputs": [],
   "source": [
    "main_path = './Dataset'"
   ]
  },
  {
   "cell_type": "code",
   "execution_count": 4,
   "id": "4130413d-7bc4-4106-9e5e-2f1b935171e7",
   "metadata": {
    "scrolled": true
   },
   "outputs": [
    {
     "name": "stdout",
     "output_type": "stream",
     "text": [
      "Leaving device<->head transform as None (no landmarks found)\n",
      "Reading 0 ... 981199  =      0.000 ...   981.199 secs...\n",
      "Event file found. Extracting Annotations from C:\\Users\\DFMRendering\\Desktop\\python\\in-ear\\Dataset\\subject1\\motor1.ceo...\n",
      "Leaving device<->head transform as None (no landmarks found)\n",
      "Reading 0 ... 984999  =      0.000 ...   984.999 secs...\n",
      "Event file found. Extracting Annotations from C:\\Users\\DFMRendering\\Desktop\\python\\in-ear\\Dataset\\subject1\\motor2.ceo...\n",
      "Leaving device<->head transform as None (no landmarks found)\n",
      "Reading 0 ... 1022899  =      0.000 ...  1022.899 secs...\n",
      "Event file found. Extracting Annotations from C:\\Users\\DFMRendering\\Desktop\\python\\in-ear\\Dataset\\subject1\\motor3.ceo...\n",
      "Leaving device<->head transform as None (no landmarks found)\n",
      "Reading 0 ... 2031599  =      0.000 ...  2031.599 secs...\n",
      "Event file found. Extracting Annotations from C:\\Users\\DFMRendering\\Desktop\\python\\in-ear\\Dataset\\subject2\\motor.ceo...\n",
      "Leaving device<->head transform as None (no landmarks found)\n",
      "Reading 0 ... 1942099  =      0.000 ...  1942.099 secs...\n",
      "Event file found. Extracting Annotations from C:\\Users\\DFMRendering\\Desktop\\python\\in-ear\\Dataset\\subject3\\motor.ceo...\n",
      "Leaving device<->head transform as None (no landmarks found)\n",
      "Reading 0 ... 982299  =      0.000 ...   982.299 secs...\n",
      "Event file found. Extracting Annotations from C:\\Users\\DFMRendering\\Desktop\\python\\in-ear\\Dataset\\subject4\\motor.ceo...\n",
      "Leaving device<->head transform as None (no landmarks found)\n",
      "Reading 0 ... 1258899  =      0.000 ...  1258.899 secs...\n",
      "Event file found. Extracting Annotations from C:\\Users\\DFMRendering\\Desktop\\python\\in-ear\\Dataset\\subject5\\Motor1.ceo...\n",
      "Leaving device<->head transform as None (no landmarks found)\n",
      "Reading 0 ... 815999  =      0.000 ...   815.999 secs...\n",
      "Event file found. Extracting Annotations from C:\\Users\\DFMRendering\\Desktop\\python\\in-ear\\Dataset\\subject5\\Motor2.ceo...\n",
      "Leaving device<->head transform as None (no landmarks found)\n",
      "Reading 0 ... 384999  =      0.000 ...   384.999 secs...\n",
      "Event file found. Extracting Annotations from C:\\Users\\DFMRendering\\Desktop\\python\\in-ear\\Dataset\\subject5\\Motor3.ceo...\n",
      "Leaving device<->head transform as None (no landmarks found)\n",
      "Reading 0 ... 797299  =      0.000 ...   797.299 secs...\n",
      "Event file found. Extracting Annotations from C:\\Users\\DFMRendering\\Desktop\\python\\in-ear\\Dataset\\subject5\\Motor4.ceo...\n",
      "Leaving device<->head transform as None (no landmarks found)\n",
      "Reading 0 ... 1198599  =      0.000 ...  1198.599 secs...\n",
      "Event file found. Extracting Annotations from C:\\Users\\DFMRendering\\Desktop\\python\\in-ear\\Dataset\\subject6\\Motor1.ceo...\n",
      "Leaving device<->head transform as None (no landmarks found)\n",
      "Reading 0 ... 1013999  =      0.000 ...  1013.999 secs...\n",
      "Event file found. Extracting Annotations from C:\\Users\\DFMRendering\\Desktop\\python\\in-ear\\Dataset\\subject6\\Motor2.ceo...\n",
      "Leaving device<->head transform as None (no landmarks found)\n",
      "Reading 0 ... 1005299  =      0.000 ...  1005.299 secs...\n",
      "Event file found. Extracting Annotations from C:\\Users\\DFMRendering\\Desktop\\python\\in-ear\\Dataset\\subject6\\Motor3.ceo...\n"
     ]
    }
   ],
   "source": [
    "sbj_records = []\n",
    "for sub in os.listdir(main_path):\n",
    "    tmp = []\n",
    "    for file in os.listdir(f'./Dataset/{sub}'):\n",
    "        if file.split(sep='.')[1] == 'dat':\n",
    "            tmp.append(mne.io.read_raw(f'./Dataset/{sub}/{file}', preload=True))\n",
    "    sbj_records.append(mne.concatenate_raws(tmp))\n",
    "        "
   ]
  },
  {
   "cell_type": "code",
   "execution_count": 5,
   "id": "f96b754f-27dc-4b78-a75d-75ed14dbeadd",
   "metadata": {},
   "outputs": [
    {
     "data": {
      "text/html": [
       "<details open>\n",
       "    <summary><strong>General</strong></summary>\n",
       "    <table class=\"table table-hover table-striped table-sm table-responsive small\">\n",
       "        <tr>\n",
       "            <th>Measurement date</th>\n",
       "            \n",
       "            <td>October 08, 2019  15:18:19 GMT</td>\n",
       "            \n",
       "        </tr>\n",
       "        <tr>\n",
       "            <th>Experimenter</th>\n",
       "            \n",
       "            <td>Unknown</td>\n",
       "            \n",
       "        </tr>\n",
       "        <tr>\n",
       "            <th>Participant</th>\n",
       "            \n",
       "            <td>Unknown</td>\n",
       "            \n",
       "        </tr>\n",
       "    </table>\n",
       "    </details>\n",
       "    <details open>\n",
       "        <summary><strong>Channels</strong></summary>\n",
       "        <table class=\"table table-hover table-striped table-sm table-responsive small\">\n",
       "            <tr>\n",
       "                <th>Digitized points</th>\n",
       "                \n",
       "                <td>125 points</td>\n",
       "                \n",
       "            </tr>\n",
       "            <tr>\n",
       "                <th>Good channels</th>\n",
       "                <td>122 EEG, 10 misc</td>\n",
       "            </tr>\n",
       "            <tr>\n",
       "                <th>Bad channels</th>\n",
       "                <td>None</td>\n",
       "            </tr>\n",
       "            <tr>\n",
       "                <th>EOG channels</th>\n",
       "                <td>Not available</td>\n",
       "            </tr>\n",
       "            <tr>\n",
       "                <th>ECG channels</th>\n",
       "                <td>Not available</td>\n",
       "            </tr>\n",
       "        </table>\n",
       "        </details>\n",
       "        <details open>\n",
       "            <summary><strong>Data</strong></summary>\n",
       "            <table class=\"table table-hover table-striped table-sm table-responsive small\">\n",
       "                \n",
       "                <tr>\n",
       "                    <th>Sampling frequency</th>\n",
       "                    <td>1000.00 Hz</td>\n",
       "                </tr>\n",
       "                \n",
       "                \n",
       "                <tr>\n",
       "                    <th>Highpass</th>\n",
       "                    <td>0.00 Hz</td>\n",
       "                </tr>\n",
       "                \n",
       "                \n",
       "                <tr>\n",
       "                    <th>Lowpass</th>\n",
       "                    <td>500.00 Hz</td>\n",
       "                </tr>\n",
       "                \n",
       "                \n",
       "                \n",
       "                <tr>\n",
       "                    <th>Filenames</th>\n",
       "                    <td>motor1.dat&lt;br&gt;motor2.dat&lt;br&gt;motor3.dat</td>\n",
       "                </tr>\n",
       "                \n",
       "                \n",
       "                <tr>\n",
       "                    <th>Duration</th>\n",
       "                    <td>00:49:50 (HH:MM:SS)</td>\n",
       "                </tr>\n",
       "                \n",
       "            </table>\n",
       "            </details>"
      ],
      "text/plain": [
       "<RawCurry | motor1.dat, 132 x 2989100 (2989.1 s), ~2.94 GB, data loaded>"
      ]
     },
     "execution_count": 5,
     "metadata": {},
     "output_type": "execute_result"
    }
   ],
   "source": [
    "sbj_records[0]"
   ]
  },
  {
   "cell_type": "markdown",
   "id": "73988c3e-e444-470f-8511-97f305d9358d",
   "metadata": {},
   "source": [
    "# Preprocessing"
   ]
  },
  {
   "cell_type": "markdown",
   "id": "0bd5a244-ca29-46b9-ab6c-145babc60fcf",
   "metadata": {},
   "source": [
    "1. filter data with a band pass between **0.5** and **100**hz\n",
    "2. get the difference of channel correlation and psd of (for evaluation):\n",
    "   - each ear channel (all channels)\n",
    "   - adjacent scalp channel \n",
    "   - motor related channels \n",
    "3. downsampling data from **1000** Hz to **250** Hz\n",
    "4. filter downsampled data using with **4 - 38 Hz** FIR filter\n",
    "5. drop **FP1** channel of subject 4 , beacuase it was broken\n",
    "6. **interpolate** other scalp channels and append instead of subject 4's FP1 that has been droped (using Blue channels)\n",
    "7. epoch data by **[-2, 6]** window (what does it mean?)\n",
    "8. reject epochs which has data point higher than **6$\\sigma$** for single channel and **2$\\sigma$** for all channels\n",
    "9. get psd difference from :\n",
    "    - all inear channels\n",
    "    - scalp ajacent (**T8,T7,T9,T10**) - Blue channels\n",
    "    - motor task - Red channels\n",
    "10. The mean power of Theta(4-8 Hz), alpha(8-13 Hz), Beta(13-30 Hz), Low gamma(30-38 Hz) were calculated by 8s (-2-6)(?) epochs and get the average of all epochs\n",
    "11. the mean power of Left or Right in ear biopotensial (Mean of signal's power) devided by T9/T10 of scalp channels.\n",
    "12. in a similar way to part 11 we get devided by C3/C4 of motor channels\n",
    "13. to calculate channeles correlation we have used pearson correlation for each 8 ear channels with 122 scalp channels for each subject\n",
    "14. apply a permution test between in-ear channeles and motor channels (C3 and C4)\n",
    "15. 5000 times test(?)"
   ]
  },
  {
   "cell_type": "markdown",
   "id": "fb0058bc-31d9-4806-98cf-aa1ad983aa14",
   "metadata": {},
   "source": [
    "**filter with band pass between 0.5 and 100 Hz**\n",
    " (subsection 2.1)"
   ]
  },
  {
   "cell_type": "code",
   "execution_count": 6,
   "id": "6b2f90a7-3662-4c0a-8157-e00ec71490fa",
   "metadata": {
    "scrolled": true
   },
   "outputs": [
    {
     "name": "stdout",
     "output_type": "stream",
     "text": [
      "Filtering raw data in 3 contiguous segments\n",
      "Setting up band-pass filter from 0.5 - 1e+02 Hz\n",
      "\n",
      "FIR filter parameters\n",
      "---------------------\n",
      "Designing a one-pass, zero-phase, non-causal bandpass filter:\n",
      "- Windowed time-domain design (firwin) method\n",
      "- Hamming window with 0.0194 passband ripple and 53 dB stopband attenuation\n",
      "- Lower passband edge: 0.50\n",
      "- Lower transition bandwidth: 0.50 Hz (-6 dB cutoff frequency: 0.25 Hz)\n",
      "- Upper passband edge: 100.00 Hz\n",
      "- Upper transition bandwidth: 25.00 Hz (-6 dB cutoff frequency: 112.50 Hz)\n",
      "- Filter length: 6601 samples (6.601 s)\n",
      "\n"
     ]
    },
    {
     "name": "stderr",
     "output_type": "stream",
     "text": [
      "[Parallel(n_jobs=1)]: Done  17 tasks      | elapsed:    0.3s\n",
      "[Parallel(n_jobs=1)]: Done  71 tasks      | elapsed:    1.4s\n"
     ]
    },
    {
     "name": "stdout",
     "output_type": "stream",
     "text": [
      "Filtering raw data in 1 contiguous segment\n",
      "Setting up band-pass filter from 0.5 - 1e+02 Hz\n",
      "\n",
      "FIR filter parameters\n",
      "---------------------\n",
      "Designing a one-pass, zero-phase, non-causal bandpass filter:\n",
      "- Windowed time-domain design (firwin) method\n",
      "- Hamming window with 0.0194 passband ripple and 53 dB stopband attenuation\n",
      "- Lower passband edge: 0.50\n",
      "- Lower transition bandwidth: 0.50 Hz (-6 dB cutoff frequency: 0.25 Hz)\n",
      "- Upper passband edge: 100.00 Hz\n",
      "- Upper transition bandwidth: 25.00 Hz (-6 dB cutoff frequency: 112.50 Hz)\n",
      "- Filter length: 6601 samples (6.601 s)\n",
      "\n"
     ]
    },
    {
     "name": "stderr",
     "output_type": "stream",
     "text": [
      "[Parallel(n_jobs=1)]: Done  17 tasks      | elapsed:    0.6s\n",
      "[Parallel(n_jobs=1)]: Done  71 tasks      | elapsed:    2.8s\n"
     ]
    },
    {
     "name": "stdout",
     "output_type": "stream",
     "text": [
      "Filtering raw data in 1 contiguous segment\n",
      "Setting up band-pass filter from 0.5 - 1e+02 Hz\n",
      "\n",
      "FIR filter parameters\n",
      "---------------------\n",
      "Designing a one-pass, zero-phase, non-causal bandpass filter:\n",
      "- Windowed time-domain design (firwin) method\n",
      "- Hamming window with 0.0194 passband ripple and 53 dB stopband attenuation\n",
      "- Lower passband edge: 0.50\n",
      "- Lower transition bandwidth: 0.50 Hz (-6 dB cutoff frequency: 0.25 Hz)\n",
      "- Upper passband edge: 100.00 Hz\n",
      "- Upper transition bandwidth: 25.00 Hz (-6 dB cutoff frequency: 112.50 Hz)\n",
      "- Filter length: 6601 samples (6.601 s)\n",
      "\n"
     ]
    },
    {
     "name": "stderr",
     "output_type": "stream",
     "text": [
      "[Parallel(n_jobs=1)]: Done  17 tasks      | elapsed:    0.6s\n",
      "[Parallel(n_jobs=1)]: Done  71 tasks      | elapsed:    2.7s\n"
     ]
    },
    {
     "name": "stdout",
     "output_type": "stream",
     "text": [
      "Filtering raw data in 1 contiguous segment\n",
      "Setting up band-pass filter from 0.5 - 1e+02 Hz\n",
      "\n",
      "FIR filter parameters\n",
      "---------------------\n",
      "Designing a one-pass, zero-phase, non-causal bandpass filter:\n",
      "- Windowed time-domain design (firwin) method\n",
      "- Hamming window with 0.0194 passband ripple and 53 dB stopband attenuation\n",
      "- Lower passband edge: 0.50\n",
      "- Lower transition bandwidth: 0.50 Hz (-6 dB cutoff frequency: 0.25 Hz)\n",
      "- Upper passband edge: 100.00 Hz\n",
      "- Upper transition bandwidth: 25.00 Hz (-6 dB cutoff frequency: 112.50 Hz)\n",
      "- Filter length: 6601 samples (6.601 s)\n",
      "\n"
     ]
    },
    {
     "name": "stderr",
     "output_type": "stream",
     "text": [
      "[Parallel(n_jobs=1)]: Done  17 tasks      | elapsed:    0.3s\n",
      "[Parallel(n_jobs=1)]: Done  71 tasks      | elapsed:    1.5s\n"
     ]
    },
    {
     "name": "stdout",
     "output_type": "stream",
     "text": [
      "Filtering raw data in 4 contiguous segments\n",
      "Setting up band-pass filter from 0.5 - 1e+02 Hz\n",
      "\n",
      "FIR filter parameters\n",
      "---------------------\n",
      "Designing a one-pass, zero-phase, non-causal bandpass filter:\n",
      "- Windowed time-domain design (firwin) method\n",
      "- Hamming window with 0.0194 passband ripple and 53 dB stopband attenuation\n",
      "- Lower passband edge: 0.50\n",
      "- Lower transition bandwidth: 0.50 Hz (-6 dB cutoff frequency: 0.25 Hz)\n",
      "- Upper passband edge: 100.00 Hz\n",
      "- Upper transition bandwidth: 25.00 Hz (-6 dB cutoff frequency: 112.50 Hz)\n",
      "- Filter length: 6601 samples (6.601 s)\n",
      "\n"
     ]
    },
    {
     "name": "stderr",
     "output_type": "stream",
     "text": [
      "[Parallel(n_jobs=1)]: Done  17 tasks      | elapsed:    0.3s\n",
      "[Parallel(n_jobs=1)]: Done  71 tasks      | elapsed:    1.7s\n"
     ]
    },
    {
     "name": "stdout",
     "output_type": "stream",
     "text": [
      "Filtering raw data in 3 contiguous segments\n",
      "Setting up band-pass filter from 0.5 - 1e+02 Hz\n",
      "\n",
      "FIR filter parameters\n",
      "---------------------\n",
      "Designing a one-pass, zero-phase, non-causal bandpass filter:\n",
      "- Windowed time-domain design (firwin) method\n",
      "- Hamming window with 0.0194 passband ripple and 53 dB stopband attenuation\n",
      "- Lower passband edge: 0.50\n",
      "- Lower transition bandwidth: 0.50 Hz (-6 dB cutoff frequency: 0.25 Hz)\n",
      "- Upper passband edge: 100.00 Hz\n",
      "- Upper transition bandwidth: 25.00 Hz (-6 dB cutoff frequency: 112.50 Hz)\n",
      "- Filter length: 6601 samples (6.601 s)\n",
      "\n"
     ]
    },
    {
     "name": "stderr",
     "output_type": "stream",
     "text": [
      "[Parallel(n_jobs=1)]: Done  17 tasks      | elapsed:    0.3s\n",
      "[Parallel(n_jobs=1)]: Done  71 tasks      | elapsed:    1.7s\n"
     ]
    }
   ],
   "source": [
    "for sample in sbj_records:\n",
    "    sample.filter(0.5, 100)"
   ]
  },
  {
   "cell_type": "markdown",
   "id": "50b41e69-3af3-49d5-a57a-a6c57218f8c5",
   "metadata": {},
   "source": [
    "**Downsampling from 1000 to 250**"
   ]
  },
  {
   "cell_type": "code",
   "execution_count": 7,
   "id": "a83e8f0e-90f9-4155-b1c1-ea404ef5c617",
   "metadata": {
    "scrolled": true
   },
   "outputs": [],
   "source": [
    "for data in sbj_records:\n",
    "    data.resample(250)"
   ]
  },
  {
   "cell_type": "markdown",
   "id": "a5d49f48-926d-41e1-807b-181574d795bc",
   "metadata": {},
   "source": [
    "**filter with a 4-38 Hz FIR filter**"
   ]
  },
  {
   "cell_type": "code",
   "execution_count": 8,
   "id": "bd9b6cd3-72dd-4336-a1e7-e8f9bb3dc685",
   "metadata": {
    "scrolled": true
   },
   "outputs": [
    {
     "name": "stdout",
     "output_type": "stream",
     "text": [
      "Filtering raw data in 3 contiguous segments\n",
      "Setting up band-pass filter from 4 - 38 Hz\n",
      "\n",
      "FIR filter parameters\n",
      "---------------------\n",
      "Designing a one-pass, zero-phase, non-causal bandpass filter:\n",
      "- Windowed time-domain design (firwin) method\n",
      "- Hamming window with 0.0194 passband ripple and 53 dB stopband attenuation\n",
      "- Lower passband edge: 4.00\n",
      "- Lower transition bandwidth: 2.00 Hz (-6 dB cutoff frequency: 3.00 Hz)\n",
      "- Upper passband edge: 38.00 Hz\n",
      "- Upper transition bandwidth: 9.50 Hz (-6 dB cutoff frequency: 42.75 Hz)\n",
      "- Filter length: 413 samples (1.652 s)\n",
      "\n"
     ]
    },
    {
     "name": "stderr",
     "output_type": "stream",
     "text": [
      "[Parallel(n_jobs=1)]: Done  17 tasks      | elapsed:    0.0s\n",
      "[Parallel(n_jobs=1)]: Done  71 tasks      | elapsed:    0.3s\n"
     ]
    },
    {
     "name": "stdout",
     "output_type": "stream",
     "text": [
      "Filtering raw data in 1 contiguous segment\n",
      "Setting up band-pass filter from 4 - 38 Hz\n",
      "\n",
      "FIR filter parameters\n",
      "---------------------\n",
      "Designing a one-pass, zero-phase, non-causal bandpass filter:\n",
      "- Windowed time-domain design (firwin) method\n",
      "- Hamming window with 0.0194 passband ripple and 53 dB stopband attenuation\n",
      "- Lower passband edge: 4.00\n",
      "- Lower transition bandwidth: 2.00 Hz (-6 dB cutoff frequency: 3.00 Hz)\n",
      "- Upper passband edge: 38.00 Hz\n",
      "- Upper transition bandwidth: 9.50 Hz (-6 dB cutoff frequency: 42.75 Hz)\n",
      "- Filter length: 413 samples (1.652 s)\n",
      "\n"
     ]
    },
    {
     "name": "stderr",
     "output_type": "stream",
     "text": [
      "[Parallel(n_jobs=1)]: Done  17 tasks      | elapsed:    0.1s\n",
      "[Parallel(n_jobs=1)]: Done  71 tasks      | elapsed:    0.7s\n"
     ]
    },
    {
     "name": "stdout",
     "output_type": "stream",
     "text": [
      "Filtering raw data in 1 contiguous segment\n",
      "Setting up band-pass filter from 4 - 38 Hz\n",
      "\n",
      "FIR filter parameters\n",
      "---------------------\n",
      "Designing a one-pass, zero-phase, non-causal bandpass filter:\n",
      "- Windowed time-domain design (firwin) method\n",
      "- Hamming window with 0.0194 passband ripple and 53 dB stopband attenuation\n",
      "- Lower passband edge: 4.00\n",
      "- Lower transition bandwidth: 2.00 Hz (-6 dB cutoff frequency: 3.00 Hz)\n",
      "- Upper passband edge: 38.00 Hz\n",
      "- Upper transition bandwidth: 9.50 Hz (-6 dB cutoff frequency: 42.75 Hz)\n",
      "- Filter length: 413 samples (1.652 s)\n",
      "\n"
     ]
    },
    {
     "name": "stderr",
     "output_type": "stream",
     "text": [
      "[Parallel(n_jobs=1)]: Done  17 tasks      | elapsed:    0.1s\n",
      "[Parallel(n_jobs=1)]: Done  71 tasks      | elapsed:    0.6s\n"
     ]
    },
    {
     "name": "stdout",
     "output_type": "stream",
     "text": [
      "Filtering raw data in 1 contiguous segment\n",
      "Setting up band-pass filter from 4 - 38 Hz\n",
      "\n",
      "FIR filter parameters\n",
      "---------------------\n",
      "Designing a one-pass, zero-phase, non-causal bandpass filter:\n",
      "- Windowed time-domain design (firwin) method\n",
      "- Hamming window with 0.0194 passband ripple and 53 dB stopband attenuation\n",
      "- Lower passband edge: 4.00\n",
      "- Lower transition bandwidth: 2.00 Hz (-6 dB cutoff frequency: 3.00 Hz)\n",
      "- Upper passband edge: 38.00 Hz\n",
      "- Upper transition bandwidth: 9.50 Hz (-6 dB cutoff frequency: 42.75 Hz)\n",
      "- Filter length: 413 samples (1.652 s)\n",
      "\n"
     ]
    },
    {
     "name": "stderr",
     "output_type": "stream",
     "text": [
      "[Parallel(n_jobs=1)]: Done  17 tasks      | elapsed:    0.0s\n",
      "[Parallel(n_jobs=1)]: Done  71 tasks      | elapsed:    0.3s\n"
     ]
    },
    {
     "name": "stdout",
     "output_type": "stream",
     "text": [
      "Filtering raw data in 4 contiguous segments\n",
      "Setting up band-pass filter from 4 - 38 Hz\n",
      "\n",
      "FIR filter parameters\n",
      "---------------------\n",
      "Designing a one-pass, zero-phase, non-causal bandpass filter:\n",
      "- Windowed time-domain design (firwin) method\n",
      "- Hamming window with 0.0194 passband ripple and 53 dB stopband attenuation\n",
      "- Lower passband edge: 4.00\n",
      "- Lower transition bandwidth: 2.00 Hz (-6 dB cutoff frequency: 3.00 Hz)\n",
      "- Upper passband edge: 38.00 Hz\n",
      "- Upper transition bandwidth: 9.50 Hz (-6 dB cutoff frequency: 42.75 Hz)\n",
      "- Filter length: 413 samples (1.652 s)\n",
      "\n"
     ]
    },
    {
     "name": "stderr",
     "output_type": "stream",
     "text": [
      "[Parallel(n_jobs=1)]: Done  17 tasks      | elapsed:    0.0s\n",
      "[Parallel(n_jobs=1)]: Done  71 tasks      | elapsed:    0.4s\n"
     ]
    },
    {
     "name": "stdout",
     "output_type": "stream",
     "text": [
      "Filtering raw data in 3 contiguous segments\n",
      "Setting up band-pass filter from 4 - 38 Hz\n",
      "\n",
      "FIR filter parameters\n",
      "---------------------\n",
      "Designing a one-pass, zero-phase, non-causal bandpass filter:\n",
      "- Windowed time-domain design (firwin) method\n",
      "- Hamming window with 0.0194 passband ripple and 53 dB stopband attenuation\n",
      "- Lower passband edge: 4.00\n",
      "- Lower transition bandwidth: 2.00 Hz (-6 dB cutoff frequency: 3.00 Hz)\n",
      "- Upper passband edge: 38.00 Hz\n",
      "- Upper transition bandwidth: 9.50 Hz (-6 dB cutoff frequency: 42.75 Hz)\n",
      "- Filter length: 413 samples (1.652 s)\n",
      "\n"
     ]
    },
    {
     "name": "stderr",
     "output_type": "stream",
     "text": [
      "[Parallel(n_jobs=1)]: Done  17 tasks      | elapsed:    0.0s\n",
      "[Parallel(n_jobs=1)]: Done  71 tasks      | elapsed:    0.4s\n"
     ]
    }
   ],
   "source": [
    "for data in sbj_records:\n",
    "    data.filter(l_freq=4, h_freq=38, method='fir')"
   ]
  },
  {
   "attachments": {},
   "cell_type": "markdown",
   "id": "8aec107f-a0ec-4166-8289-14111796e982",
   "metadata": {},
   "source": [
    "**Mark FP1 as bad channel and interpolate using other channels**"
   ]
  },
  {
   "cell_type": "code",
   "execution_count": 9,
   "id": "0f1ea917-8849-45be-9857-c8a7e278fb3e",
   "metadata": {},
   "outputs": [],
   "source": [
    "bad_channels = ['FP1']"
   ]
  },
  {
   "cell_type": "code",
   "execution_count": 10,
   "id": "302becef-22f3-4bbb-9d7d-953f712e01e4",
   "metadata": {},
   "outputs": [],
   "source": [
    "sbj_records[3].info['bads'] = bad_channels"
   ]
  },
  {
   "cell_type": "code",
   "execution_count": 11,
   "id": "1a01fbad-5d84-4db0-937c-aedc1eb89337",
   "metadata": {},
   "outputs": [
    {
     "name": "stdout",
     "output_type": "stream",
     "text": [
      "Setting channel interpolation method to {'eeg': 'spline'}.\n",
      "Interpolating bad channels.\n",
      "    Automatic origin fit: head of radius 96.5 mm\n",
      "Computing interpolation matrix from 121 sensor positions\n",
      "Interpolating 1 sensors\n"
     ]
    },
    {
     "data": {
      "text/html": [
       "<details open>\n",
       "    <summary><strong>General</strong></summary>\n",
       "    <table class=\"table table-hover table-striped table-sm table-responsive small\">\n",
       "        <tr>\n",
       "            <th>Measurement date</th>\n",
       "            \n",
       "            <td>November 09, 2019  17:47:34 GMT</td>\n",
       "            \n",
       "        </tr>\n",
       "        <tr>\n",
       "            <th>Experimenter</th>\n",
       "            \n",
       "            <td>Unknown</td>\n",
       "            \n",
       "        </tr>\n",
       "        <tr>\n",
       "            <th>Participant</th>\n",
       "            \n",
       "            <td>Unknown</td>\n",
       "            \n",
       "        </tr>\n",
       "    </table>\n",
       "    </details>\n",
       "    <details open>\n",
       "        <summary><strong>Channels</strong></summary>\n",
       "        <table class=\"table table-hover table-striped table-sm table-responsive small\">\n",
       "            <tr>\n",
       "                <th>Digitized points</th>\n",
       "                \n",
       "                <td>125 points</td>\n",
       "                \n",
       "            </tr>\n",
       "            <tr>\n",
       "                <th>Good channels</th>\n",
       "                <td>122 EEG, 10 misc</td>\n",
       "            </tr>\n",
       "            <tr>\n",
       "                <th>Bad channels</th>\n",
       "                <td>None</td>\n",
       "            </tr>\n",
       "            <tr>\n",
       "                <th>EOG channels</th>\n",
       "                <td>Not available</td>\n",
       "            </tr>\n",
       "            <tr>\n",
       "                <th>ECG channels</th>\n",
       "                <td>Not available</td>\n",
       "            </tr>\n",
       "        </table>\n",
       "        </details>\n",
       "        <details open>\n",
       "            <summary><strong>Data</strong></summary>\n",
       "            <table class=\"table table-hover table-striped table-sm table-responsive small\">\n",
       "                \n",
       "                <tr>\n",
       "                    <th>Sampling frequency</th>\n",
       "                    <td>250.00 Hz</td>\n",
       "                </tr>\n",
       "                \n",
       "                \n",
       "                <tr>\n",
       "                    <th>Highpass</th>\n",
       "                    <td>4.00 Hz</td>\n",
       "                </tr>\n",
       "                \n",
       "                \n",
       "                <tr>\n",
       "                    <th>Lowpass</th>\n",
       "                    <td>38.00 Hz</td>\n",
       "                </tr>\n",
       "                \n",
       "                \n",
       "                \n",
       "                <tr>\n",
       "                    <th>Filenames</th>\n",
       "                    <td>motor.dat</td>\n",
       "                </tr>\n",
       "                \n",
       "                \n",
       "                <tr>\n",
       "                    <th>Duration</th>\n",
       "                    <td>00:16:23 (HH:MM:SS)</td>\n",
       "                </tr>\n",
       "                \n",
       "            </table>\n",
       "            </details>"
      ],
      "text/plain": [
       "<RawCurry | motor.dat, 132 x 245575 (982.3 s), ~247.5 MB, data loaded>"
      ]
     },
     "execution_count": 11,
     "metadata": {},
     "output_type": "execute_result"
    }
   ],
   "source": [
    "sbj_records[3].interpolate_bads(reset_bads=True)"
   ]
  },
  {
   "cell_type": "markdown",
   "id": "05b067c3-fb3c-4d27-9a4a-95769a5b9d03",
   "metadata": {},
   "source": [
    "**re-referencing using averaging method**"
   ]
  },
  {
   "cell_type": "code",
   "execution_count": 12,
   "id": "c70590e9-84aa-465f-bef2-3114ec6afd3f",
   "metadata": {},
   "outputs": [
    {
     "name": "stdout",
     "output_type": "stream",
     "text": [
      "EEG channel type selected for re-referencing\n",
      "Adding average EEG reference projection.\n",
      "1 projection items deactivated\n",
      "Average reference projection was added, but has not been applied yet. Use the apply_proj method to apply it.\n",
      "EEG channel type selected for re-referencing\n",
      "Adding average EEG reference projection.\n",
      "1 projection items deactivated\n",
      "Average reference projection was added, but has not been applied yet. Use the apply_proj method to apply it.\n",
      "EEG channel type selected for re-referencing\n",
      "Adding average EEG reference projection.\n",
      "1 projection items deactivated\n",
      "Average reference projection was added, but has not been applied yet. Use the apply_proj method to apply it.\n",
      "EEG channel type selected for re-referencing\n",
      "Adding average EEG reference projection.\n",
      "1 projection items deactivated\n",
      "Average reference projection was added, but has not been applied yet. Use the apply_proj method to apply it.\n",
      "EEG channel type selected for re-referencing\n",
      "Adding average EEG reference projection.\n",
      "1 projection items deactivated\n",
      "Average reference projection was added, but has not been applied yet. Use the apply_proj method to apply it.\n",
      "EEG channel type selected for re-referencing\n",
      "Adding average EEG reference projection.\n",
      "1 projection items deactivated\n",
      "Average reference projection was added, but has not been applied yet. Use the apply_proj method to apply it.\n"
     ]
    }
   ],
   "source": [
    "for sbj in sbj_records:\n",
    "    sbj.set_eeg_reference(ref_channels='average', projection=True)"
   ]
  },
  {
   "cell_type": "markdown",
   "id": "8b08d6bc-1216-41e0-a44e-97b0588a970b",
   "metadata": {},
   "source": [
    "**apply epochs which range are [-2, 6]**"
   ]
  },
  {
   "cell_type": "code",
   "execution_count": 13,
   "id": "80096bb5-2891-4c15-a76b-487ea59b1df9",
   "metadata": {},
   "outputs": [
    {
     "name": "stdout",
     "output_type": "stream",
     "text": [
      "Used Annotations descriptions: ['1', '2', '700010']\n",
      "Not setting metadata\n",
      "242 matching events found\n",
      "No baseline correction applied\n",
      "Created an SSP operator (subspace dimension = 1)\n",
      "1 projection items activated\n",
      "Used Annotations descriptions: ['1', '2']\n",
      "Not setting metadata\n",
      "160 matching events found\n",
      "No baseline correction applied\n",
      "Created an SSP operator (subspace dimension = 1)\n",
      "1 projection items activated\n",
      "Used Annotations descriptions: ['1', '2', '800000', '800001']\n",
      "Multiple event values for single event times found. Creating new event value to reflect simultaneous events.\n",
      "Not setting metadata\n",
      "163 matching events found\n",
      "No baseline correction applied\n",
      "Created an SSP operator (subspace dimension = 1)\n",
      "1 projection items activated\n",
      "Used Annotations descriptions: ['1', '2', '800000', '800001']\n",
      "Multiple event values for single event times found. Creating new event value to reflect simultaneous events.\n",
      "Not setting metadata\n",
      "81 matching events found\n",
      "No baseline correction applied\n",
      "Created an SSP operator (subspace dimension = 1)\n",
      "1 projection items activated\n",
      "Used Annotations descriptions: ['1', '2', '800000', '800001']\n",
      "Multiple event values for single event times found. Creating new event value to reflect simultaneous events.\n",
      "Not setting metadata\n",
      "235 matching events found\n",
      "No baseline correction applied\n",
      "Created an SSP operator (subspace dimension = 1)\n",
      "1 projection items activated\n",
      "Used Annotations descriptions: ['1', '2']\n",
      "Not setting metadata\n",
      "240 matching events found\n",
      "No baseline correction applied\n",
      "Created an SSP operator (subspace dimension = 1)\n",
      "1 projection items activated\n"
     ]
    }
   ],
   "source": [
    "epochs = []\n",
    "for sbj in sbj_records:\n",
    "    # events = mne.make_fixed_length_events(sbj, duration=8.0)\n",
    "    epochs.append(mne.Epochs(sbj, tmin=-2, tmax=6, baseline=None, detrend=1, event_repeated='merge'))"
   ]
  },
  {
   "cell_type": "markdown",
   "id": "003c7352-b232-4ee4-bcd5-22033ced2a9f",
   "metadata": {},
   "source": [
    "**delete epochs which are greater than 2$\\sigma$ of all channels**"
   ]
  },
  {
   "cell_type": "code",
   "execution_count": 14,
   "id": "86bc5722-db3c-4a9e-b47d-5c802d90b962",
   "metadata": {},
   "outputs": [
    {
     "name": "stdout",
     "output_type": "stream",
     "text": [
      "Using data from preloaded Raw for 242 events and 2001 original time points ...\n",
      "0 bad epochs dropped\n",
      "Using data from preloaded Raw for 242 events and 2001 original time points ...\n",
      "    Rejecting  epoch based on EEG : ['FT9']\n",
      "    Rejecting  epoch based on EEG : ['FT9']\n",
      "2 bad epochs dropped\n",
      "Using data from preloaded Raw for 160 events and 2001 original time points ...\n",
      "0 bad epochs dropped\n",
      "Using data from preloaded Raw for 160 events and 2001 original time points ...\n",
      "0 bad epochs dropped\n",
      "Using data from preloaded Raw for 163 events and 2001 original time points ...\n",
      "0 bad epochs dropped\n",
      "Using data from preloaded Raw for 163 events and 2001 original time points ...\n",
      "    Rejecting  epoch based on EEG : ['POO12h']\n",
      "    Rejecting  epoch based on EEG : ['POO12h']\n",
      "    Rejecting  epoch based on EEG : ['POO12h']\n",
      "    Rejecting  epoch based on EEG : ['POO12h']\n",
      "    Rejecting  epoch based on EEG : ['POO12h']\n",
      "    Rejecting  epoch based on EEG : ['P12']\n",
      "    Rejecting  epoch based on EEG : ['P12']\n",
      "7 bad epochs dropped\n",
      "Using data from preloaded Raw for 81 events and 2001 original time points ...\n",
      "0 bad epochs dropped\n",
      "Using data from preloaded Raw for 81 events and 2001 original time points ...\n",
      "    Rejecting  epoch based on EEG : ['FT9']\n",
      "    Rejecting  epoch based on EEG : ['FT9']\n",
      "2 bad epochs dropped\n",
      "Using data from preloaded Raw for 235 events and 2001 original time points ...\n",
      "0 bad epochs dropped\n",
      "Using data from preloaded Raw for 235 events and 2001 original time points ...\n",
      "0 bad epochs dropped\n",
      "Using data from preloaded Raw for 240 events and 2001 original time points ...\n",
      "0 bad epochs dropped\n",
      "Using data from preloaded Raw for 240 events and 2001 original time points ...\n",
      "0 bad epochs dropped\n"
     ]
    }
   ],
   "source": [
    "clean_epochs = []\n",
    "for sbj_epoch in epochs:\n",
    "    all_data = sbj_epoch.get_data()\n",
    "    threshold = 2 * np.std(all_data)\n",
    "    reject_criteria = dict(eeg=threshold)\n",
    "    sbj_epoch.drop_bad(reject=reject_criteria)\n",
    "    clean_epochs.append(sbj_epoch)"
   ]
  },
  {
   "cell_type": "code",
   "execution_count": 15,
   "id": "ca22b0ce-54e7-465f-8549-634cc6abd471",
   "metadata": {},
   "outputs": [
    {
     "data": {
      "text/html": [
       "<details open>\n",
       "    <summary><strong>General</strong></summary>\n",
       "    <table class=\"table table-hover table-striped table-sm table-responsive small\">\n",
       "        <tr>\n",
       "            <th>Measurement date</th>\n",
       "            \n",
       "            <td>October 08, 2019  15:18:19 GMT</td>\n",
       "            \n",
       "        </tr>\n",
       "        <tr>\n",
       "            <th>Experimenter</th>\n",
       "            \n",
       "            <td>Unknown</td>\n",
       "            \n",
       "        </tr>\n",
       "        <tr>\n",
       "            <th>Participant</th>\n",
       "            \n",
       "            <td>Unknown</td>\n",
       "            \n",
       "        </tr>\n",
       "    </table>\n",
       "    </details>\n",
       "    <details open>\n",
       "        <summary><strong>Channels</strong></summary>\n",
       "        <table class=\"table table-hover table-striped table-sm table-responsive small\">\n",
       "            <tr>\n",
       "                <th>Digitized points</th>\n",
       "                \n",
       "                <td>125 points</td>\n",
       "                \n",
       "            </tr>\n",
       "            <tr>\n",
       "                <th>Good channels</th>\n",
       "                <td>122 EEG, 10 misc</td>\n",
       "            </tr>\n",
       "            <tr>\n",
       "                <th>Bad channels</th>\n",
       "                <td>None</td>\n",
       "            </tr>\n",
       "            <tr>\n",
       "                <th>EOG channels</th>\n",
       "                <td>Not available</td>\n",
       "            </tr>\n",
       "            <tr>\n",
       "                <th>ECG channels</th>\n",
       "                <td>Not available</td>\n",
       "            </tr>\n",
       "        </table>\n",
       "        </details>\n",
       "        <details open>\n",
       "            <summary><strong>Data</strong></summary>\n",
       "            <table class=\"table table-hover table-striped table-sm table-responsive small\">\n",
       "                \n",
       "                <tr>\n",
       "                    <th>Sampling frequency</th>\n",
       "                    <td>250.00 Hz</td>\n",
       "                </tr>\n",
       "                \n",
       "                \n",
       "                <tr>\n",
       "                    <th>Highpass</th>\n",
       "                    <td>4.00 Hz</td>\n",
       "                </tr>\n",
       "                \n",
       "                \n",
       "                <tr>\n",
       "                    <th>Lowpass</th>\n",
       "                    <td>38.00 Hz</td>\n",
       "                </tr>\n",
       "                \n",
       "                \n",
       "                <tr>\n",
       "                    <th>Projections</th>\n",
       "                    <td>Average EEG reference : on</td>\n",
       "                </tr>\n",
       "                \n",
       "                \n",
       "                \n",
       "            </table>\n",
       "            </details>"
      ],
      "text/plain": [
       "<Info | 9 non-empty values\n",
       " bads: []\n",
       " ch_names: T9, FT9, FTT9h, T7, TP7, TTP7h, C5, FTT7h, Ft7, FFT7h, FC5, ...\n",
       " chs: 122 EEG, 10 misc\n",
       " custom_ref_applied: False\n",
       " dig: 125 items (3 Cardinal, 122 EEG)\n",
       " highpass: 4.0 Hz\n",
       " lowpass: 38.0 Hz\n",
       " meas_date: 2019-10-08 15:18:19 UTC\n",
       " nchan: 132\n",
       " projs: Average EEG reference: on\n",
       " sfreq: 250.0 Hz\n",
       ">"
      ]
     },
     "execution_count": 15,
     "metadata": {},
     "output_type": "execute_result"
    }
   ],
   "source": [
    "clean_epochs[0].info"
   ]
  },
  {
   "cell_type": "markdown",
   "id": "a3e26145-3680-466c-83b8-1cf44726b701",
   "metadata": {},
   "source": [
    "**apply ICA filter on each epoch**"
   ]
  },
  {
   "cell_type": "code",
   "execution_count": 16,
   "id": "67161c8c-e749-48d7-ae14-b57bf6a8b180",
   "metadata": {},
   "outputs": [],
   "source": [
    "ica = mne.preprocessing.ICA(n_components=20)"
   ]
  },
  {
   "cell_type": "code",
   "execution_count": 17,
   "id": "d7d9b231-5136-4fa0-aef4-126769e1932a",
   "metadata": {},
   "outputs": [
    {
     "name": "stdout",
     "output_type": "stream",
     "text": [
      "Fitting ICA to data using 122 channels (please be patient, this may take a while)\n",
      "Using data from preloaded Raw for 240 events and 2001 original time points ...\n",
      "    Applying projection operator with 1 vector (pre-whitener computation)\n",
      "    Applying projection operator with 1 vector (pre-whitener application)\n",
      "Selecting by number: 20 components\n",
      "Using data from preloaded Raw for 240 events and 2001 original time points ...\n",
      "    Applying projection operator with 1 vector (pre-whitener application)\n",
      "Fitting ICA took 24.5s.\n",
      "Fitting ICA to data using 122 channels (please be patient, this may take a while)\n",
      "Using data from preloaded Raw for 160 events and 2001 original time points ...\n",
      "    Applying projection operator with 1 vector (pre-whitener computation)\n",
      "    Applying projection operator with 1 vector (pre-whitener application)\n",
      "Selecting by number: 20 components\n",
      "Using data from preloaded Raw for 160 events and 2001 original time points ...\n",
      "    Applying projection operator with 1 vector (pre-whitener application)\n",
      "Fitting ICA took 15.6s.\n",
      "Fitting ICA to data using 122 channels (please be patient, this may take a while)\n",
      "Using data from preloaded Raw for 156 events and 2001 original time points ...\n",
      "    Applying projection operator with 1 vector (pre-whitener computation)\n",
      "    Applying projection operator with 1 vector (pre-whitener application)\n",
      "Selecting by number: 20 components\n",
      "Using data from preloaded Raw for 156 events and 2001 original time points ...\n",
      "    Applying projection operator with 1 vector (pre-whitener application)\n",
      "Fitting ICA took 20.4s.\n",
      "Fitting ICA to data using 122 channels (please be patient, this may take a while)\n",
      "Using data from preloaded Raw for 79 events and 2001 original time points ...\n",
      "    Applying projection operator with 1 vector (pre-whitener computation)\n",
      "    Applying projection operator with 1 vector (pre-whitener application)\n",
      "Selecting by number: 20 components\n",
      "Using data from preloaded Raw for 79 events and 2001 original time points ...\n",
      "    Applying projection operator with 1 vector (pre-whitener application)\n",
      "Fitting ICA took 8.6s.\n",
      "Fitting ICA to data using 122 channels (please be patient, this may take a while)\n",
      "Using data from preloaded Raw for 235 events and 2001 original time points ...\n",
      "    Applying projection operator with 1 vector (pre-whitener computation)\n",
      "    Applying projection operator with 1 vector (pre-whitener application)\n",
      "Selecting by number: 20 components\n",
      "Using data from preloaded Raw for 235 events and 2001 original time points ...\n",
      "    Applying projection operator with 1 vector (pre-whitener application)\n",
      "Fitting ICA took 23.3s.\n",
      "Fitting ICA to data using 122 channels (please be patient, this may take a while)\n",
      "Using data from preloaded Raw for 240 events and 2001 original time points ...\n",
      "    Applying projection operator with 1 vector (pre-whitener computation)\n",
      "    Applying projection operator with 1 vector (pre-whitener application)\n",
      "Selecting by number: 20 components\n",
      "Using data from preloaded Raw for 240 events and 2001 original time points ...\n",
      "    Applying projection operator with 1 vector (pre-whitener application)\n",
      "Fitting ICA took 37.5s.\n"
     ]
    }
   ],
   "source": [
    "for sbj_epoch in clean_epochs:\n",
    "    sbj_epoch = ica.fit(sbj_epoch)"
   ]
  },
  {
   "cell_type": "markdown",
   "id": "0c19c4a5-bd14-4a4f-ae2e-99ed8a453e85",
   "metadata": {},
   "source": [
    "**select channels**"
   ]
  },
  {
   "cell_type": "code",
   "execution_count": 18,
   "id": "29a79554-a2f4-4603-9ea2-6021340b9444",
   "metadata": {},
   "outputs": [
    {
     "name": "stdout",
     "output_type": "stream",
     "text": [
      "Using data from preloaded Raw for 240 events and 2001 original time points ...\n",
      "NOTE: pick_channels() is a legacy function. New code should use inst.pick(...).\n",
      "Using data from preloaded Raw for 160 events and 2001 original time points ...\n",
      "NOTE: pick_channels() is a legacy function. New code should use inst.pick(...).\n",
      "Using data from preloaded Raw for 156 events and 2001 original time points ...\n",
      "NOTE: pick_channels() is a legacy function. New code should use inst.pick(...).\n",
      "Using data from preloaded Raw for 79 events and 2001 original time points ...\n",
      "NOTE: pick_channels() is a legacy function. New code should use inst.pick(...).\n",
      "Using data from preloaded Raw for 235 events and 2001 original time points ...\n",
      "NOTE: pick_channels() is a legacy function. New code should use inst.pick(...).\n",
      "Using data from preloaded Raw for 240 events and 2001 original time points ...\n",
      "NOTE: pick_channels() is a legacy function. New code should use inst.pick(...).\n"
     ]
    }
   ],
   "source": [
    "selected = []\n",
    "for sbj_epoch in clean_epochs:\n",
    "    sbj_epoch.load_data() \n",
    "    sbj_epoch_copy = sbj_epoch.copy()\n",
    "    selected.append(sbj_epoch_copy.pick_channels(['T9','T10','C3','C4','LF','LB','LOU','LOD','RF','RB','ROU','ROD']))"
   ]
  },
  {
   "cell_type": "markdown",
   "id": "1b65b5ee-3f42-46e6-aa22-6d62895458f0",
   "metadata": {},
   "source": [
    "**calculate the PSD of each epochs**"
   ]
  },
  {
   "cell_type": "code",
   "execution_count": 19,
   "id": "b13d5a46-0062-4312-8cdd-f0a93cb4bf37",
   "metadata": {},
   "outputs": [],
   "source": [
    "ear_scalp = {\n",
    "    'theta': [],\n",
    "    'alpha': [],\n",
    "    'batha': [], \n",
    "    'low gamma':[]\n",
    "}\n",
    "ear_motor = {\n",
    "    'theta': [],\n",
    "    'alpha': [],\n",
    "    'batha': [], \n",
    "    'low gamma':[]\n",
    "}"
   ]
  },
  {
   "cell_type": "code",
   "execution_count": 20,
   "id": "99d73c87-406b-4049-a5fb-9414f11708d4",
   "metadata": {
    "scrolled": true
   },
   "outputs": [
    {
     "name": "stdout",
     "output_type": "stream",
     "text": [
      "Effective window size : 1.024 (s)\n",
      "Effective window size : 1.024 (s)\n",
      "Effective window size : 1.024 (s)\n",
      "Effective window size : 1.024 (s)\n",
      "Effective window size : 1.024 (s)\n",
      "Effective window size : 1.024 (s)\n",
      "Effective window size : 1.024 (s)\n",
      "Effective window size : 1.024 (s)\n",
      "Effective window size : 1.024 (s)\n",
      "Effective window size : 1.024 (s)\n",
      "Effective window size : 1.024 (s)\n",
      "Effective window size : 1.024 (s)\n",
      "Effective window size : 1.024 (s)\n",
      "Effective window size : 1.024 (s)\n",
      "Effective window size : 1.024 (s)\n",
      "Effective window size : 1.024 (s)\n",
      "Effective window size : 1.024 (s)\n",
      "Effective window size : 1.024 (s)\n",
      "Effective window size : 1.024 (s)\n",
      "Effective window size : 1.024 (s)\n",
      "Effective window size : 1.024 (s)\n",
      "Effective window size : 1.024 (s)\n",
      "Effective window size : 1.024 (s)\n",
      "Effective window size : 1.024 (s)\n",
      "Effective window size : 1.024 (s)\n",
      "Effective window size : 1.024 (s)\n",
      "Effective window size : 1.024 (s)\n",
      "Effective window size : 1.024 (s)\n",
      "Effective window size : 1.024 (s)\n",
      "Effective window size : 1.024 (s)\n",
      "Effective window size : 1.024 (s)\n",
      "Effective window size : 1.024 (s)\n",
      "Effective window size : 1.024 (s)\n",
      "Effective window size : 1.024 (s)\n",
      "Effective window size : 1.024 (s)\n",
      "Effective window size : 1.024 (s)\n",
      "Effective window size : 1.024 (s)\n",
      "Effective window size : 1.024 (s)\n",
      "Effective window size : 1.024 (s)\n",
      "Effective window size : 1.024 (s)\n",
      "Effective window size : 1.024 (s)\n",
      "Effective window size : 1.024 (s)\n",
      "Effective window size : 1.024 (s)\n",
      "Effective window size : 1.024 (s)\n",
      "Effective window size : 1.024 (s)\n",
      "Effective window size : 1.024 (s)\n",
      "Effective window size : 1.024 (s)\n",
      "Effective window size : 1.024 (s)\n",
      "Effective window size : 1.024 (s)\n",
      "Effective window size : 1.024 (s)\n",
      "Effective window size : 1.024 (s)\n",
      "Effective window size : 1.024 (s)\n",
      "Effective window size : 1.024 (s)\n",
      "Effective window size : 1.024 (s)\n",
      "Effective window size : 1.024 (s)\n",
      "Effective window size : 1.024 (s)\n",
      "Effective window size : 1.024 (s)\n",
      "Effective window size : 1.024 (s)\n",
      "Effective window size : 1.024 (s)\n",
      "Effective window size : 1.024 (s)\n",
      "Effective window size : 1.024 (s)\n",
      "Effective window size : 1.024 (s)\n",
      "Effective window size : 1.024 (s)\n",
      "Effective window size : 1.024 (s)\n",
      "Effective window size : 1.024 (s)\n",
      "Effective window size : 1.024 (s)\n",
      "Effective window size : 1.024 (s)\n",
      "Effective window size : 1.024 (s)\n",
      "Effective window size : 1.024 (s)\n",
      "Effective window size : 1.024 (s)\n",
      "Effective window size : 1.024 (s)\n",
      "Effective window size : 1.024 (s)\n",
      "Effective window size : 1.024 (s)\n",
      "Effective window size : 1.024 (s)\n",
      "Effective window size : 1.024 (s)\n",
      "Effective window size : 1.024 (s)\n",
      "Effective window size : 1.024 (s)\n",
      "Effective window size : 1.024 (s)\n",
      "Effective window size : 1.024 (s)\n",
      "Effective window size : 1.024 (s)\n",
      "Effective window size : 1.024 (s)\n",
      "Effective window size : 1.024 (s)\n",
      "Effective window size : 1.024 (s)\n",
      "Effective window size : 1.024 (s)\n",
      "Effective window size : 1.024 (s)\n",
      "Effective window size : 1.024 (s)\n",
      "Effective window size : 1.024 (s)\n",
      "Effective window size : 1.024 (s)\n",
      "Effective window size : 1.024 (s)\n",
      "Effective window size : 1.024 (s)\n",
      "Effective window size : 1.024 (s)\n",
      "Effective window size : 1.024 (s)\n",
      "Effective window size : 1.024 (s)\n",
      "Effective window size : 1.024 (s)\n",
      "Effective window size : 1.024 (s)\n",
      "Effective window size : 1.024 (s)\n",
      "Effective window size : 1.024 (s)\n",
      "Effective window size : 1.024 (s)\n",
      "Effective window size : 1.024 (s)\n",
      "Effective window size : 1.024 (s)\n",
      "Effective window size : 1.024 (s)\n",
      "Effective window size : 1.024 (s)\n",
      "Effective window size : 1.024 (s)\n",
      "Effective window size : 1.024 (s)\n",
      "Effective window size : 1.024 (s)\n",
      "Effective window size : 1.024 (s)\n",
      "Effective window size : 1.024 (s)\n",
      "Effective window size : 1.024 (s)\n",
      "Effective window size : 1.024 (s)\n",
      "Effective window size : 1.024 (s)\n",
      "Effective window size : 1.024 (s)\n",
      "Effective window size : 1.024 (s)\n",
      "Effective window size : 1.024 (s)\n",
      "Effective window size : 1.024 (s)\n",
      "Effective window size : 1.024 (s)\n",
      "Effective window size : 1.024 (s)\n",
      "Effective window size : 1.024 (s)\n",
      "Effective window size : 1.024 (s)\n",
      "Effective window size : 1.024 (s)\n",
      "Effective window size : 1.024 (s)\n",
      "Effective window size : 1.024 (s)\n",
      "Effective window size : 1.024 (s)\n",
      "Effective window size : 1.024 (s)\n",
      "Effective window size : 1.024 (s)\n",
      "Effective window size : 1.024 (s)\n",
      "Effective window size : 1.024 (s)\n",
      "Effective window size : 1.024 (s)\n",
      "Effective window size : 1.024 (s)\n",
      "Effective window size : 1.024 (s)\n",
      "Effective window size : 1.024 (s)\n",
      "Effective window size : 1.024 (s)\n",
      "Effective window size : 1.024 (s)\n",
      "Effective window size : 1.024 (s)\n",
      "Effective window size : 1.024 (s)\n",
      "Effective window size : 1.024 (s)\n",
      "Effective window size : 1.024 (s)\n",
      "Effective window size : 1.024 (s)\n",
      "Effective window size : 1.024 (s)\n",
      "Effective window size : 1.024 (s)\n",
      "Effective window size : 1.024 (s)\n",
      "Effective window size : 1.024 (s)\n",
      "Effective window size : 1.024 (s)\n",
      "Effective window size : 1.024 (s)\n",
      "Effective window size : 1.024 (s)\n",
      "Effective window size : 1.024 (s)\n",
      "Effective window size : 1.024 (s)\n",
      "Effective window size : 1.024 (s)\n",
      "Effective window size : 1.024 (s)\n",
      "Effective window size : 1.024 (s)\n",
      "Effective window size : 1.024 (s)\n",
      "Effective window size : 1.024 (s)\n",
      "Effective window size : 1.024 (s)\n",
      "Effective window size : 1.024 (s)\n",
      "Effective window size : 1.024 (s)\n",
      "Effective window size : 1.024 (s)\n",
      "Effective window size : 1.024 (s)\n",
      "Effective window size : 1.024 (s)\n",
      "Effective window size : 1.024 (s)\n",
      "Effective window size : 1.024 (s)\n",
      "Effective window size : 1.024 (s)\n",
      "Effective window size : 1.024 (s)\n",
      "Effective window size : 1.024 (s)\n",
      "Effective window size : 1.024 (s)\n",
      "Effective window size : 1.024 (s)\n",
      "Effective window size : 1.024 (s)\n",
      "Effective window size : 1.024 (s)\n",
      "Effective window size : 1.024 (s)\n",
      "Effective window size : 1.024 (s)\n",
      "Effective window size : 1.024 (s)\n",
      "Effective window size : 1.024 (s)\n",
      "Effective window size : 1.024 (s)\n",
      "Effective window size : 1.024 (s)\n",
      "Effective window size : 1.024 (s)\n",
      "Effective window size : 1.024 (s)\n",
      "Effective window size : 1.024 (s)\n",
      "Effective window size : 1.024 (s)\n",
      "Effective window size : 1.024 (s)\n",
      "Effective window size : 1.024 (s)\n",
      "Effective window size : 1.024 (s)\n",
      "Effective window size : 1.024 (s)\n",
      "Effective window size : 1.024 (s)\n",
      "Effective window size : 1.024 (s)\n",
      "Effective window size : 1.024 (s)\n",
      "Effective window size : 1.024 (s)\n",
      "Effective window size : 1.024 (s)\n",
      "Effective window size : 1.024 (s)\n",
      "Effective window size : 1.024 (s)\n",
      "Effective window size : 1.024 (s)\n",
      "Effective window size : 1.024 (s)\n",
      "Effective window size : 1.024 (s)\n",
      "Effective window size : 1.024 (s)\n",
      "Effective window size : 1.024 (s)\n",
      "Effective window size : 1.024 (s)\n",
      "Effective window size : 1.024 (s)\n",
      "Effective window size : 1.024 (s)\n",
      "Effective window size : 1.024 (s)\n",
      "Effective window size : 1.024 (s)\n",
      "Effective window size : 1.024 (s)\n",
      "Effective window size : 1.024 (s)\n",
      "Effective window size : 1.024 (s)\n",
      "Effective window size : 1.024 (s)\n",
      "Effective window size : 1.024 (s)\n",
      "Effective window size : 1.024 (s)\n",
      "Effective window size : 1.024 (s)\n",
      "Effective window size : 1.024 (s)\n",
      "Effective window size : 1.024 (s)\n",
      "Effective window size : 1.024 (s)\n",
      "Effective window size : 1.024 (s)\n",
      "Effective window size : 1.024 (s)\n",
      "Effective window size : 1.024 (s)\n",
      "Effective window size : 1.024 (s)\n",
      "Effective window size : 1.024 (s)\n",
      "Effective window size : 1.024 (s)\n",
      "Effective window size : 1.024 (s)\n",
      "Effective window size : 1.024 (s)\n",
      "Effective window size : 1.024 (s)\n",
      "Effective window size : 1.024 (s)\n",
      "Effective window size : 1.024 (s)\n",
      "Effective window size : 1.024 (s)\n",
      "Effective window size : 1.024 (s)\n",
      "Effective window size : 1.024 (s)\n",
      "Effective window size : 1.024 (s)\n",
      "Effective window size : 1.024 (s)\n",
      "Effective window size : 1.024 (s)\n",
      "Effective window size : 1.024 (s)\n",
      "Effective window size : 1.024 (s)\n",
      "Effective window size : 1.024 (s)\n",
      "Effective window size : 1.024 (s)\n",
      "Effective window size : 1.024 (s)\n",
      "Effective window size : 1.024 (s)\n",
      "Effective window size : 1.024 (s)\n",
      "Effective window size : 1.024 (s)\n",
      "Effective window size : 1.024 (s)\n",
      "Effective window size : 1.024 (s)\n",
      "Effective window size : 1.024 (s)\n",
      "Effective window size : 1.024 (s)\n",
      "Effective window size : 1.024 (s)\n",
      "Effective window size : 1.024 (s)\n",
      "Effective window size : 1.024 (s)\n",
      "Effective window size : 1.024 (s)\n",
      "Effective window size : 1.024 (s)\n",
      "Effective window size : 1.024 (s)\n",
      "Effective window size : 1.024 (s)\n",
      "Effective window size : 1.024 (s)\n",
      "Effective window size : 1.024 (s)\n",
      "Effective window size : 1.024 (s)\n",
      "Effective window size : 1.024 (s)\n",
      "Effective window size : 1.024 (s)\n",
      "Effective window size : 1.024 (s)\n",
      "Effective window size : 1.024 (s)\n",
      "Effective window size : 1.024 (s)\n",
      "Effective window size : 1.024 (s)\n",
      "Effective window size : 1.024 (s)\n",
      "Effective window size : 1.024 (s)\n",
      "Effective window size : 1.024 (s)\n",
      "Effective window size : 1.024 (s)\n",
      "Effective window size : 1.024 (s)\n",
      "Effective window size : 1.024 (s)\n",
      "Effective window size : 1.024 (s)\n",
      "Effective window size : 1.024 (s)\n",
      "Effective window size : 1.024 (s)\n",
      "Effective window size : 1.024 (s)\n",
      "Effective window size : 1.024 (s)\n",
      "Effective window size : 1.024 (s)\n",
      "Effective window size : 1.024 (s)\n",
      "Effective window size : 1.024 (s)\n",
      "Effective window size : 1.024 (s)\n",
      "Effective window size : 1.024 (s)\n",
      "Effective window size : 1.024 (s)\n",
      "Effective window size : 1.024 (s)\n",
      "Effective window size : 1.024 (s)\n",
      "Effective window size : 1.024 (s)\n",
      "Effective window size : 1.024 (s)\n",
      "Effective window size : 1.024 (s)\n",
      "Effective window size : 1.024 (s)\n",
      "Effective window size : 1.024 (s)\n",
      "Effective window size : 1.024 (s)\n",
      "Effective window size : 1.024 (s)\n",
      "Effective window size : 1.024 (s)\n",
      "Effective window size : 1.024 (s)\n",
      "Effective window size : 1.024 (s)\n",
      "Effective window size : 1.024 (s)\n",
      "Effective window size : 1.024 (s)\n",
      "Effective window size : 1.024 (s)\n",
      "Effective window size : 1.024 (s)\n",
      "Effective window size : 1.024 (s)\n",
      "Effective window size : 1.024 (s)\n",
      "Effective window size : 1.024 (s)\n",
      "Effective window size : 1.024 (s)\n",
      "Effective window size : 1.024 (s)\n",
      "Effective window size : 1.024 (s)\n",
      "Effective window size : 1.024 (s)\n",
      "Effective window size : 1.024 (s)\n",
      "Effective window size : 1.024 (s)\n",
      "Effective window size : 1.024 (s)\n",
      "Effective window size : 1.024 (s)\n",
      "Effective window size : 1.024 (s)\n",
      "Effective window size : 1.024 (s)\n",
      "Effective window size : 1.024 (s)\n",
      "Effective window size : 1.024 (s)\n",
      "Effective window size : 1.024 (s)\n",
      "Effective window size : 1.024 (s)\n",
      "Effective window size : 1.024 (s)\n",
      "Effective window size : 1.024 (s)\n",
      "Effective window size : 1.024 (s)\n",
      "Effective window size : 1.024 (s)\n",
      "Effective window size : 1.024 (s)\n",
      "Effective window size : 1.024 (s)\n",
      "Effective window size : 1.024 (s)\n",
      "Effective window size : 1.024 (s)\n",
      "Effective window size : 1.024 (s)\n",
      "Effective window size : 1.024 (s)\n",
      "Effective window size : 1.024 (s)\n",
      "Effective window size : 1.024 (s)\n",
      "Effective window size : 1.024 (s)\n",
      "Effective window size : 1.024 (s)\n",
      "Effective window size : 1.024 (s)\n",
      "Effective window size : 1.024 (s)\n",
      "Effective window size : 1.024 (s)\n",
      "Effective window size : 1.024 (s)\n",
      "Effective window size : 1.024 (s)\n",
      "Effective window size : 1.024 (s)\n",
      "Effective window size : 1.024 (s)\n",
      "Effective window size : 1.024 (s)\n",
      "Effective window size : 1.024 (s)\n",
      "Effective window size : 1.024 (s)\n",
      "Effective window size : 1.024 (s)\n",
      "Effective window size : 1.024 (s)\n",
      "Effective window size : 1.024 (s)\n",
      "Effective window size : 1.024 (s)\n",
      "Effective window size : 1.024 (s)\n",
      "Effective window size : 1.024 (s)\n",
      "Effective window size : 1.024 (s)\n",
      "Effective window size : 1.024 (s)\n",
      "Effective window size : 1.024 (s)\n",
      "Effective window size : 1.024 (s)\n",
      "Effective window size : 1.024 (s)\n",
      "Effective window size : 1.024 (s)\n",
      "Effective window size : 1.024 (s)\n",
      "Effective window size : 1.024 (s)\n",
      "Effective window size : 1.024 (s)\n",
      "Effective window size : 1.024 (s)\n",
      "Effective window size : 1.024 (s)\n",
      "Effective window size : 1.024 (s)\n",
      "Effective window size : 1.024 (s)\n",
      "Effective window size : 1.024 (s)\n",
      "Effective window size : 1.024 (s)\n",
      "Effective window size : 1.024 (s)\n",
      "Effective window size : 1.024 (s)\n",
      "Effective window size : 1.024 (s)\n",
      "Effective window size : 1.024 (s)\n",
      "Effective window size : 1.024 (s)\n",
      "Effective window size : 1.024 (s)\n",
      "Effective window size : 1.024 (s)\n",
      "Effective window size : 1.024 (s)\n",
      "Effective window size : 1.024 (s)\n",
      "Effective window size : 1.024 (s)\n",
      "Effective window size : 1.024 (s)\n",
      "Effective window size : 1.024 (s)\n",
      "Effective window size : 1.024 (s)\n",
      "Effective window size : 1.024 (s)\n",
      "Effective window size : 1.024 (s)\n",
      "Effective window size : 1.024 (s)\n",
      "Effective window size : 1.024 (s)\n",
      "Effective window size : 1.024 (s)\n",
      "Effective window size : 1.024 (s)\n",
      "Effective window size : 1.024 (s)\n",
      "Effective window size : 1.024 (s)\n",
      "Effective window size : 1.024 (s)\n",
      "Effective window size : 1.024 (s)\n",
      "Effective window size : 1.024 (s)\n",
      "Effective window size : 1.024 (s)\n",
      "Effective window size : 1.024 (s)\n",
      "Effective window size : 1.024 (s)\n",
      "Effective window size : 1.024 (s)\n",
      "Effective window size : 1.024 (s)\n",
      "Effective window size : 1.024 (s)\n",
      "Effective window size : 1.024 (s)\n",
      "Effective window size : 1.024 (s)\n",
      "Effective window size : 1.024 (s)\n",
      "Effective window size : 1.024 (s)\n",
      "Effective window size : 1.024 (s)\n",
      "Effective window size : 1.024 (s)\n",
      "Effective window size : 1.024 (s)\n",
      "Effective window size : 1.024 (s)\n",
      "Effective window size : 1.024 (s)\n",
      "Effective window size : 1.024 (s)\n",
      "Effective window size : 1.024 (s)\n",
      "Effective window size : 1.024 (s)\n",
      "Effective window size : 1.024 (s)\n",
      "Effective window size : 1.024 (s)\n",
      "Effective window size : 1.024 (s)\n",
      "Effective window size : 1.024 (s)\n",
      "Effective window size : 1.024 (s)\n",
      "Effective window size : 1.024 (s)\n",
      "Effective window size : 1.024 (s)\n",
      "Effective window size : 1.024 (s)\n",
      "Effective window size : 1.024 (s)\n",
      "Effective window size : 1.024 (s)\n",
      "Effective window size : 1.024 (s)\n",
      "Effective window size : 1.024 (s)\n",
      "Effective window size : 1.024 (s)\n",
      "Effective window size : 1.024 (s)\n",
      "Effective window size : 1.024 (s)\n",
      "Effective window size : 1.024 (s)\n",
      "Effective window size : 1.024 (s)\n",
      "Effective window size : 1.024 (s)\n",
      "Effective window size : 1.024 (s)\n",
      "Effective window size : 1.024 (s)\n",
      "Effective window size : 1.024 (s)\n",
      "Effective window size : 1.024 (s)\n",
      "Effective window size : 1.024 (s)\n",
      "Effective window size : 1.024 (s)\n",
      "Effective window size : 1.024 (s)\n",
      "Effective window size : 1.024 (s)\n",
      "Effective window size : 1.024 (s)\n",
      "Effective window size : 1.024 (s)\n",
      "Effective window size : 1.024 (s)\n",
      "Effective window size : 1.024 (s)\n",
      "Effective window size : 1.024 (s)\n",
      "Effective window size : 1.024 (s)\n",
      "Effective window size : 1.024 (s)\n",
      "Effective window size : 1.024 (s)\n",
      "Effective window size : 1.024 (s)\n",
      "Effective window size : 1.024 (s)\n",
      "Effective window size : 1.024 (s)\n",
      "Effective window size : 1.024 (s)\n",
      "Effective window size : 1.024 (s)\n",
      "Effective window size : 1.024 (s)\n",
      "Effective window size : 1.024 (s)\n",
      "Effective window size : 1.024 (s)\n",
      "Effective window size : 1.024 (s)\n",
      "Effective window size : 1.024 (s)\n",
      "Effective window size : 1.024 (s)\n",
      "Effective window size : 1.024 (s)\n",
      "Effective window size : 1.024 (s)\n",
      "Effective window size : 1.024 (s)\n",
      "Effective window size : 1.024 (s)\n",
      "Effective window size : 1.024 (s)\n",
      "Effective window size : 1.024 (s)\n",
      "Effective window size : 1.024 (s)\n",
      "Effective window size : 1.024 (s)\n",
      "Effective window size : 1.024 (s)\n",
      "Effective window size : 1.024 (s)\n",
      "Effective window size : 1.024 (s)\n",
      "Effective window size : 1.024 (s)\n",
      "Effective window size : 1.024 (s)\n",
      "Effective window size : 1.024 (s)\n",
      "Effective window size : 1.024 (s)\n",
      "Effective window size : 1.024 (s)\n",
      "Effective window size : 1.024 (s)\n",
      "Effective window size : 1.024 (s)\n",
      "Effective window size : 1.024 (s)\n",
      "Effective window size : 1.024 (s)\n",
      "Effective window size : 1.024 (s)\n",
      "Effective window size : 1.024 (s)\n",
      "Effective window size : 1.024 (s)\n",
      "Effective window size : 1.024 (s)\n",
      "Effective window size : 1.024 (s)\n",
      "Effective window size : 1.024 (s)\n",
      "Effective window size : 1.024 (s)\n",
      "Effective window size : 1.024 (s)\n",
      "Effective window size : 1.024 (s)\n",
      "Effective window size : 1.024 (s)\n",
      "Effective window size : 1.024 (s)\n",
      "Effective window size : 1.024 (s)\n",
      "Effective window size : 1.024 (s)\n",
      "Effective window size : 1.024 (s)\n",
      "Effective window size : 1.024 (s)\n",
      "Effective window size : 1.024 (s)\n",
      "Effective window size : 1.024 (s)\n",
      "Effective window size : 1.024 (s)\n",
      "Effective window size : 1.024 (s)\n",
      "Effective window size : 1.024 (s)\n",
      "Effective window size : 1.024 (s)\n",
      "Effective window size : 1.024 (s)\n",
      "Effective window size : 1.024 (s)\n",
      "Effective window size : 1.024 (s)\n",
      "Effective window size : 1.024 (s)\n",
      "Effective window size : 1.024 (s)\n"
     ]
    }
   ],
   "source": [
    "freqs = [(4, 8), (8, 13), (13, 30), (30, 38)]\n",
    "keys = list(ear_scalp.keys())\n",
    "for fr in range(4):\n",
    "    f_min, f_max = freqs[fr]\n",
    "    for sbj in selected:\n",
    "        psd_t9 = mne.time_frequency.psd_array_welch(sbj.get_data(['T9']), fmin=f_min, fmax=f_max, sfreq=sbj.info['sfreq'])[0]\n",
    "        psd_t10 = mne.time_frequency.psd_array_welch(sbj.get_data(['T10']), fmin=f_min, fmax=f_max, sfreq=sbj.info['sfreq'])[0]\n",
    "        psd_c3 = mne.time_frequency.psd_array_welch(sbj.get_data(['C3']), fmin=f_min, fmax=f_max, sfreq=sbj.info['sfreq'])[0]\n",
    "        psd_c4 = mne.time_frequency.psd_array_welch(sbj.get_data(['C4']), fmin=f_min, fmax=f_max, sfreq=sbj.info['sfreq'])[0]\n",
    "        # scalp - right\n",
    "        ear_scalp[keys[fr]].append(mne.time_frequency.psd_array_welch(sbj.get_data(['LF']), fmin=f_min, fmax=f_max, sfreq=sbj.info['sfreq'])[0]/psd_t9)                  \n",
    "        ear_scalp[keys[fr]].append(mne.time_frequency.psd_array_welch(sbj.get_data(['LB']), fmin=f_min, fmax=f_max, sfreq=sbj.info['sfreq'])[0]/psd_t9)            \n",
    "        ear_scalp[keys[fr]].append(mne.time_frequency.psd_array_welch(sbj.get_data(['LOU']), fmin=f_min, fmax=f_max, sfreq=sbj.info['sfreq'])[0]/psd_t9)            \n",
    "        ear_scalp[keys[fr]].append(mne.time_frequency.psd_array_welch(sbj.get_data(['LOD']), fmin=f_min, fmax=f_max, sfreq=sbj.info['sfreq'])[0]/psd_t9)    \n",
    "        # scalp - left\n",
    "        ear_scalp[keys[fr]].append(mne.time_frequency.psd_array_welch(sbj.get_data(['RF']), fmin=f_min, fmax=f_max, sfreq=sbj.info['sfreq'])[0]/psd_t10)                  \n",
    "        ear_scalp[keys[fr]].append(mne.time_frequency.psd_array_welch(sbj.get_data(['RB']), fmin=f_min, fmax=f_max, sfreq=sbj.info['sfreq'])[0]/psd_t10)            \n",
    "        ear_scalp[keys[fr]].append(mne.time_frequency.psd_array_welch(sbj.get_data(['ROU']), fmin=f_min, fmax=f_max, sfreq=sbj.info['sfreq'])[0]/psd_t10)            \n",
    "        ear_scalp[keys[fr]].append(mne.time_frequency.psd_array_welch(sbj.get_data(['ROD']), fmin=f_min, fmax=f_max, sfreq=sbj.info['sfreq'])[0]/psd_t10)  \n",
    "        # motor - right\n",
    "        ear_motor[keys[fr]].append(mne.time_frequency.psd_array_welch(sbj.get_data(['LF']), fmin=f_min, fmax=f_max, sfreq=sbj.info['sfreq'])[0]/psd_c3)                  \n",
    "        ear_motor[keys[fr]].append(mne.time_frequency.psd_array_welch(sbj.get_data(['LB']), fmin=f_min, fmax=f_max, sfreq=sbj.info['sfreq'])[0]/psd_c3)            \n",
    "        ear_motor[keys[fr]].append(mne.time_frequency.psd_array_welch(sbj.get_data(['LOU']), fmin=f_min, fmax=f_max, sfreq=sbj.info['sfreq'])[0]/psd_c3)            \n",
    "        ear_motor[keys[fr]].append(mne.time_frequency.psd_array_welch(sbj.get_data(['LOD']), fmin=f_min, fmax=f_max, sfreq=sbj.info['sfreq'])[0]/psd_c3) \n",
    "        # motor - left\n",
    "        ear_motor[keys[fr]].append(mne.time_frequency.psd_array_welch(sbj.get_data(['RF']), fmin=f_min, fmax=f_max, sfreq=sbj.info['sfreq'])[0]/psd_c4)                  \n",
    "        ear_motor[keys[fr]].append(mne.time_frequency.psd_array_welch(sbj.get_data(['RB']), fmin=f_min, fmax=f_max, sfreq=sbj.info['sfreq'])[0]/psd_c4)            \n",
    "        ear_motor[keys[fr]].append(mne.time_frequency.psd_array_welch(sbj.get_data(['ROU']), fmin=f_min, fmax=f_max, sfreq=sbj.info['sfreq'])[0]/psd_c4)            \n",
    "        ear_motor[keys[fr]].append(mne.time_frequency.psd_array_welch(sbj.get_data(['ROD']), fmin=f_min, fmax=f_max, sfreq=sbj.info['sfreq'])[0]/psd_c4) \n"
   ]
  },
  {
   "cell_type": "markdown",
   "id": "d746e5cb-4d8f-4ef9-adc6-a543e46443e6",
   "metadata": {},
   "source": [
    "calculate pearson correlation between **in-ear** and **scalp** and **motor** channels"
   ]
  },
  {
   "cell_type": "code",
   "execution_count": 21,
   "id": "2de274dd-1c68-4b38-b9a7-b6562e607e24",
   "metadata": {},
   "outputs": [],
   "source": [
    "ear_channels = ['LF','LB','LOU','LOD','RF','RB','ROU','ROD']\n",
    "other = ['T9', 'T7', 'C5', 'C3', 'C1', 'Cz', 'C2', 'C4', 'C6', 'T8', 'T10','LF','LB','LOU','LOD','RF','RB','ROU','ROD']\n",
    "correlations = []\n",
    "for sbj in clean_epochs:\n",
    "    tmp = []\n",
    "    for ear in ear_channels:\n",
    "        ear_data = sbj.get_data(picks=[ear])\n",
    "        for ch in other:\n",
    "            scalp_data = sbj.get_data(picks=[ch])\n",
    "            corr, _ = pearsonr(ear_data, scalp_data)\n",
    "            tmp.append(corr)\n",
    "    correlations.append(np.array(tmp))\n",
    "correlations = np.array(correlations)"
   ]
  },
  {
   "cell_type": "code",
   "execution_count": 22,
   "id": "a6e30bbc-9069-404e-8b32-8d775967e75d",
   "metadata": {},
   "outputs": [
    {
     "data": {
      "text/plain": [
       "(6, 152, 1, 2001)"
      ]
     },
     "execution_count": 22,
     "metadata": {},
     "output_type": "execute_result"
    }
   ],
   "source": [
    "correlations.shape"
   ]
  },
  {
   "cell_type": "markdown",
   "id": "78e4638f-3b6a-4959-925d-cf0223482854",
   "metadata": {},
   "source": [
    "**Permution test**"
   ]
  },
  {
   "cell_type": "code",
   "execution_count": 23,
   "id": "4c3c7923-118e-4e31-8854-cfa26e614aac",
   "metadata": {},
   "outputs": [],
   "source": [
    "motor_channels = ['C3', 'C4']"
   ]
  },
  {
   "cell_type": "code",
   "execution_count": 24,
   "id": "cb4c1fdb-e266-4950-be36-5273c9e9bf07",
   "metadata": {},
   "outputs": [],
   "source": [
    "num_permution = 10"
   ]
  },
  {
   "cell_type": "code",
   "execution_count": 25,
   "id": "f50d5ad4-9d59-4e94-a629-0b5cb96e3a1e",
   "metadata": {},
   "outputs": [],
   "source": [
    "permuted_correlations = np.zeros((6, len(ear_channels), len(motor_channels), num_permution))"
   ]
  },
  {
   "cell_type": "code",
   "execution_count": 26,
   "id": "b0dcbd28-28ea-41bb-ad2f-41d24459ea8e",
   "metadata": {},
   "outputs": [
    {
     "data": {
      "text/plain": [
       "(6, 8, 2, 10)"
      ]
     },
     "execution_count": 26,
     "metadata": {},
     "output_type": "execute_result"
    }
   ],
   "source": [
    "permuted_correlations.shape"
   ]
  },
  {
   "cell_type": "code",
   "execution_count": 27,
   "id": "89f35d22-6afc-4e4d-b163-8d16dd8443f9",
   "metadata": {
    "scrolled": true
   },
   "outputs": [],
   "source": [
    "# subject = 0\n",
    "# for epoch in clean_epochs:\n",
    "#     for permution in range(num_permution):\n",
    "#         epoch_copy = epoch.copy()\n",
    "#         epoch_copy._data = np.random.permutation(epoch_copy.get_data())\n",
    "#         for i, in_ear_ch in enumerate(ear_channels):\n",
    "#             for j, motor_ch in enumerate(motor_channels):\n",
    "#                 in_ear_data = epoch_copy.get_data(picks=[in_ear_ch]).ravel()\n",
    "#                 motor_data = epoch_copy.get_data(picks=[motor_ch]).ravel()\n",
    "#                 permuted_corr, _ = pearsonr(in_ear_data, motor_data)\n",
    "#                 permuted_correlations[subject, i, j, permution] = permuted_corr\n",
    "#     subject += 1"
   ]
  },
  {
   "cell_type": "code",
   "execution_count": 28,
   "id": "9d09dc8a-dba3-4e62-be44-538c2c1fabcf",
   "metadata": {},
   "outputs": [],
   "source": [
    "p_values = {}\n",
    "observed_correlations = {}"
   ]
  },
  {
   "cell_type": "code",
   "execution_count": 29,
   "id": "1332af39-bb1b-4a7c-9463-15ba982d215c",
   "metadata": {},
   "outputs": [],
   "source": [
    "epoch_copy = clean_epochs[0].copy()\n",
    "for i, in_ear_ch in enumerate(ear_channels):\n",
    "    p_values[in_ear_ch] = {}\n",
    "    observed_correlations[in_ear_ch] = {}\n",
    "    for j, motor_ch in enumerate(motor_channels):\n",
    "        in_ear_data = epoch_copy.get_data(picks=[in_ear_ch])\n",
    "        motor_data = epoch_copy.get_data(picks=[motor_ch])\n",
    "        # Calculate observed correlation\n",
    "        observed_corr = pearsonr(in_ear_data.ravel(), motor_data.ravel())[0]\n",
    "        observed_correlations[in_ear_ch][motor_ch] = observed_corr\n",
    "        # Perform permutation test\n",
    "        perm_test_result = permutation_test(\n",
    "            data=(in_ear_data, motor_data),\n",
    "            statistic=calc_pearson_corr,\n",
    "            vectorized=False,\n",
    "            n_resamples=100,\n",
    "            alternative='two-sided'\n",
    "        )\n",
    "        # Store p-value\n",
    "        p_values[in_ear_ch][motor_ch] = perm_test_result.pvalue"
   ]
  },
  {
   "cell_type": "code",
   "execution_count": 31,
   "id": "96e5d5ff-cb01-4d56-b683-1241cd428ca6",
   "metadata": {},
   "outputs": [
    {
     "data": {
      "text/plain": [
       "{'LF': {'C3': -0.0007065683815221342, 'C4': -0.002266194561674083},\n",
       " 'LB': {'C3': -0.0009119096740704763, 'C4': -0.0027244027856115657},\n",
       " 'LOU': {'C3': -0.000828584626615553, 'C4': -0.0031608294525883895},\n",
       " 'LOD': {'C3': -0.0009750973627862487, 'C4': -0.0029421631121759138},\n",
       " 'RF': {'C3': -0.0022153076073480288, 'C4': -0.0016688612067300645},\n",
       " 'RB': {'C3': -0.006667837713586108, 'C4': -0.004834866134275631},\n",
       " 'ROU': {'C3': -0.002492121849426746, 'C4': -0.0015508879261253},\n",
       " 'ROD': {'C3': -0.0007661951500670377, 'C4': -0.0005690316698566038}}"
      ]
     },
     "execution_count": 31,
     "metadata": {},
     "output_type": "execute_result"
    }
   ],
   "source": [
    "observed_correlations"
   ]
  },
  {
   "cell_type": "code",
   "execution_count": 32,
   "id": "294652a1-452a-4996-9e50-7a5ddf962e1d",
   "metadata": {},
   "outputs": [
    {
     "data": {
      "text/plain": [
       "{'LF': {'C3': array([[0.79207921, 0.67326733, 0.53465347, ..., 0.23762376, 0.25742574,\n",
       "          0.27722772]]),\n",
       "  'C4': array([[0.81188119, 0.65346535, 0.35643564, ..., 0.65346535, 0.67326733,\n",
       "          0.89108911]])},\n",
       " 'LB': {'C3': array([[0.95049505, 0.83168317, 0.59405941, ..., 0.23762376, 0.31683168,\n",
       "          0.31683168]]),\n",
       "  'C4': array([[0.73267327, 0.47524752, 0.27722772, ..., 0.4950495 , 0.53465347,\n",
       "          0.81188119]])},\n",
       " 'LOU': {'C3': array([[0.97029703, 0.81188119, 0.57425743, ..., 0.31683168, 0.31683168,\n",
       "          0.33663366]]),\n",
       "  'C4': array([[0.4950495 , 0.35643564, 0.1980198 , ..., 0.45544554, 0.4950495 ,\n",
       "          0.83168317]])},\n",
       " 'LOD': {'C3': array([[0.73267327, 0.57425743, 0.3960396 , ..., 0.41584158, 0.53465347,\n",
       "          0.57425743]]),\n",
       "  'C4': array([[0.53465347, 0.41584158, 0.35643564, ..., 0.45544554, 0.47524752,\n",
       "          0.73267327]])},\n",
       " 'RF': {'C3': array([[0.81188119, 0.75247525, 0.61386139, ..., 0.21782178, 0.23762376,\n",
       "          0.2970297 ]]),\n",
       "  'C4': array([[0.59405941, 0.51485149, 0.25742574, ..., 0.59405941, 0.59405941,\n",
       "          0.75247525]])},\n",
       " 'RB': {'C3': array([[0.91089109, 1.        , 0.83168317, ..., 0.23762376, 0.31683168,\n",
       "          0.35643564]]),\n",
       "  'C4': array([[0.79207921, 0.63366337, 0.31683168, ..., 0.75247525, 0.75247525,\n",
       "          0.93069307]])},\n",
       " 'ROU': {'C3': array([[1.        , 0.97029703, 0.87128713, ..., 0.33663366, 0.43564356,\n",
       "          0.47524752]]),\n",
       "  'C4': array([[0.95049505, 0.77227723, 0.53465347, ..., 0.81188119, 0.85148515,\n",
       "          0.95049505]])},\n",
       " 'ROD': {'C3': array([[0.85148515, 0.73267327, 0.4950495 , ..., 0.51485149, 0.59405941,\n",
       "          0.69306931]]),\n",
       "  'C4': array([[0.51485149, 0.43564356, 0.2970297 , ..., 0.35643564, 0.45544554,\n",
       "          0.63366337]])}}"
      ]
     },
     "execution_count": 32,
     "metadata": {},
     "output_type": "execute_result"
    }
   ],
   "source": [
    "p_values"
   ]
  },
  {
   "cell_type": "code",
   "execution_count": null,
   "id": "afc37d69-ee33-457d-aef7-82fe4843c782",
   "metadata": {},
   "outputs": [],
   "source": []
  }
 ],
 "metadata": {
  "kernelspec": {
   "display_name": "Python 3 (ipykernel)",
   "language": "python",
   "name": "python3"
  },
  "language_info": {
   "codemirror_mode": {
    "name": "ipython",
    "version": 3
   },
   "file_extension": ".py",
   "mimetype": "text/x-python",
   "name": "python",
   "nbconvert_exporter": "python",
   "pygments_lexer": "ipython3",
   "version": "3.10.2"
  }
 },
 "nbformat": 4,
 "nbformat_minor": 5
}

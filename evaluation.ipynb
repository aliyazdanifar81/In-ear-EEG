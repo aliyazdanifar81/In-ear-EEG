{
 "cells": [
  {
   "cell_type": "code",
   "execution_count": 2,
   "id": "b7729202-5719-4d67-971c-42e458706a41",
   "metadata": {},
   "outputs": [],
   "source": [
    "import os\n",
    "import mne\n",
    "import numpy as np\n",
    "import pandas as pd\n",
    "import itertools\n",
    "import matplotlib.pyplot as plt\n",
    "import seaborn as sns\n",
    "from scipy.stats import pearsonr, permutation_test"
   ]
  },
  {
   "cell_type": "markdown",
   "id": "057474c0-f804-49a5-a61c-573cd2975e2e",
   "metadata": {},
   "source": [
    "# Functions"
   ]
  },
  {
   "cell_type": "code",
   "execution_count": 3,
   "id": "7692721d-f382-41c9-80e7-0fe082ae0d72",
   "metadata": {},
   "outputs": [],
   "source": [
    "def calc_pearson_corr(in_ear_data, scalp_data):\n",
    "    return pearsonr(in_ear_data.ravel(), scalp_data.ravel())[0]"
   ]
  },
  {
   "cell_type": "markdown",
   "id": "159d485c-61c5-4ef0-9444-8e09c9cbfb4d",
   "metadata": {},
   "source": [
    "# Fetch Data"
   ]
  },
  {
   "cell_type": "code",
   "execution_count": 4,
   "id": "a7727961-d851-4a0b-8486-e9ff7ab6b87b",
   "metadata": {},
   "outputs": [],
   "source": [
    "main_path = './Dataset'"
   ]
  },
  {
   "cell_type": "code",
   "execution_count": 5,
   "id": "4130413d-7bc4-4106-9e5e-2f1b935171e7",
   "metadata": {
    "scrolled": true
   },
   "outputs": [
    {
     "name": "stdout",
     "output_type": "stream",
     "text": [
      "Leaving device<->head transform as None (no landmarks found)\n",
      "Reading 0 ... 981199  =      0.000 ...   981.199 secs...\n",
      "Event file found. Extracting Annotations from C:\\Users\\DFMRendering\\Desktop\\python\\in-ear\\Dataset\\subject1\\motor1.ceo...\n",
      "Leaving device<->head transform as None (no landmarks found)\n",
      "Reading 0 ... 984999  =      0.000 ...   984.999 secs...\n",
      "Event file found. Extracting Annotations from C:\\Users\\DFMRendering\\Desktop\\python\\in-ear\\Dataset\\subject1\\motor2.ceo...\n",
      "Leaving device<->head transform as None (no landmarks found)\n",
      "Reading 0 ... 1022899  =      0.000 ...  1022.899 secs...\n",
      "Event file found. Extracting Annotations from C:\\Users\\DFMRendering\\Desktop\\python\\in-ear\\Dataset\\subject1\\motor3.ceo...\n",
      "Leaving device<->head transform as None (no landmarks found)\n",
      "Reading 0 ... 2031599  =      0.000 ...  2031.599 secs...\n",
      "Event file found. Extracting Annotations from C:\\Users\\DFMRendering\\Desktop\\python\\in-ear\\Dataset\\subject2\\motor.ceo...\n",
      "Leaving device<->head transform as None (no landmarks found)\n",
      "Reading 0 ... 1942099  =      0.000 ...  1942.099 secs...\n",
      "Event file found. Extracting Annotations from C:\\Users\\DFMRendering\\Desktop\\python\\in-ear\\Dataset\\subject3\\motor.ceo...\n",
      "Leaving device<->head transform as None (no landmarks found)\n",
      "Reading 0 ... 982299  =      0.000 ...   982.299 secs...\n",
      "Event file found. Extracting Annotations from C:\\Users\\DFMRendering\\Desktop\\python\\in-ear\\Dataset\\subject4\\motor.ceo...\n",
      "Leaving device<->head transform as None (no landmarks found)\n",
      "Reading 0 ... 1258899  =      0.000 ...  1258.899 secs...\n",
      "Event file found. Extracting Annotations from C:\\Users\\DFMRendering\\Desktop\\python\\in-ear\\Dataset\\subject5\\Motor1.ceo...\n",
      "Leaving device<->head transform as None (no landmarks found)\n",
      "Reading 0 ... 815999  =      0.000 ...   815.999 secs...\n",
      "Event file found. Extracting Annotations from C:\\Users\\DFMRendering\\Desktop\\python\\in-ear\\Dataset\\subject5\\Motor2.ceo...\n",
      "Leaving device<->head transform as None (no landmarks found)\n",
      "Reading 0 ... 384999  =      0.000 ...   384.999 secs...\n",
      "Event file found. Extracting Annotations from C:\\Users\\DFMRendering\\Desktop\\python\\in-ear\\Dataset\\subject5\\Motor3.ceo...\n",
      "Leaving device<->head transform as None (no landmarks found)\n",
      "Reading 0 ... 797299  =      0.000 ...   797.299 secs...\n",
      "Event file found. Extracting Annotations from C:\\Users\\DFMRendering\\Desktop\\python\\in-ear\\Dataset\\subject5\\Motor4.ceo...\n",
      "Leaving device<->head transform as None (no landmarks found)\n",
      "Reading 0 ... 1198599  =      0.000 ...  1198.599 secs...\n",
      "Event file found. Extracting Annotations from C:\\Users\\DFMRendering\\Desktop\\python\\in-ear\\Dataset\\subject6\\Motor1.ceo...\n",
      "Leaving device<->head transform as None (no landmarks found)\n",
      "Reading 0 ... 1013999  =      0.000 ...  1013.999 secs...\n",
      "Event file found. Extracting Annotations from C:\\Users\\DFMRendering\\Desktop\\python\\in-ear\\Dataset\\subject6\\Motor2.ceo...\n",
      "Leaving device<->head transform as None (no landmarks found)\n",
      "Reading 0 ... 1005299  =      0.000 ...  1005.299 secs...\n",
      "Event file found. Extracting Annotations from C:\\Users\\DFMRendering\\Desktop\\python\\in-ear\\Dataset\\subject6\\Motor3.ceo...\n"
     ]
    }
   ],
   "source": [
    "sbj_records = []\n",
    "for sub in os.listdir(main_path):\n",
    "    tmp = []\n",
    "    for file in os.listdir(f'./Dataset/{sub}'):\n",
    "        if file.split(sep='.')[1] == 'dat':\n",
    "            tmp.append(mne.io.read_raw(f'./Dataset/{sub}/{file}', preload=True))\n",
    "    sbj_records.append(mne.concatenate_raws(tmp))\n",
    "        "
   ]
  },
  {
   "cell_type": "markdown",
   "id": "fb0058bc-31d9-4806-98cf-aa1ad983aa14",
   "metadata": {},
   "source": [
    "**filter with band pass between 0.5 and 100 Hz**\n",
    " (subsection 2.1)"
   ]
  },
  {
   "cell_type": "code",
   "execution_count": 6,
   "id": "6b2f90a7-3662-4c0a-8157-e00ec71490fa",
   "metadata": {
    "scrolled": true
   },
   "outputs": [
    {
     "name": "stdout",
     "output_type": "stream",
     "text": [
      "Filtering raw data in 3 contiguous segments\n",
      "Setting up band-pass filter from 0.5 - 1e+02 Hz\n",
      "\n",
      "FIR filter parameters\n",
      "---------------------\n",
      "Designing a one-pass, zero-phase, non-causal bandpass filter:\n",
      "- Windowed time-domain design (firwin) method\n",
      "- Hamming window with 0.0194 passband ripple and 53 dB stopband attenuation\n",
      "- Lower passband edge: 0.50\n",
      "- Lower transition bandwidth: 0.50 Hz (-6 dB cutoff frequency: 0.25 Hz)\n",
      "- Upper passband edge: 100.00 Hz\n",
      "- Upper transition bandwidth: 25.00 Hz (-6 dB cutoff frequency: 112.50 Hz)\n",
      "- Filter length: 6601 samples (6.601 s)\n",
      "\n"
     ]
    },
    {
     "name": "stderr",
     "output_type": "stream",
     "text": [
      "[Parallel(n_jobs=1)]: Done  17 tasks      | elapsed:    0.3s\n",
      "[Parallel(n_jobs=1)]: Done  71 tasks      | elapsed:    1.4s\n"
     ]
    },
    {
     "name": "stdout",
     "output_type": "stream",
     "text": [
      "Filtering raw data in 1 contiguous segment\n",
      "Setting up band-pass filter from 0.5 - 1e+02 Hz\n",
      "\n",
      "FIR filter parameters\n",
      "---------------------\n",
      "Designing a one-pass, zero-phase, non-causal bandpass filter:\n",
      "- Windowed time-domain design (firwin) method\n",
      "- Hamming window with 0.0194 passband ripple and 53 dB stopband attenuation\n",
      "- Lower passband edge: 0.50\n",
      "- Lower transition bandwidth: 0.50 Hz (-6 dB cutoff frequency: 0.25 Hz)\n",
      "- Upper passband edge: 100.00 Hz\n",
      "- Upper transition bandwidth: 25.00 Hz (-6 dB cutoff frequency: 112.50 Hz)\n",
      "- Filter length: 6601 samples (6.601 s)\n",
      "\n"
     ]
    },
    {
     "name": "stderr",
     "output_type": "stream",
     "text": [
      "[Parallel(n_jobs=1)]: Done  17 tasks      | elapsed:    0.6s\n",
      "[Parallel(n_jobs=1)]: Done  71 tasks      | elapsed:    2.7s\n"
     ]
    },
    {
     "name": "stdout",
     "output_type": "stream",
     "text": [
      "Filtering raw data in 1 contiguous segment\n",
      "Setting up band-pass filter from 0.5 - 1e+02 Hz\n",
      "\n",
      "FIR filter parameters\n",
      "---------------------\n",
      "Designing a one-pass, zero-phase, non-causal bandpass filter:\n",
      "- Windowed time-domain design (firwin) method\n",
      "- Hamming window with 0.0194 passband ripple and 53 dB stopband attenuation\n",
      "- Lower passband edge: 0.50\n",
      "- Lower transition bandwidth: 0.50 Hz (-6 dB cutoff frequency: 0.25 Hz)\n",
      "- Upper passband edge: 100.00 Hz\n",
      "- Upper transition bandwidth: 25.00 Hz (-6 dB cutoff frequency: 112.50 Hz)\n",
      "- Filter length: 6601 samples (6.601 s)\n",
      "\n"
     ]
    },
    {
     "name": "stderr",
     "output_type": "stream",
     "text": [
      "[Parallel(n_jobs=1)]: Done  17 tasks      | elapsed:    0.5s\n",
      "[Parallel(n_jobs=1)]: Done  71 tasks      | elapsed:    2.6s\n"
     ]
    },
    {
     "name": "stdout",
     "output_type": "stream",
     "text": [
      "Filtering raw data in 1 contiguous segment\n",
      "Setting up band-pass filter from 0.5 - 1e+02 Hz\n",
      "\n",
      "FIR filter parameters\n",
      "---------------------\n",
      "Designing a one-pass, zero-phase, non-causal bandpass filter:\n",
      "- Windowed time-domain design (firwin) method\n",
      "- Hamming window with 0.0194 passband ripple and 53 dB stopband attenuation\n",
      "- Lower passband edge: 0.50\n",
      "- Lower transition bandwidth: 0.50 Hz (-6 dB cutoff frequency: 0.25 Hz)\n",
      "- Upper passband edge: 100.00 Hz\n",
      "- Upper transition bandwidth: 25.00 Hz (-6 dB cutoff frequency: 112.50 Hz)\n",
      "- Filter length: 6601 samples (6.601 s)\n",
      "\n"
     ]
    },
    {
     "name": "stderr",
     "output_type": "stream",
     "text": [
      "[Parallel(n_jobs=1)]: Done  17 tasks      | elapsed:    0.4s\n",
      "[Parallel(n_jobs=1)]: Done  71 tasks      | elapsed:    1.7s\n"
     ]
    },
    {
     "name": "stdout",
     "output_type": "stream",
     "text": [
      "Filtering raw data in 4 contiguous segments\n",
      "Setting up band-pass filter from 0.5 - 1e+02 Hz\n",
      "\n",
      "FIR filter parameters\n",
      "---------------------\n",
      "Designing a one-pass, zero-phase, non-causal bandpass filter:\n",
      "- Windowed time-domain design (firwin) method\n",
      "- Hamming window with 0.0194 passband ripple and 53 dB stopband attenuation\n",
      "- Lower passband edge: 0.50\n",
      "- Lower transition bandwidth: 0.50 Hz (-6 dB cutoff frequency: 0.25 Hz)\n",
      "- Upper passband edge: 100.00 Hz\n",
      "- Upper transition bandwidth: 25.00 Hz (-6 dB cutoff frequency: 112.50 Hz)\n",
      "- Filter length: 6601 samples (6.601 s)\n",
      "\n"
     ]
    },
    {
     "name": "stderr",
     "output_type": "stream",
     "text": [
      "[Parallel(n_jobs=1)]: Done  17 tasks      | elapsed:    0.3s\n",
      "[Parallel(n_jobs=1)]: Done  71 tasks      | elapsed:    1.7s\n"
     ]
    },
    {
     "name": "stdout",
     "output_type": "stream",
     "text": [
      "Filtering raw data in 3 contiguous segments\n",
      "Setting up band-pass filter from 0.5 - 1e+02 Hz\n",
      "\n",
      "FIR filter parameters\n",
      "---------------------\n",
      "Designing a one-pass, zero-phase, non-causal bandpass filter:\n",
      "- Windowed time-domain design (firwin) method\n",
      "- Hamming window with 0.0194 passband ripple and 53 dB stopband attenuation\n",
      "- Lower passband edge: 0.50\n",
      "- Lower transition bandwidth: 0.50 Hz (-6 dB cutoff frequency: 0.25 Hz)\n",
      "- Upper passband edge: 100.00 Hz\n",
      "- Upper transition bandwidth: 25.00 Hz (-6 dB cutoff frequency: 112.50 Hz)\n",
      "- Filter length: 6601 samples (6.601 s)\n",
      "\n"
     ]
    },
    {
     "name": "stderr",
     "output_type": "stream",
     "text": [
      "[Parallel(n_jobs=1)]: Done  17 tasks      | elapsed:    0.3s\n",
      "[Parallel(n_jobs=1)]: Done  71 tasks      | elapsed:    1.7s\n"
     ]
    }
   ],
   "source": [
    "for sample in sbj_records:\n",
    "    sample.filter(0.5, 100)"
   ]
  },
  {
   "cell_type": "markdown",
   "id": "50b41e69-3af3-49d5-a57a-a6c57218f8c5",
   "metadata": {},
   "source": [
    "**Downsampling from 1000 to 250**"
   ]
  },
  {
   "cell_type": "code",
   "execution_count": 7,
   "id": "a83e8f0e-90f9-4155-b1c1-ea404ef5c617",
   "metadata": {
    "scrolled": true
   },
   "outputs": [],
   "source": [
    "for data in sbj_records:\n",
    "    data.resample(250)"
   ]
  },
  {
   "cell_type": "markdown",
   "id": "a5d49f48-926d-41e1-807b-181574d795bc",
   "metadata": {},
   "source": [
    "**filter with a 4-38 Hz FIR filter**"
   ]
  },
  {
   "cell_type": "code",
   "execution_count": 8,
   "id": "bd9b6cd3-72dd-4336-a1e7-e8f9bb3dc685",
   "metadata": {
    "scrolled": true
   },
   "outputs": [
    {
     "name": "stdout",
     "output_type": "stream",
     "text": [
      "Filtering raw data in 3 contiguous segments\n",
      "Setting up band-pass filter from 3 - 38 Hz\n",
      "\n",
      "FIR filter parameters\n",
      "---------------------\n",
      "Designing a one-pass, zero-phase, non-causal bandpass filter:\n",
      "- Windowed time-domain design (firwin) method\n",
      "- Hamming window with 0.0194 passband ripple and 53 dB stopband attenuation\n",
      "- Lower passband edge: 3.00\n",
      "- Lower transition bandwidth: 2.00 Hz (-6 dB cutoff frequency: 2.00 Hz)\n",
      "- Upper passband edge: 38.00 Hz\n",
      "- Upper transition bandwidth: 9.50 Hz (-6 dB cutoff frequency: 42.75 Hz)\n",
      "- Filter length: 413 samples (1.652 s)\n",
      "\n"
     ]
    },
    {
     "name": "stderr",
     "output_type": "stream",
     "text": [
      "[Parallel(n_jobs=1)]: Done  17 tasks      | elapsed:    0.0s\n",
      "[Parallel(n_jobs=1)]: Done  71 tasks      | elapsed:    0.3s\n"
     ]
    },
    {
     "name": "stdout",
     "output_type": "stream",
     "text": [
      "Filtering raw data in 1 contiguous segment\n",
      "Setting up band-pass filter from 3 - 38 Hz\n",
      "\n",
      "FIR filter parameters\n",
      "---------------------\n",
      "Designing a one-pass, zero-phase, non-causal bandpass filter:\n",
      "- Windowed time-domain design (firwin) method\n",
      "- Hamming window with 0.0194 passband ripple and 53 dB stopband attenuation\n",
      "- Lower passband edge: 3.00\n",
      "- Lower transition bandwidth: 2.00 Hz (-6 dB cutoff frequency: 2.00 Hz)\n",
      "- Upper passband edge: 38.00 Hz\n",
      "- Upper transition bandwidth: 9.50 Hz (-6 dB cutoff frequency: 42.75 Hz)\n",
      "- Filter length: 413 samples (1.652 s)\n",
      "\n"
     ]
    },
    {
     "name": "stderr",
     "output_type": "stream",
     "text": [
      "[Parallel(n_jobs=1)]: Done  17 tasks      | elapsed:    0.1s\n",
      "[Parallel(n_jobs=1)]: Done  71 tasks      | elapsed:    0.7s\n"
     ]
    },
    {
     "name": "stdout",
     "output_type": "stream",
     "text": [
      "Filtering raw data in 1 contiguous segment\n",
      "Setting up band-pass filter from 3 - 38 Hz\n",
      "\n",
      "FIR filter parameters\n",
      "---------------------\n",
      "Designing a one-pass, zero-phase, non-causal bandpass filter:\n",
      "- Windowed time-domain design (firwin) method\n",
      "- Hamming window with 0.0194 passband ripple and 53 dB stopband attenuation\n",
      "- Lower passband edge: 3.00\n",
      "- Lower transition bandwidth: 2.00 Hz (-6 dB cutoff frequency: 2.00 Hz)\n",
      "- Upper passband edge: 38.00 Hz\n",
      "- Upper transition bandwidth: 9.50 Hz (-6 dB cutoff frequency: 42.75 Hz)\n",
      "- Filter length: 413 samples (1.652 s)\n",
      "\n"
     ]
    },
    {
     "name": "stderr",
     "output_type": "stream",
     "text": [
      "[Parallel(n_jobs=1)]: Done  17 tasks      | elapsed:    0.1s\n",
      "[Parallel(n_jobs=1)]: Done  71 tasks      | elapsed:    0.6s\n"
     ]
    },
    {
     "name": "stdout",
     "output_type": "stream",
     "text": [
      "Filtering raw data in 1 contiguous segment\n",
      "Setting up band-pass filter from 3 - 38 Hz\n",
      "\n",
      "FIR filter parameters\n",
      "---------------------\n",
      "Designing a one-pass, zero-phase, non-causal bandpass filter:\n",
      "- Windowed time-domain design (firwin) method\n",
      "- Hamming window with 0.0194 passband ripple and 53 dB stopband attenuation\n",
      "- Lower passband edge: 3.00\n",
      "- Lower transition bandwidth: 2.00 Hz (-6 dB cutoff frequency: 2.00 Hz)\n",
      "- Upper passband edge: 38.00 Hz\n",
      "- Upper transition bandwidth: 9.50 Hz (-6 dB cutoff frequency: 42.75 Hz)\n",
      "- Filter length: 413 samples (1.652 s)\n",
      "\n"
     ]
    },
    {
     "name": "stderr",
     "output_type": "stream",
     "text": [
      "[Parallel(n_jobs=1)]: Done  17 tasks      | elapsed:    0.0s\n",
      "[Parallel(n_jobs=1)]: Done  71 tasks      | elapsed:    0.3s\n"
     ]
    },
    {
     "name": "stdout",
     "output_type": "stream",
     "text": [
      "Filtering raw data in 4 contiguous segments\n",
      "Setting up band-pass filter from 3 - 38 Hz\n",
      "\n",
      "FIR filter parameters\n",
      "---------------------\n",
      "Designing a one-pass, zero-phase, non-causal bandpass filter:\n",
      "- Windowed time-domain design (firwin) method\n",
      "- Hamming window with 0.0194 passband ripple and 53 dB stopband attenuation\n",
      "- Lower passband edge: 3.00\n",
      "- Lower transition bandwidth: 2.00 Hz (-6 dB cutoff frequency: 2.00 Hz)\n",
      "- Upper passband edge: 38.00 Hz\n",
      "- Upper transition bandwidth: 9.50 Hz (-6 dB cutoff frequency: 42.75 Hz)\n",
      "- Filter length: 413 samples (1.652 s)\n",
      "\n"
     ]
    },
    {
     "name": "stderr",
     "output_type": "stream",
     "text": [
      "[Parallel(n_jobs=1)]: Done  17 tasks      | elapsed:    0.0s\n",
      "[Parallel(n_jobs=1)]: Done  71 tasks      | elapsed:    0.4s\n"
     ]
    },
    {
     "name": "stdout",
     "output_type": "stream",
     "text": [
      "Filtering raw data in 3 contiguous segments\n",
      "Setting up band-pass filter from 3 - 38 Hz\n",
      "\n",
      "FIR filter parameters\n",
      "---------------------\n",
      "Designing a one-pass, zero-phase, non-causal bandpass filter:\n",
      "- Windowed time-domain design (firwin) method\n",
      "- Hamming window with 0.0194 passband ripple and 53 dB stopband attenuation\n",
      "- Lower passband edge: 3.00\n",
      "- Lower transition bandwidth: 2.00 Hz (-6 dB cutoff frequency: 2.00 Hz)\n",
      "- Upper passband edge: 38.00 Hz\n",
      "- Upper transition bandwidth: 9.50 Hz (-6 dB cutoff frequency: 42.75 Hz)\n",
      "- Filter length: 413 samples (1.652 s)\n",
      "\n"
     ]
    },
    {
     "name": "stderr",
     "output_type": "stream",
     "text": [
      "[Parallel(n_jobs=1)]: Done  17 tasks      | elapsed:    0.0s\n",
      "[Parallel(n_jobs=1)]: Done  71 tasks      | elapsed:    0.4s\n"
     ]
    }
   ],
   "source": [
    "for data in sbj_records:\n",
    "    data.filter(l_freq=3, h_freq=38, method='fir')"
   ]
  },
  {
   "attachments": {},
   "cell_type": "markdown",
   "id": "8aec107f-a0ec-4166-8289-14111796e982",
   "metadata": {},
   "source": [
    "**Mark FP1 as bad channel and interpolate using other channels**"
   ]
  },
  {
   "cell_type": "code",
   "execution_count": 9,
   "id": "0f1ea917-8849-45be-9857-c8a7e278fb3e",
   "metadata": {},
   "outputs": [],
   "source": [
    "bad_channels = ['FP1']"
   ]
  },
  {
   "cell_type": "code",
   "execution_count": 10,
   "id": "302becef-22f3-4bbb-9d7d-953f712e01e4",
   "metadata": {},
   "outputs": [],
   "source": [
    "sbj_records[3].info['bads'] = bad_channels"
   ]
  },
  {
   "cell_type": "code",
   "execution_count": 11,
   "id": "1a01fbad-5d84-4db0-937c-aedc1eb89337",
   "metadata": {},
   "outputs": [
    {
     "name": "stdout",
     "output_type": "stream",
     "text": [
      "Setting channel interpolation method to {'eeg': 'spline'}.\n",
      "Interpolating bad channels.\n",
      "    Automatic origin fit: head of radius 96.5 mm\n",
      "Computing interpolation matrix from 121 sensor positions\n",
      "Interpolating 1 sensors\n"
     ]
    },
    {
     "data": {
      "text/html": [
       "<details open>\n",
       "    <summary><strong>General</strong></summary>\n",
       "    <table class=\"table table-hover table-striped table-sm table-responsive small\">\n",
       "        <tr>\n",
       "            <th>Measurement date</th>\n",
       "            \n",
       "            <td>November 09, 2019  17:47:34 GMT</td>\n",
       "            \n",
       "        </tr>\n",
       "        <tr>\n",
       "            <th>Experimenter</th>\n",
       "            \n",
       "            <td>Unknown</td>\n",
       "            \n",
       "        </tr>\n",
       "        <tr>\n",
       "            <th>Participant</th>\n",
       "            \n",
       "            <td>Unknown</td>\n",
       "            \n",
       "        </tr>\n",
       "    </table>\n",
       "    </details>\n",
       "    <details open>\n",
       "        <summary><strong>Channels</strong></summary>\n",
       "        <table class=\"table table-hover table-striped table-sm table-responsive small\">\n",
       "            <tr>\n",
       "                <th>Digitized points</th>\n",
       "                \n",
       "                <td>125 points</td>\n",
       "                \n",
       "            </tr>\n",
       "            <tr>\n",
       "                <th>Good channels</th>\n",
       "                <td>122 EEG, 10 misc</td>\n",
       "            </tr>\n",
       "            <tr>\n",
       "                <th>Bad channels</th>\n",
       "                <td>None</td>\n",
       "            </tr>\n",
       "            <tr>\n",
       "                <th>EOG channels</th>\n",
       "                <td>Not available</td>\n",
       "            </tr>\n",
       "            <tr>\n",
       "                <th>ECG channels</th>\n",
       "                <td>Not available</td>\n",
       "            </tr>\n",
       "        </table>\n",
       "        </details>\n",
       "        <details open>\n",
       "            <summary><strong>Data</strong></summary>\n",
       "            <table class=\"table table-hover table-striped table-sm table-responsive small\">\n",
       "                \n",
       "                <tr>\n",
       "                    <th>Sampling frequency</th>\n",
       "                    <td>250.00 Hz</td>\n",
       "                </tr>\n",
       "                \n",
       "                \n",
       "                <tr>\n",
       "                    <th>Highpass</th>\n",
       "                    <td>3.00 Hz</td>\n",
       "                </tr>\n",
       "                \n",
       "                \n",
       "                <tr>\n",
       "                    <th>Lowpass</th>\n",
       "                    <td>38.00 Hz</td>\n",
       "                </tr>\n",
       "                \n",
       "                \n",
       "                \n",
       "                <tr>\n",
       "                    <th>Filenames</th>\n",
       "                    <td>motor.dat</td>\n",
       "                </tr>\n",
       "                \n",
       "                \n",
       "                <tr>\n",
       "                    <th>Duration</th>\n",
       "                    <td>00:16:23 (HH:MM:SS)</td>\n",
       "                </tr>\n",
       "                \n",
       "            </table>\n",
       "            </details>"
      ],
      "text/plain": [
       "<RawCurry | motor.dat, 132 x 245575 (982.3 s), ~247.5 MB, data loaded>"
      ]
     },
     "execution_count": 11,
     "metadata": {},
     "output_type": "execute_result"
    }
   ],
   "source": [
    "sbj_records[3].interpolate_bads(reset_bads=True)"
   ]
  },
  {
   "cell_type": "markdown",
   "id": "05b067c3-fb3c-4d27-9a4a-95769a5b9d03",
   "metadata": {},
   "source": [
    "**re-referencing using averaging method**"
   ]
  },
  {
   "cell_type": "code",
   "execution_count": 12,
   "id": "c70590e9-84aa-465f-bef2-3114ec6afd3f",
   "metadata": {
    "scrolled": true
   },
   "outputs": [
    {
     "name": "stdout",
     "output_type": "stream",
     "text": [
      "EEG channel type selected for re-referencing\n",
      "Adding average EEG reference projection.\n",
      "1 projection items deactivated\n",
      "Average reference projection was added, but has not been applied yet. Use the apply_proj method to apply it.\n",
      "EEG channel type selected for re-referencing\n",
      "Adding average EEG reference projection.\n",
      "1 projection items deactivated\n",
      "Average reference projection was added, but has not been applied yet. Use the apply_proj method to apply it.\n",
      "EEG channel type selected for re-referencing\n",
      "Adding average EEG reference projection.\n",
      "1 projection items deactivated\n",
      "Average reference projection was added, but has not been applied yet. Use the apply_proj method to apply it.\n",
      "EEG channel type selected for re-referencing\n",
      "Adding average EEG reference projection.\n",
      "1 projection items deactivated\n",
      "Average reference projection was added, but has not been applied yet. Use the apply_proj method to apply it.\n",
      "EEG channel type selected for re-referencing\n",
      "Adding average EEG reference projection.\n",
      "1 projection items deactivated\n",
      "Average reference projection was added, but has not been applied yet. Use the apply_proj method to apply it.\n",
      "EEG channel type selected for re-referencing\n",
      "Adding average EEG reference projection.\n",
      "1 projection items deactivated\n",
      "Average reference projection was added, but has not been applied yet. Use the apply_proj method to apply it.\n"
     ]
    }
   ],
   "source": [
    "for sbj in sbj_records:\n",
    "    sbj.set_eeg_reference(ref_channels='average', projection=True)"
   ]
  },
  {
   "cell_type": "markdown",
   "id": "8b08d6bc-1216-41e0-a44e-97b0588a970b",
   "metadata": {},
   "source": [
    "**apply epochs which range are [-2, 6]**"
   ]
  },
  {
   "cell_type": "code",
   "execution_count": 13,
   "id": "80096bb5-2891-4c15-a76b-487ea59b1df9",
   "metadata": {
    "scrolled": true
   },
   "outputs": [
    {
     "name": "stdout",
     "output_type": "stream",
     "text": [
      "Used Annotations descriptions: ['1', '2', '700010']\n",
      "Not setting metadata\n",
      "240 matching events found\n",
      "No baseline correction applied\n",
      "Created an SSP operator (subspace dimension = 1)\n",
      "1 projection items activated\n",
      "Used Annotations descriptions: ['1', '2']\n",
      "Not setting metadata\n",
      "160 matching events found\n",
      "No baseline correction applied\n",
      "Created an SSP operator (subspace dimension = 1)\n",
      "1 projection items activated\n",
      "Used Annotations descriptions: ['1', '2', '800000', '800001']\n",
      "Not setting metadata\n",
      "160 matching events found\n",
      "No baseline correction applied\n",
      "Created an SSP operator (subspace dimension = 1)\n",
      "1 projection items activated\n",
      "Used Annotations descriptions: ['1', '2', '800000', '800001']\n",
      "Not setting metadata\n",
      "80 matching events found\n",
      "No baseline correction applied\n",
      "Created an SSP operator (subspace dimension = 1)\n",
      "1 projection items activated\n",
      "Used Annotations descriptions: ['1', '2', '800000', '800001']\n",
      "Not setting metadata\n",
      "234 matching events found\n",
      "No baseline correction applied\n",
      "Created an SSP operator (subspace dimension = 1)\n",
      "1 projection items activated\n",
      "Used Annotations descriptions: ['1', '2']\n",
      "Not setting metadata\n",
      "240 matching events found\n",
      "No baseline correction applied\n",
      "Created an SSP operator (subspace dimension = 1)\n",
      "1 projection items activated\n"
     ]
    }
   ],
   "source": [
    "epochs = []\n",
    "for sbj in sbj_records:\n",
    "    events, event_id = mne.events_from_annotations(sbj)\n",
    "    epochs.append(mne.Epochs(sbj, events, event_id={'left': 1, 'right': 2}, tmin=-2, tmax=6, baseline=None))"
   ]
  },
  {
   "cell_type": "markdown",
   "id": "003c7352-b232-4ee4-bcd5-22033ced2a9f",
   "metadata": {},
   "source": [
    "**delete epochs which are greater than 2$\\sigma$ of all channels**"
   ]
  },
  {
   "cell_type": "code",
   "execution_count": 14,
   "id": "37206938-decc-4146-b87e-e7e5dc836393",
   "metadata": {},
   "outputs": [
    {
     "data": {
      "text/plain": [
       "[<Epochs |  240 events (good & bad), -2 – 6 s, baseline off, ~178 kB, data not loaded,\n",
       "  'left': 120\n",
       "  'right': 120>,\n",
       " <Epochs |  160 events (good & bad), -2 – 6 s, baseline off, ~178 kB, data not loaded,\n",
       "  'left': 80\n",
       "  'right': 80>,\n",
       " <Epochs |  160 events (good & bad), -2 – 6 s, baseline off, ~178 kB, data not loaded,\n",
       "  'left': 80\n",
       "  'right': 80>,\n",
       " <Epochs |  80 events (good & bad), -2 – 6 s, baseline off, ~178 kB, data not loaded,\n",
       "  'left': 40\n",
       "  'right': 40>,\n",
       " <Epochs |  234 events (good & bad), -2 – 6 s, baseline off, ~178 kB, data not loaded,\n",
       "  'left': 117\n",
       "  'right': 117>,\n",
       " <Epochs |  240 events (good & bad), -2 – 6 s, baseline off, ~178 kB, data not loaded,\n",
       "  'left': 120\n",
       "  'right': 120>]"
      ]
     },
     "execution_count": 14,
     "metadata": {},
     "output_type": "execute_result"
    }
   ],
   "source": [
    "epochs"
   ]
  },
  {
   "cell_type": "code",
   "execution_count": 15,
   "id": "86bc5722-db3c-4a9e-b47d-5c802d90b962",
   "metadata": {
    "scrolled": true
   },
   "outputs": [
    {
     "name": "stdout",
     "output_type": "stream",
     "text": [
      "Using data from preloaded Raw for 240 events and 2001 original time points ...\n",
      "0 bad epochs dropped\n",
      "Dropped 3 epochs: 12, 26, 188\n",
      "Using data from preloaded Raw for 160 events and 2001 original time points ...\n",
      "0 bad epochs dropped\n",
      "Dropped 0 epochs: \n",
      "Using data from preloaded Raw for 160 events and 2001 original time points ...\n",
      "0 bad epochs dropped\n",
      "Dropped 15 epochs: 38, 54, 58, 59, 60, 61, 79, 83, 87, 97, 102, 103, 104, 124, 127\n",
      "Using data from preloaded Raw for 80 events and 2001 original time points ...\n",
      "0 bad epochs dropped\n",
      "Dropped 1 epoch: 26\n",
      "Using data from preloaded Raw for 234 events and 2001 original time points ...\n",
      "0 bad epochs dropped\n",
      "Dropped 4 epochs: 74, 88, 99, 135\n",
      "Using data from preloaded Raw for 240 events and 2001 original time points ...\n",
      "0 bad epochs dropped\n",
      "Dropped 0 epochs: \n"
     ]
    }
   ],
   "source": [
    "for i, epc in enumerate(epochs):\n",
    "    data = epc.get_data()  # shape is (n_epochs, n_channels, n_times)\n",
    "    \n",
    "    # Calculate std for each channel in each epoch across time points (axis=2)\n",
    "    std_epochs = data.std(axis=2)\n",
    "    \n",
    "    # Rejection based on single-channel exceeding 6σ\n",
    "    reject_criteria = np.any(std_epochs > 6 * std_epochs.mean(axis=0), axis=1)\n",
    "    \n",
    "    # Rejection based on all channels exceeding 2σ\n",
    "    flat_criteria = np.all(std_epochs > 2 * std_epochs.mean(axis=0), axis=1)\n",
    "    \n",
    "    # Combine the rejection criteria\n",
    "    bad_epochs = reject_criteria | flat_criteria\n",
    "    \n",
    "    # Drop bad epochs\n",
    "    epc.drop(np.where(bad_epochs)[0], reason='bad_epochs')\n",
    "clean_epochs = epochs"
   ]
  },
  {
   "cell_type": "code",
   "execution_count": 16,
   "id": "33dbb396-f795-4bcf-90b8-7c1e435da4c9",
   "metadata": {},
   "outputs": [
    {
     "data": {
      "text/plain": [
       "[<Epochs |  237 events (all good), -2 – 6 s, baseline off, ~178 kB, data not loaded,\n",
       "  'left': 120\n",
       "  'right': 117>,\n",
       " <Epochs |  160 events (all good), -2 – 6 s, baseline off, ~178 kB, data not loaded,\n",
       "  'left': 80\n",
       "  'right': 80>,\n",
       " <Epochs |  145 events (all good), -2 – 6 s, baseline off, ~178 kB, data not loaded,\n",
       "  'left': 73\n",
       "  'right': 72>,\n",
       " <Epochs |  79 events (all good), -2 – 6 s, baseline off, ~178 kB, data not loaded,\n",
       "  'left': 39\n",
       "  'right': 40>,\n",
       " <Epochs |  230 events (all good), -2 – 6 s, baseline off, ~178 kB, data not loaded,\n",
       "  'left': 114\n",
       "  'right': 116>,\n",
       " <Epochs |  240 events (all good), -2 – 6 s, baseline off, ~178 kB, data not loaded,\n",
       "  'left': 120\n",
       "  'right': 120>]"
      ]
     },
     "execution_count": 16,
     "metadata": {},
     "output_type": "execute_result"
    }
   ],
   "source": [
    "epochs"
   ]
  },
  {
   "cell_type": "markdown",
   "id": "a3e26145-3680-466c-83b8-1cf44726b701",
   "metadata": {},
   "source": [
    "**apply ICA filter on each epoch**"
   ]
  },
  {
   "cell_type": "code",
   "execution_count": 17,
   "id": "67161c8c-e749-48d7-ae14-b57bf6a8b180",
   "metadata": {},
   "outputs": [],
   "source": [
    "ica = mne.preprocessing.ICA(n_components=20)"
   ]
  },
  {
   "cell_type": "code",
   "execution_count": 18,
   "id": "d7d9b231-5136-4fa0-aef4-126769e1932a",
   "metadata": {
    "scrolled": true
   },
   "outputs": [
    {
     "name": "stdout",
     "output_type": "stream",
     "text": [
      "Fitting ICA to data using 122 channels (please be patient, this may take a while)\n",
      "Using data from preloaded Raw for 237 events and 2001 original time points ...\n",
      "    Applying projection operator with 1 vector (pre-whitener computation)\n",
      "    Applying projection operator with 1 vector (pre-whitener application)\n",
      "Selecting by number: 20 components\n",
      "Using data from preloaded Raw for 237 events and 2001 original time points ...\n",
      "    Applying projection operator with 1 vector (pre-whitener application)\n",
      "Fitting ICA took 21.8s.\n",
      "Fitting ICA to data using 122 channels (please be patient, this may take a while)\n",
      "Using data from preloaded Raw for 160 events and 2001 original time points ...\n",
      "    Applying projection operator with 1 vector (pre-whitener computation)\n",
      "    Applying projection operator with 1 vector (pre-whitener application)\n",
      "Selecting by number: 20 components\n",
      "Using data from preloaded Raw for 160 events and 2001 original time points ...\n",
      "    Applying projection operator with 1 vector (pre-whitener application)\n",
      "Fitting ICA took 11.3s.\n",
      "Fitting ICA to data using 122 channels (please be patient, this may take a while)\n",
      "Using data from preloaded Raw for 145 events and 2001 original time points ...\n",
      "    Applying projection operator with 1 vector (pre-whitener computation)\n",
      "    Applying projection operator with 1 vector (pre-whitener application)\n",
      "Selecting by number: 20 components\n",
      "Using data from preloaded Raw for 145 events and 2001 original time points ...\n",
      "    Applying projection operator with 1 vector (pre-whitener application)\n",
      "Fitting ICA took 15.7s.\n",
      "Fitting ICA to data using 122 channels (please be patient, this may take a while)\n",
      "Using data from preloaded Raw for 79 events and 2001 original time points ...\n",
      "    Applying projection operator with 1 vector (pre-whitener computation)\n",
      "    Applying projection operator with 1 vector (pre-whitener application)\n",
      "Selecting by number: 20 components\n",
      "Using data from preloaded Raw for 79 events and 2001 original time points ...\n",
      "    Applying projection operator with 1 vector (pre-whitener application)\n",
      "Fitting ICA took 6.8s.\n",
      "Fitting ICA to data using 122 channels (please be patient, this may take a while)\n",
      "Using data from preloaded Raw for 230 events and 2001 original time points ...\n",
      "    Applying projection operator with 1 vector (pre-whitener computation)\n",
      "    Applying projection operator with 1 vector (pre-whitener application)\n",
      "Selecting by number: 20 components\n",
      "Using data from preloaded Raw for 230 events and 2001 original time points ...\n",
      "    Applying projection operator with 1 vector (pre-whitener application)\n",
      "Fitting ICA took 29.5s.\n",
      "Fitting ICA to data using 122 channels (please be patient, this may take a while)\n",
      "Using data from preloaded Raw for 240 events and 2001 original time points ...\n",
      "    Applying projection operator with 1 vector (pre-whitener computation)\n",
      "    Applying projection operator with 1 vector (pre-whitener application)\n",
      "Selecting by number: 20 components\n",
      "Using data from preloaded Raw for 240 events and 2001 original time points ...\n",
      "    Applying projection operator with 1 vector (pre-whitener application)\n",
      "Fitting ICA took 32.2s.\n"
     ]
    }
   ],
   "source": [
    "for sbj_epoch in clean_epochs:\n",
    "    sbj_epoch = ica.fit(sbj_epoch)"
   ]
  },
  {
   "cell_type": "markdown",
   "id": "0c19c4a5-bd14-4a4f-ae2e-99ed8a453e85",
   "metadata": {},
   "source": [
    "**select channels**"
   ]
  },
  {
   "cell_type": "code",
   "execution_count": 19,
   "id": "29a79554-a2f4-4603-9ea2-6021340b9444",
   "metadata": {
    "scrolled": true
   },
   "outputs": [
    {
     "name": "stdout",
     "output_type": "stream",
     "text": [
      "Using data from preloaded Raw for 237 events and 2001 original time points ...\n",
      "NOTE: pick_channels() is a legacy function. New code should use inst.pick(...).\n",
      "Using data from preloaded Raw for 160 events and 2001 original time points ...\n",
      "NOTE: pick_channels() is a legacy function. New code should use inst.pick(...).\n",
      "Using data from preloaded Raw for 145 events and 2001 original time points ...\n",
      "NOTE: pick_channels() is a legacy function. New code should use inst.pick(...).\n",
      "Using data from preloaded Raw for 79 events and 2001 original time points ...\n",
      "NOTE: pick_channels() is a legacy function. New code should use inst.pick(...).\n",
      "Using data from preloaded Raw for 230 events and 2001 original time points ...\n",
      "NOTE: pick_channels() is a legacy function. New code should use inst.pick(...).\n",
      "Using data from preloaded Raw for 240 events and 2001 original time points ...\n",
      "NOTE: pick_channels() is a legacy function. New code should use inst.pick(...).\n"
     ]
    }
   ],
   "source": [
    "selected = []\n",
    "for sbj_epoch in clean_epochs:\n",
    "    sbj_epoch.load_data() \n",
    "    sbj_epoch_copy = sbj_epoch.copy()\n",
    "    selected.append(sbj_epoch_copy.pick_channels(['T9','T10','C3','C4','LF','LB','LOU','LOD','RF','RB','ROU','ROD']))"
   ]
  },
  {
   "cell_type": "markdown",
   "id": "1b65b5ee-3f42-46e6-aa22-6d62895458f0",
   "metadata": {},
   "source": [
    "**calculate the PSD of each epochs**"
   ]
  },
  {
   "cell_type": "code",
   "execution_count": 20,
   "id": "b13d5a46-0062-4312-8cdd-f0a93cb4bf37",
   "metadata": {},
   "outputs": [],
   "source": [
    "ear_scalp = {\n",
    "    'theta': [],\n",
    "    'alpha': [],\n",
    "    'betha': [], \n",
    "    'low gamma':[]\n",
    "}\n",
    "ear_motor = {\n",
    "    'theta': [],\n",
    "    'alpha': [],\n",
    "    'betha': [], \n",
    "    'low gamma':[]\n",
    "}"
   ]
  },
  {
   "cell_type": "code",
   "execution_count": 21,
   "id": "b72bfaa3-11e9-4e04-a8e9-d3e086165b0e",
   "metadata": {
    "scrolled": true
   },
   "outputs": [
    {
     "name": "stdout",
     "output_type": "stream",
     "text": [
      "Effective window size : 1.024 (s)\n",
      "Effective window size : 1.024 (s)\n",
      "Effective window size : 1.024 (s)\n",
      "Effective window size : 1.024 (s)\n",
      "Effective window size : 1.024 (s)\n",
      "Effective window size : 1.024 (s)\n",
      "Effective window size : 1.024 (s)\n",
      "Effective window size : 1.024 (s)\n",
      "Effective window size : 1.024 (s)\n",
      "Effective window size : 1.024 (s)\n",
      "Effective window size : 1.024 (s)\n",
      "Effective window size : 1.024 (s)\n",
      "Effective window size : 1.024 (s)\n",
      "Effective window size : 1.024 (s)\n",
      "Effective window size : 1.024 (s)\n",
      "Effective window size : 1.024 (s)\n",
      "Effective window size : 1.024 (s)\n",
      "Effective window size : 1.024 (s)\n",
      "Effective window size : 1.024 (s)\n",
      "Effective window size : 1.024 (s)\n",
      "Effective window size : 1.024 (s)\n",
      "Effective window size : 1.024 (s)\n",
      "Effective window size : 1.024 (s)\n",
      "Effective window size : 1.024 (s)\n",
      "Effective window size : 1.024 (s)\n",
      "Effective window size : 1.024 (s)\n",
      "Effective window size : 1.024 (s)\n",
      "Effective window size : 1.024 (s)\n",
      "Effective window size : 1.024 (s)\n",
      "Effective window size : 1.024 (s)\n",
      "Effective window size : 1.024 (s)\n",
      "Effective window size : 1.024 (s)\n",
      "Effective window size : 1.024 (s)\n",
      "Effective window size : 1.024 (s)\n",
      "Effective window size : 1.024 (s)\n",
      "Effective window size : 1.024 (s)\n",
      "Effective window size : 1.024 (s)\n",
      "Effective window size : 1.024 (s)\n",
      "Effective window size : 1.024 (s)\n",
      "Effective window size : 1.024 (s)\n",
      "Effective window size : 1.024 (s)\n",
      "Effective window size : 1.024 (s)\n",
      "Effective window size : 1.024 (s)\n",
      "Effective window size : 1.024 (s)\n",
      "Effective window size : 1.024 (s)\n",
      "Effective window size : 1.024 (s)\n",
      "Effective window size : 1.024 (s)\n",
      "Effective window size : 1.024 (s)\n",
      "Effective window size : 1.024 (s)\n",
      "Effective window size : 1.024 (s)\n",
      "Effective window size : 1.024 (s)\n",
      "Effective window size : 1.024 (s)\n",
      "Effective window size : 1.024 (s)\n",
      "Effective window size : 1.024 (s)\n",
      "Effective window size : 1.024 (s)\n",
      "Effective window size : 1.024 (s)\n",
      "Effective window size : 1.024 (s)\n",
      "Effective window size : 1.024 (s)\n",
      "Effective window size : 1.024 (s)\n",
      "Effective window size : 1.024 (s)\n",
      "Effective window size : 1.024 (s)\n",
      "Effective window size : 1.024 (s)\n",
      "Effective window size : 1.024 (s)\n",
      "Effective window size : 1.024 (s)\n",
      "Effective window size : 1.024 (s)\n",
      "Effective window size : 1.024 (s)\n",
      "Effective window size : 1.024 (s)\n",
      "Effective window size : 1.024 (s)\n",
      "Effective window size : 1.024 (s)\n",
      "Effective window size : 1.024 (s)\n",
      "Effective window size : 1.024 (s)\n",
      "Effective window size : 1.024 (s)\n",
      "Effective window size : 1.024 (s)\n",
      "Effective window size : 1.024 (s)\n",
      "Effective window size : 1.024 (s)\n",
      "Effective window size : 1.024 (s)\n",
      "Effective window size : 1.024 (s)\n",
      "Effective window size : 1.024 (s)\n",
      "Effective window size : 1.024 (s)\n",
      "Effective window size : 1.024 (s)\n",
      "Effective window size : 1.024 (s)\n",
      "Effective window size : 1.024 (s)\n",
      "Effective window size : 1.024 (s)\n",
      "Effective window size : 1.024 (s)\n",
      "Effective window size : 1.024 (s)\n",
      "Effective window size : 1.024 (s)\n",
      "Effective window size : 1.024 (s)\n",
      "Effective window size : 1.024 (s)\n",
      "Effective window size : 1.024 (s)\n",
      "Effective window size : 1.024 (s)\n",
      "Effective window size : 1.024 (s)\n",
      "Effective window size : 1.024 (s)\n",
      "Effective window size : 1.024 (s)\n",
      "Effective window size : 1.024 (s)\n",
      "Effective window size : 1.024 (s)\n",
      "Effective window size : 1.024 (s)\n",
      "Effective window size : 1.024 (s)\n",
      "Effective window size : 1.024 (s)\n",
      "Effective window size : 1.024 (s)\n",
      "Effective window size : 1.024 (s)\n",
      "Effective window size : 1.024 (s)\n",
      "Effective window size : 1.024 (s)\n",
      "Effective window size : 1.024 (s)\n",
      "Effective window size : 1.024 (s)\n",
      "Effective window size : 1.024 (s)\n",
      "Effective window size : 1.024 (s)\n",
      "Effective window size : 1.024 (s)\n",
      "Effective window size : 1.024 (s)\n",
      "Effective window size : 1.024 (s)\n",
      "Effective window size : 1.024 (s)\n",
      "Effective window size : 1.024 (s)\n",
      "Effective window size : 1.024 (s)\n",
      "Effective window size : 1.024 (s)\n",
      "Effective window size : 1.024 (s)\n",
      "Effective window size : 1.024 (s)\n",
      "Effective window size : 1.024 (s)\n",
      "Effective window size : 1.024 (s)\n",
      "Effective window size : 1.024 (s)\n",
      "Effective window size : 1.024 (s)\n",
      "Effective window size : 1.024 (s)\n",
      "Effective window size : 1.024 (s)\n",
      "Effective window size : 1.024 (s)\n",
      "Effective window size : 1.024 (s)\n",
      "Effective window size : 1.024 (s)\n",
      "Effective window size : 1.024 (s)\n",
      "Effective window size : 1.024 (s)\n",
      "Effective window size : 1.024 (s)\n",
      "Effective window size : 1.024 (s)\n",
      "Effective window size : 1.024 (s)\n",
      "Effective window size : 1.024 (s)\n",
      "Effective window size : 1.024 (s)\n",
      "Effective window size : 1.024 (s)\n",
      "Effective window size : 1.024 (s)\n",
      "Effective window size : 1.024 (s)\n",
      "Effective window size : 1.024 (s)\n",
      "Effective window size : 1.024 (s)\n",
      "Effective window size : 1.024 (s)\n",
      "Effective window size : 1.024 (s)\n",
      "Effective window size : 1.024 (s)\n",
      "Effective window size : 1.024 (s)\n",
      "Effective window size : 1.024 (s)\n",
      "Effective window size : 1.024 (s)\n",
      "Effective window size : 1.024 (s)\n",
      "Effective window size : 1.024 (s)\n",
      "Effective window size : 1.024 (s)\n",
      "Effective window size : 1.024 (s)\n",
      "Effective window size : 1.024 (s)\n",
      "Effective window size : 1.024 (s)\n",
      "Effective window size : 1.024 (s)\n",
      "Effective window size : 1.024 (s)\n",
      "Effective window size : 1.024 (s)\n",
      "Effective window size : 1.024 (s)\n",
      "Effective window size : 1.024 (s)\n",
      "Effective window size : 1.024 (s)\n",
      "Effective window size : 1.024 (s)\n",
      "Effective window size : 1.024 (s)\n",
      "Effective window size : 1.024 (s)\n",
      "Effective window size : 1.024 (s)\n",
      "Effective window size : 1.024 (s)\n",
      "Effective window size : 1.024 (s)\n",
      "Effective window size : 1.024 (s)\n",
      "Effective window size : 1.024 (s)\n",
      "Effective window size : 1.024 (s)\n",
      "Effective window size : 1.024 (s)\n",
      "Effective window size : 1.024 (s)\n",
      "Effective window size : 1.024 (s)\n",
      "Effective window size : 1.024 (s)\n",
      "Effective window size : 1.024 (s)\n",
      "Effective window size : 1.024 (s)\n",
      "Effective window size : 1.024 (s)\n",
      "Effective window size : 1.024 (s)\n",
      "Effective window size : 1.024 (s)\n",
      "Effective window size : 1.024 (s)\n",
      "Effective window size : 1.024 (s)\n",
      "Effective window size : 1.024 (s)\n",
      "Effective window size : 1.024 (s)\n",
      "Effective window size : 1.024 (s)\n",
      "Effective window size : 1.024 (s)\n",
      "Effective window size : 1.024 (s)\n",
      "Effective window size : 1.024 (s)\n",
      "Effective window size : 1.024 (s)\n",
      "Effective window size : 1.024 (s)\n",
      "Effective window size : 1.024 (s)\n",
      "Effective window size : 1.024 (s)\n",
      "Effective window size : 1.024 (s)\n",
      "Effective window size : 1.024 (s)\n",
      "Effective window size : 1.024 (s)\n",
      "Effective window size : 1.024 (s)\n",
      "Effective window size : 1.024 (s)\n",
      "Effective window size : 1.024 (s)\n",
      "Effective window size : 1.024 (s)\n",
      "Effective window size : 1.024 (s)\n",
      "Effective window size : 1.024 (s)\n",
      "Effective window size : 1.024 (s)\n",
      "Effective window size : 1.024 (s)\n",
      "Effective window size : 1.024 (s)\n",
      "Effective window size : 1.024 (s)\n",
      "Effective window size : 1.024 (s)\n",
      "Effective window size : 1.024 (s)\n",
      "Effective window size : 1.024 (s)\n",
      "Effective window size : 1.024 (s)\n",
      "Effective window size : 1.024 (s)\n",
      "Effective window size : 1.024 (s)\n",
      "Effective window size : 1.024 (s)\n",
      "Effective window size : 1.024 (s)\n",
      "Effective window size : 1.024 (s)\n",
      "Effective window size : 1.024 (s)\n",
      "Effective window size : 1.024 (s)\n",
      "Effective window size : 1.024 (s)\n",
      "Effective window size : 1.024 (s)\n",
      "Effective window size : 1.024 (s)\n",
      "Effective window size : 1.024 (s)\n",
      "Effective window size : 1.024 (s)\n",
      "Effective window size : 1.024 (s)\n",
      "Effective window size : 1.024 (s)\n",
      "Effective window size : 1.024 (s)\n",
      "Effective window size : 1.024 (s)\n",
      "Effective window size : 1.024 (s)\n",
      "Effective window size : 1.024 (s)\n",
      "Effective window size : 1.024 (s)\n",
      "Effective window size : 1.024 (s)\n",
      "Effective window size : 1.024 (s)\n",
      "Effective window size : 1.024 (s)\n",
      "Effective window size : 1.024 (s)\n",
      "Effective window size : 1.024 (s)\n",
      "Effective window size : 1.024 (s)\n",
      "Effective window size : 1.024 (s)\n",
      "Effective window size : 1.024 (s)\n",
      "Effective window size : 1.024 (s)\n",
      "Effective window size : 1.024 (s)\n",
      "Effective window size : 1.024 (s)\n",
      "Effective window size : 1.024 (s)\n",
      "Effective window size : 1.024 (s)\n",
      "Effective window size : 1.024 (s)\n",
      "Effective window size : 1.024 (s)\n",
      "Effective window size : 1.024 (s)\n",
      "Effective window size : 1.024 (s)\n",
      "Effective window size : 1.024 (s)\n",
      "Effective window size : 1.024 (s)\n",
      "Effective window size : 1.024 (s)\n",
      "Effective window size : 1.024 (s)\n",
      "Effective window size : 1.024 (s)\n",
      "Effective window size : 1.024 (s)\n",
      "Effective window size : 1.024 (s)\n",
      "Effective window size : 1.024 (s)\n",
      "Effective window size : 1.024 (s)\n",
      "Effective window size : 1.024 (s)\n",
      "Effective window size : 1.024 (s)\n",
      "Effective window size : 1.024 (s)\n",
      "Effective window size : 1.024 (s)\n",
      "Effective window size : 1.024 (s)\n",
      "Effective window size : 1.024 (s)\n",
      "Effective window size : 1.024 (s)\n",
      "Effective window size : 1.024 (s)\n",
      "Effective window size : 1.024 (s)\n",
      "Effective window size : 1.024 (s)\n",
      "Effective window size : 1.024 (s)\n",
      "Effective window size : 1.024 (s)\n",
      "Effective window size : 1.024 (s)\n",
      "Effective window size : 1.024 (s)\n",
      "Effective window size : 1.024 (s)\n",
      "Effective window size : 1.024 (s)\n",
      "Effective window size : 1.024 (s)\n",
      "Effective window size : 1.024 (s)\n",
      "Effective window size : 1.024 (s)\n",
      "Effective window size : 1.024 (s)\n",
      "Effective window size : 1.024 (s)\n",
      "Effective window size : 1.024 (s)\n",
      "Effective window size : 1.024 (s)\n",
      "Effective window size : 1.024 (s)\n",
      "Effective window size : 1.024 (s)\n",
      "Effective window size : 1.024 (s)\n",
      "Effective window size : 1.024 (s)\n",
      "Effective window size : 1.024 (s)\n",
      "Effective window size : 1.024 (s)\n",
      "Effective window size : 1.024 (s)\n",
      "Effective window size : 1.024 (s)\n",
      "Effective window size : 1.024 (s)\n",
      "Effective window size : 1.024 (s)\n",
      "Effective window size : 1.024 (s)\n",
      "Effective window size : 1.024 (s)\n",
      "Effective window size : 1.024 (s)\n",
      "Effective window size : 1.024 (s)\n",
      "Effective window size : 1.024 (s)\n",
      "Effective window size : 1.024 (s)\n",
      "Effective window size : 1.024 (s)\n",
      "Effective window size : 1.024 (s)\n",
      "Effective window size : 1.024 (s)\n",
      "Effective window size : 1.024 (s)\n",
      "Effective window size : 1.024 (s)\n",
      "Effective window size : 1.024 (s)\n",
      "Effective window size : 1.024 (s)\n",
      "Effective window size : 1.024 (s)\n",
      "Effective window size : 1.024 (s)\n",
      "Effective window size : 1.024 (s)\n",
      "Effective window size : 1.024 (s)\n",
      "Effective window size : 1.024 (s)\n",
      "Effective window size : 1.024 (s)\n",
      "Effective window size : 1.024 (s)\n",
      "Effective window size : 1.024 (s)\n",
      "Effective window size : 1.024 (s)\n",
      "Effective window size : 1.024 (s)\n",
      "Effective window size : 1.024 (s)\n",
      "Effective window size : 1.024 (s)\n",
      "Effective window size : 1.024 (s)\n",
      "Effective window size : 1.024 (s)\n",
      "Effective window size : 1.024 (s)\n",
      "Effective window size : 1.024 (s)\n",
      "Effective window size : 1.024 (s)\n",
      "Effective window size : 1.024 (s)\n",
      "Effective window size : 1.024 (s)\n",
      "Effective window size : 1.024 (s)\n",
      "Effective window size : 1.024 (s)\n",
      "Effective window size : 1.024 (s)\n",
      "Effective window size : 1.024 (s)\n",
      "Effective window size : 1.024 (s)\n",
      "Effective window size : 1.024 (s)\n",
      "Effective window size : 1.024 (s)\n",
      "Effective window size : 1.024 (s)\n",
      "Effective window size : 1.024 (s)\n",
      "Effective window size : 1.024 (s)\n",
      "Effective window size : 1.024 (s)\n",
      "Effective window size : 1.024 (s)\n",
      "Effective window size : 1.024 (s)\n",
      "Effective window size : 1.024 (s)\n",
      "Effective window size : 1.024 (s)\n",
      "Effective window size : 1.024 (s)\n",
      "Effective window size : 1.024 (s)\n",
      "Effective window size : 1.024 (s)\n",
      "Effective window size : 1.024 (s)\n",
      "Effective window size : 1.024 (s)\n",
      "Effective window size : 1.024 (s)\n",
      "Effective window size : 1.024 (s)\n",
      "Effective window size : 1.024 (s)\n",
      "Effective window size : 1.024 (s)\n",
      "Effective window size : 1.024 (s)\n",
      "Effective window size : 1.024 (s)\n",
      "Effective window size : 1.024 (s)\n",
      "Effective window size : 1.024 (s)\n",
      "Effective window size : 1.024 (s)\n",
      "Effective window size : 1.024 (s)\n",
      "Effective window size : 1.024 (s)\n",
      "Effective window size : 1.024 (s)\n",
      "Effective window size : 1.024 (s)\n",
      "Effective window size : 1.024 (s)\n",
      "Effective window size : 1.024 (s)\n",
      "Effective window size : 1.024 (s)\n",
      "Effective window size : 1.024 (s)\n",
      "Effective window size : 1.024 (s)\n",
      "Effective window size : 1.024 (s)\n",
      "Effective window size : 1.024 (s)\n",
      "Effective window size : 1.024 (s)\n",
      "Effective window size : 1.024 (s)\n",
      "Effective window size : 1.024 (s)\n",
      "Effective window size : 1.024 (s)\n",
      "Effective window size : 1.024 (s)\n",
      "Effective window size : 1.024 (s)\n",
      "Effective window size : 1.024 (s)\n",
      "Effective window size : 1.024 (s)\n",
      "Effective window size : 1.024 (s)\n",
      "Effective window size : 1.024 (s)\n",
      "Effective window size : 1.024 (s)\n",
      "Effective window size : 1.024 (s)\n",
      "Effective window size : 1.024 (s)\n",
      "Effective window size : 1.024 (s)\n",
      "Effective window size : 1.024 (s)\n",
      "Effective window size : 1.024 (s)\n",
      "Effective window size : 1.024 (s)\n",
      "Effective window size : 1.024 (s)\n",
      "Effective window size : 1.024 (s)\n",
      "Effective window size : 1.024 (s)\n",
      "Effective window size : 1.024 (s)\n",
      "Effective window size : 1.024 (s)\n",
      "Effective window size : 1.024 (s)\n",
      "Effective window size : 1.024 (s)\n",
      "Effective window size : 1.024 (s)\n",
      "Effective window size : 1.024 (s)\n",
      "Effective window size : 1.024 (s)\n",
      "Effective window size : 1.024 (s)\n",
      "Effective window size : 1.024 (s)\n",
      "Effective window size : 1.024 (s)\n",
      "Effective window size : 1.024 (s)\n",
      "Effective window size : 1.024 (s)\n",
      "Effective window size : 1.024 (s)\n",
      "Effective window size : 1.024 (s)\n",
      "Effective window size : 1.024 (s)\n",
      "Effective window size : 1.024 (s)\n",
      "Effective window size : 1.024 (s)\n",
      "Effective window size : 1.024 (s)\n",
      "Effective window size : 1.024 (s)\n",
      "Effective window size : 1.024 (s)\n",
      "Effective window size : 1.024 (s)\n",
      "Effective window size : 1.024 (s)\n",
      "Effective window size : 1.024 (s)\n",
      "Effective window size : 1.024 (s)\n",
      "Effective window size : 1.024 (s)\n",
      "Effective window size : 1.024 (s)\n",
      "Effective window size : 1.024 (s)\n",
      "Effective window size : 1.024 (s)\n",
      "Effective window size : 1.024 (s)\n",
      "Effective window size : 1.024 (s)\n",
      "Effective window size : 1.024 (s)\n",
      "Effective window size : 1.024 (s)\n",
      "Effective window size : 1.024 (s)\n",
      "Effective window size : 1.024 (s)\n",
      "Effective window size : 1.024 (s)\n",
      "Effective window size : 1.024 (s)\n",
      "Effective window size : 1.024 (s)\n",
      "Effective window size : 1.024 (s)\n",
      "Effective window size : 1.024 (s)\n",
      "Effective window size : 1.024 (s)\n",
      "Effective window size : 1.024 (s)\n",
      "Effective window size : 1.024 (s)\n",
      "Effective window size : 1.024 (s)\n",
      "Effective window size : 1.024 (s)\n",
      "Effective window size : 1.024 (s)\n",
      "Effective window size : 1.024 (s)\n",
      "Effective window size : 1.024 (s)\n",
      "Effective window size : 1.024 (s)\n",
      "Effective window size : 1.024 (s)\n",
      "Effective window size : 1.024 (s)\n",
      "Effective window size : 1.024 (s)\n",
      "Effective window size : 1.024 (s)\n",
      "Effective window size : 1.024 (s)\n",
      "Effective window size : 1.024 (s)\n",
      "Effective window size : 1.024 (s)\n",
      "Effective window size : 1.024 (s)\n",
      "Effective window size : 1.024 (s)\n",
      "Effective window size : 1.024 (s)\n",
      "Effective window size : 1.024 (s)\n",
      "Effective window size : 1.024 (s)\n",
      "Effective window size : 1.024 (s)\n",
      "Effective window size : 1.024 (s)\n",
      "Effective window size : 1.024 (s)\n",
      "Effective window size : 1.024 (s)\n",
      "Effective window size : 1.024 (s)\n",
      "Effective window size : 1.024 (s)\n",
      "Effective window size : 1.024 (s)\n",
      "Effective window size : 1.024 (s)\n",
      "Effective window size : 1.024 (s)\n",
      "Effective window size : 1.024 (s)\n",
      "Effective window size : 1.024 (s)\n",
      "Effective window size : 1.024 (s)\n",
      "Effective window size : 1.024 (s)\n",
      "Effective window size : 1.024 (s)\n",
      "Effective window size : 1.024 (s)\n",
      "Effective window size : 1.024 (s)\n",
      "Effective window size : 1.024 (s)\n",
      "Effective window size : 1.024 (s)\n",
      "Effective window size : 1.024 (s)\n",
      "Effective window size : 1.024 (s)\n",
      "Effective window size : 1.024 (s)\n",
      "Effective window size : 1.024 (s)\n",
      "Effective window size : 1.024 (s)\n",
      "Effective window size : 1.024 (s)\n",
      "Effective window size : 1.024 (s)\n",
      "Effective window size : 1.024 (s)\n",
      "Effective window size : 1.024 (s)\n",
      "Effective window size : 1.024 (s)\n",
      "Effective window size : 1.024 (s)\n",
      "Effective window size : 1.024 (s)\n",
      "Effective window size : 1.024 (s)\n",
      "Effective window size : 1.024 (s)\n",
      "Effective window size : 1.024 (s)\n",
      "Effective window size : 1.024 (s)\n",
      "Effective window size : 1.024 (s)\n",
      "Effective window size : 1.024 (s)\n",
      "Effective window size : 1.024 (s)\n",
      "Effective window size : 1.024 (s)\n",
      "Effective window size : 1.024 (s)\n",
      "Effective window size : 1.024 (s)\n",
      "Effective window size : 1.024 (s)\n",
      "Effective window size : 1.024 (s)\n",
      "Effective window size : 1.024 (s)\n",
      "Effective window size : 1.024 (s)\n",
      "Effective window size : 1.024 (s)\n",
      "Effective window size : 1.024 (s)\n",
      "Effective window size : 1.024 (s)\n",
      "Effective window size : 1.024 (s)\n",
      "Effective window size : 1.024 (s)\n"
     ]
    }
   ],
   "source": [
    "freqs = [(4, 8), (8, 13), (13, 30), (30, 38)]\n",
    "keys = list(ear_scalp.keys())\n",
    "for fr in range(4):\n",
    "    f_min, f_max = freqs[fr]\n",
    "    for sbj in selected:\n",
    "        psd_t9 = mne.time_frequency.psd_array_welch(sbj.get_data(['T9']), fmin=f_min, fmax=f_max, sfreq=sbj.info['sfreq'])[0]\n",
    "        psd_t10 = mne.time_frequency.psd_array_welch(sbj.get_data(['T10']), fmin=f_min, fmax=f_max, sfreq=sbj.info['sfreq'])[0]\n",
    "        psd_c3 = mne.time_frequency.psd_array_welch(sbj.get_data(['C3']), fmin=f_min, fmax=f_max, sfreq=sbj.info['sfreq'])[0]\n",
    "        psd_c4 = mne.time_frequency.psd_array_welch(sbj.get_data(['C4']), fmin=f_min, fmax=f_max, sfreq=sbj.info['sfreq'])[0]\n",
    "        # scalp - right\n",
    "        ear_scalp[keys[fr]].append(np.mean(mne.time_frequency.psd_array_welch(sbj.get_data(['LF']), fmin=f_min, fmax=f_max, sfreq=sbj.info['sfreq'])[0]/psd_t9)*100)                  \n",
    "        ear_scalp[keys[fr]].append(np.mean(mne.time_frequency.psd_array_welch(sbj.get_data(['LB']), fmin=f_min, fmax=f_max, sfreq=sbj.info['sfreq'])[0]/psd_t9)*100)            \n",
    "        ear_scalp[keys[fr]].append(np.mean(mne.time_frequency.psd_array_welch(sbj.get_data(['LOU']), fmin=f_min, fmax=f_max, sfreq=sbj.info['sfreq'])[0]/psd_t9)*100)            \n",
    "        ear_scalp[keys[fr]].append(np.mean(mne.time_frequency.psd_array_welch(sbj.get_data(['LOD']), fmin=f_min, fmax=f_max, sfreq=sbj.info['sfreq'])[0]/psd_t9)*100)    \n",
    "        # scalp - left\n",
    "        ear_scalp[keys[fr]].append(np.mean(mne.time_frequency.psd_array_welch(sbj.get_data(['RF']), fmin=f_min, fmax=f_max, sfreq=sbj.info['sfreq'])[0]/psd_t10)*100)                  \n",
    "        ear_scalp[keys[fr]].append(np.mean(mne.time_frequency.psd_array_welch(sbj.get_data(['RB']), fmin=f_min, fmax=f_max, sfreq=sbj.info['sfreq'])[0]/psd_t10)*100)            \n",
    "        ear_scalp[keys[fr]].append(np.mean(mne.time_frequency.psd_array_welch(sbj.get_data(['ROU']), fmin=f_min, fmax=f_max, sfreq=sbj.info['sfreq'])[0]/psd_t10)*100)            \n",
    "        ear_scalp[keys[fr]].append(np.mean(mne.time_frequency.psd_array_welch(sbj.get_data(['ROD']), fmin=f_min, fmax=f_max, sfreq=sbj.info['sfreq'])[0]/psd_t10)*100)  \n",
    "        # motor - right\n",
    "        ear_motor[keys[fr]].append(np.mean(mne.time_frequency.psd_array_welch(sbj.get_data(['LF']), fmin=f_min, fmax=f_max, sfreq=sbj.info['sfreq'])[0]/psd_c3)*100)                  \n",
    "        ear_motor[keys[fr]].append(np.mean(mne.time_frequency.psd_array_welch(sbj.get_data(['LB']), fmin=f_min, fmax=f_max, sfreq=sbj.info['sfreq'])[0]/psd_c3)*100)            \n",
    "        ear_motor[keys[fr]].append(np.mean(mne.time_frequency.psd_array_welch(sbj.get_data(['LOU']), fmin=f_min, fmax=f_max, sfreq=sbj.info['sfreq'])[0]/psd_c3)*100)            \n",
    "        ear_motor[keys[fr]].append(np.mean(mne.time_frequency.psd_array_welch(sbj.get_data(['LOD']), fmin=f_min, fmax=f_max, sfreq=sbj.info['sfreq'])[0]/psd_c3)*100) \n",
    "        # motor - left\n",
    "        ear_motor[keys[fr]].append(np.mean(mne.time_frequency.psd_array_welch(sbj.get_data(['RF']), fmin=f_min, fmax=f_max, sfreq=sbj.info['sfreq'])[0]/psd_c4)*100)                  \n",
    "        ear_motor[keys[fr]].append(np.mean(mne.time_frequency.psd_array_welch(sbj.get_data(['RB']), fmin=f_min, fmax=f_max, sfreq=sbj.info['sfreq'])[0]/psd_c4)*100)            \n",
    "        ear_motor[keys[fr]].append(np.mean(mne.time_frequency.psd_array_welch(sbj.get_data(['ROU']), fmin=f_min, fmax=f_max, sfreq=sbj.info['sfreq'])[0]/psd_c4)*100)            \n",
    "        ear_motor[keys[fr]].append(np.mean(mne.time_frequency.psd_array_welch(sbj.get_data(['ROD']), fmin=f_min, fmax=f_max, sfreq=sbj.info['sfreq'])[0]/psd_c4)*100) \n"
   ]
  },
  {
   "cell_type": "code",
   "execution_count": 22,
   "id": "dd73fed8-a4ce-48dc-8a70-6edaa3009e30",
   "metadata": {
    "scrolled": true
   },
   "outputs": [
    {
     "data": {
      "text/plain": [
       "{'theta': [251.22142417742256,\n",
       "  248.03742606458118,\n",
       "  253.55406249526246,\n",
       "  256.3838767019324,\n",
       "  264.92666507558755,\n",
       "  280.3358304220014,\n",
       "  256.9608545149964,\n",
       "  265.3477240997855,\n",
       "  314.6190218860419,\n",
       "  136.3679270535345,\n",
       "  114.68150717516619,\n",
       "  141.6844972480158,\n",
       "  211.43910144450376,\n",
       "  189.04146765343506,\n",
       "  164.71589724927287,\n",
       "  184.58161211501277,\n",
       "  203.47650340604395,\n",
       "  17718.071494802552,\n",
       "  200.9266195195317,\n",
       "  206.93989872656937,\n",
       "  216.93383358064918,\n",
       "  253.94513496260453,\n",
       "  70317.62606018058,\n",
       "  211.43547787008484,\n",
       "  191.59871066475674,\n",
       "  213.91862750239147,\n",
       "  177.2258257764892,\n",
       "  195.2836422728433,\n",
       "  261.8110043862734,\n",
       "  351.1482920524057,\n",
       "  243.7859417657621,\n",
       "  267.37136002405435,\n",
       "  269.33476827296266,\n",
       "  273.93196448721346,\n",
       "  267.38880285673395,\n",
       "  312.25622467618916,\n",
       "  252.45186780317584,\n",
       "  283.4673288185382,\n",
       "  253.52282523064122,\n",
       "  258.3122281721201,\n",
       "  206.83761622092825,\n",
       "  196.15976232828442,\n",
       "  191.7264477451844,\n",
       "  192.4383554085722,\n",
       "  211.91457038912657,\n",
       "  211.95146210121572,\n",
       "  205.10820724121243,\n",
       "  211.53560014994048],\n",
       " 'alpha': [331.7184998437278,\n",
       "  330.42571565091544,\n",
       "  323.6560921816168,\n",
       "  329.9038421065654,\n",
       "  340.7128004890932,\n",
       "  347.8692470243782,\n",
       "  327.07204723711675,\n",
       "  342.68992824217776,\n",
       "  316.05707607435374,\n",
       "  171.61497039649862,\n",
       "  161.80842782539654,\n",
       "  177.99438122487987,\n",
       "  212.39169521941187,\n",
       "  215.16452320863223,\n",
       "  202.57567226506632,\n",
       "  217.5982622318973,\n",
       "  276.17541781070037,\n",
       "  12671.198346379751,\n",
       "  294.9364240196556,\n",
       "  307.8220852125596,\n",
       "  286.73679843087456,\n",
       "  315.6384383293644,\n",
       "  49769.077659354596,\n",
       "  306.14300796379234,\n",
       "  248.2802670044144,\n",
       "  269.31909442399,\n",
       "  246.1551018374665,\n",
       "  262.98498697940494,\n",
       "  287.8124672191214,\n",
       "  364.5560745477376,\n",
       "  304.8365168712576,\n",
       "  316.41013127948884,\n",
       "  299.2713346469021,\n",
       "  306.6935002222971,\n",
       "  313.48174313449584,\n",
       "  321.34749987745516,\n",
       "  319.5979606626934,\n",
       "  340.13078715171133,\n",
       "  344.3696977849961,\n",
       "  341.5346015283042,\n",
       "  279.7129461919889,\n",
       "  281.93857872352856,\n",
       "  290.4677105598093,\n",
       "  283.1218233354232,\n",
       "  287.4169827518715,\n",
       "  306.10662850553945,\n",
       "  307.48291884386714,\n",
       "  305.48059425392506],\n",
       " 'betha': [239.53256147536396,\n",
       "  234.53391646856784,\n",
       "  248.51063807074746,\n",
       "  245.03146007699493,\n",
       "  245.48058135661134,\n",
       "  255.05094138882515,\n",
       "  249.76463014226323,\n",
       "  244.57932068702974,\n",
       "  187.9293670222836,\n",
       "  135.23850634609204,\n",
       "  152.86518422634063,\n",
       "  138.8210015629814,\n",
       "  151.34763181700166,\n",
       "  175.3552411041266,\n",
       "  187.3654586233708,\n",
       "  185.93237652197632,\n",
       "  237.67286840922614,\n",
       "  9526.697057723939,\n",
       "  252.4666748418394,\n",
       "  263.809683928788,\n",
       "  221.15446409467884,\n",
       "  237.36971438903765,\n",
       "  90846.43307471792,\n",
       "  220.81980351298282,\n",
       "  228.18840866689948,\n",
       "  249.52516251492779,\n",
       "  226.73992465216796,\n",
       "  229.35904803012704,\n",
       "  259.93066579877484,\n",
       "  365.0999825413148,\n",
       "  318.5920993006294,\n",
       "  278.8056895857703,\n",
       "  403.27968116713305,\n",
       "  403.6665208920599,\n",
       "  419.7143919507065,\n",
       "  408.07927921625816,\n",
       "  430.65338160709905,\n",
       "  439.78687524269037,\n",
       "  454.29303032308405,\n",
       "  447.45086832819527,\n",
       "  263.85513797173996,\n",
       "  295.7540775780182,\n",
       "  334.163529947516,\n",
       "  313.9307299515498,\n",
       "  272.21301580869925,\n",
       "  331.9426476972877,\n",
       "  380.03300740928097,\n",
       "  340.94954381120755],\n",
       " 'low gamma': [189.3646546454443,\n",
       "  177.04968901700633,\n",
       "  197.29464287039156,\n",
       "  187.17066636541512,\n",
       "  186.75073942887732,\n",
       "  192.68144978818358,\n",
       "  201.7146833827414,\n",
       "  180.1463502840774,\n",
       "  160.57130604083127,\n",
       "  128.10878775461484,\n",
       "  151.55623269163007,\n",
       "  127.44181753236899,\n",
       "  126.02488461399655,\n",
       "  144.83834888115967,\n",
       "  164.2622123035389,\n",
       "  155.4659312118449,\n",
       "  193.7546359611354,\n",
       "  6502.5473775412265,\n",
       "  194.98230524233966,\n",
       "  209.17879704905508,\n",
       "  206.84295609578038,\n",
       "  218.95925666697505,\n",
       "  126235.94576046102,\n",
       "  205.083882194968,\n",
       "  168.73296031313518,\n",
       "  187.8006858597625,\n",
       "  163.56227656812607,\n",
       "  157.52104356864223,\n",
       "  192.2079227399792,\n",
       "  340.6044017782326,\n",
       "  383.77191194155233,\n",
       "  225.41047780979767,\n",
       "  332.159927050107,\n",
       "  311.12817330054463,\n",
       "  348.88922477162384,\n",
       "  303.45034327186534,\n",
       "  348.3303936455795,\n",
       "  355.92840022646743,\n",
       "  370.3888573376869,\n",
       "  351.1262759108707,\n",
       "  258.04620493905344,\n",
       "  294.8907323471775,\n",
       "  344.61033289402553,\n",
       "  323.66467932302385,\n",
       "  277.7674858475794,\n",
       "  373.4323164169135,\n",
       "  467.8855931498297,\n",
       "  395.89289175464035]}"
      ]
     },
     "execution_count": 22,
     "metadata": {},
     "output_type": "execute_result"
    }
   ],
   "source": [
    "ear_scalp"
   ]
  },
  {
   "cell_type": "code",
   "execution_count": 62,
   "id": "bbda76df-0128-4bc6-a510-d3d557c4b1f4",
   "metadata": {},
   "outputs": [],
   "source": [
    "# es = pd.DataFrame(ear_scalp)"
   ]
  },
  {
   "cell_type": "code",
   "execution_count": 63,
   "id": "2024b90c-8347-4c59-bfad-80dad640bedf",
   "metadata": {},
   "outputs": [],
   "source": [
    "# es = es.drop([17, 22])"
   ]
  },
  {
   "cell_type": "code",
   "execution_count": 64,
   "id": "54562a50-81a8-498e-ab12-fd8998ece249",
   "metadata": {},
   "outputs": [],
   "source": [
    "# ear_scalp_modified = es.to_dict()"
   ]
  },
  {
   "cell_type": "code",
   "execution_count": 65,
   "id": "e5bb86c3-65cb-4ce8-99e9-27ac6e64d00f",
   "metadata": {},
   "outputs": [],
   "source": [
    "ear_channels = ['LF/T9', 'LB/T9', 'LOU/T9', 'LOD/T9', 'RF/T10', 'RB/T10', 'ROUT/T10', 'ROD/T10']"
   ]
  },
  {
   "cell_type": "markdown",
   "id": "a2e1f958-3aed-4746-8f3b-66ea76bacd7a",
   "metadata": {},
   "source": [
    "plot ear scalp plot"
   ]
  },
  {
   "cell_type": "code",
   "execution_count": 66,
   "id": "6499b4f5-c8f2-47b4-889e-155d62aebb03",
   "metadata": {
    "scrolled": true
   },
   "outputs": [
    {
     "data": {
      "text/plain": [
       "[['theta', 'LF/T9', 251.22142417742256],\n",
       " ['theta', 'LB/T9', 248.03742606458118],\n",
       " ['theta', 'LOU/T9', 253.55406249526246],\n",
       " ['theta', 'LOD/T9', 256.3838767019324],\n",
       " ['theta', 'RF/T10', 264.92666507558755],\n",
       " ['theta', 'RB/T10', 280.3358304220014],\n",
       " ['theta', 'ROUT/T10', 256.9608545149964],\n",
       " ['theta', 'ROD/T10', 265.3477240997855],\n",
       " ['theta', 'LF/T9', 314.6190218860419],\n",
       " ['theta', 'LB/T9', 136.3679270535345],\n",
       " ['theta', 'LOU/T9', 114.68150717516619],\n",
       " ['theta', 'LOD/T9', 141.6844972480158],\n",
       " ['theta', 'RF/T10', 211.43910144450376],\n",
       " ['theta', 'RB/T10', 189.04146765343506],\n",
       " ['theta', 'ROUT/T10', 164.71589724927287],\n",
       " ['theta', 'ROD/T10', 184.58161211501277],\n",
       " ['theta', 'LF/T9', 203.47650340604395],\n",
       " ['theta', 'LB/T9', 17718.071494802552],\n",
       " ['theta', 'LOU/T9', 200.9266195195317],\n",
       " ['theta', 'LOD/T9', 206.93989872656937],\n",
       " ['theta', 'RF/T10', 216.93383358064918],\n",
       " ['theta', 'RB/T10', 253.94513496260453],\n",
       " ['theta', 'ROUT/T10', 70317.62606018058],\n",
       " ['theta', 'ROD/T10', 211.43547787008484],\n",
       " ['theta', 'LF/T9', 191.59871066475674],\n",
       " ['theta', 'LB/T9', 213.91862750239147],\n",
       " ['theta', 'LOU/T9', 177.2258257764892],\n",
       " ['theta', 'LOD/T9', 195.2836422728433],\n",
       " ['theta', 'RF/T10', 261.8110043862734],\n",
       " ['theta', 'RB/T10', 351.1482920524057],\n",
       " ['theta', 'ROUT/T10', 243.7859417657621],\n",
       " ['theta', 'ROD/T10', 267.37136002405435],\n",
       " ['theta', 'LF/T9', 269.33476827296266],\n",
       " ['theta', 'LB/T9', 273.93196448721346],\n",
       " ['theta', 'LOU/T9', 267.38880285673395],\n",
       " ['theta', 'LOD/T9', 312.25622467618916],\n",
       " ['theta', 'RF/T10', 252.45186780317584],\n",
       " ['theta', 'RB/T10', 283.4673288185382],\n",
       " ['theta', 'ROUT/T10', 253.52282523064122],\n",
       " ['theta', 'ROD/T10', 258.3122281721201],\n",
       " ['theta', 'LF/T9', 206.83761622092825],\n",
       " ['theta', 'LB/T9', 196.15976232828442],\n",
       " ['theta', 'LOU/T9', 191.7264477451844],\n",
       " ['theta', 'LOD/T9', 192.4383554085722],\n",
       " ['theta', 'RF/T10', 211.91457038912657],\n",
       " ['theta', 'RB/T10', 211.95146210121572],\n",
       " ['theta', 'ROUT/T10', 205.10820724121243],\n",
       " ['theta', 'ROD/T10', 211.53560014994048],\n",
       " ['alpha', 'LF/T9', 331.7184998437278],\n",
       " ['alpha', 'LB/T9', 330.42571565091544],\n",
       " ['alpha', 'LOU/T9', 323.6560921816168],\n",
       " ['alpha', 'LOD/T9', 329.9038421065654],\n",
       " ['alpha', 'RF/T10', 340.7128004890932],\n",
       " ['alpha', 'RB/T10', 347.8692470243782],\n",
       " ['alpha', 'ROUT/T10', 327.07204723711675],\n",
       " ['alpha', 'ROD/T10', 342.68992824217776],\n",
       " ['alpha', 'LF/T9', 316.05707607435374],\n",
       " ['alpha', 'LB/T9', 171.61497039649862],\n",
       " ['alpha', 'LOU/T9', 161.80842782539654],\n",
       " ['alpha', 'LOD/T9', 177.99438122487987],\n",
       " ['alpha', 'RF/T10', 212.39169521941187],\n",
       " ['alpha', 'RB/T10', 215.16452320863223],\n",
       " ['alpha', 'ROUT/T10', 202.57567226506632],\n",
       " ['alpha', 'ROD/T10', 217.5982622318973],\n",
       " ['alpha', 'LF/T9', 276.17541781070037],\n",
       " ['alpha', 'LB/T9', 12671.198346379751],\n",
       " ['alpha', 'LOU/T9', 294.9364240196556],\n",
       " ['alpha', 'LOD/T9', 307.8220852125596],\n",
       " ['alpha', 'RF/T10', 286.73679843087456],\n",
       " ['alpha', 'RB/T10', 315.6384383293644],\n",
       " ['alpha', 'ROUT/T10', 49769.077659354596],\n",
       " ['alpha', 'ROD/T10', 306.14300796379234],\n",
       " ['alpha', 'LF/T9', 248.2802670044144],\n",
       " ['alpha', 'LB/T9', 269.31909442399],\n",
       " ['alpha', 'LOU/T9', 246.1551018374665],\n",
       " ['alpha', 'LOD/T9', 262.98498697940494],\n",
       " ['alpha', 'RF/T10', 287.8124672191214],\n",
       " ['alpha', 'RB/T10', 364.5560745477376],\n",
       " ['alpha', 'ROUT/T10', 304.8365168712576],\n",
       " ['alpha', 'ROD/T10', 316.41013127948884],\n",
       " ['alpha', 'LF/T9', 299.2713346469021],\n",
       " ['alpha', 'LB/T9', 306.6935002222971],\n",
       " ['alpha', 'LOU/T9', 313.48174313449584],\n",
       " ['alpha', 'LOD/T9', 321.34749987745516],\n",
       " ['alpha', 'RF/T10', 319.5979606626934],\n",
       " ['alpha', 'RB/T10', 340.13078715171133],\n",
       " ['alpha', 'ROUT/T10', 344.3696977849961],\n",
       " ['alpha', 'ROD/T10', 341.5346015283042],\n",
       " ['alpha', 'LF/T9', 279.7129461919889],\n",
       " ['alpha', 'LB/T9', 281.93857872352856],\n",
       " ['alpha', 'LOU/T9', 290.4677105598093],\n",
       " ['alpha', 'LOD/T9', 283.1218233354232],\n",
       " ['alpha', 'RF/T10', 287.4169827518715],\n",
       " ['alpha', 'RB/T10', 306.10662850553945],\n",
       " ['alpha', 'ROUT/T10', 307.48291884386714],\n",
       " ['alpha', 'ROD/T10', 305.48059425392506],\n",
       " ['betha', 'LF/T9', 239.53256147536396],\n",
       " ['betha', 'LB/T9', 234.53391646856784],\n",
       " ['betha', 'LOU/T9', 248.51063807074746],\n",
       " ['betha', 'LOD/T9', 245.03146007699493],\n",
       " ['betha', 'RF/T10', 245.48058135661134],\n",
       " ['betha', 'RB/T10', 255.05094138882515],\n",
       " ['betha', 'ROUT/T10', 249.76463014226323],\n",
       " ['betha', 'ROD/T10', 244.57932068702974],\n",
       " ['betha', 'LF/T9', 187.9293670222836],\n",
       " ['betha', 'LB/T9', 135.23850634609204],\n",
       " ['betha', 'LOU/T9', 152.86518422634063],\n",
       " ['betha', 'LOD/T9', 138.8210015629814],\n",
       " ['betha', 'RF/T10', 151.34763181700166],\n",
       " ['betha', 'RB/T10', 175.3552411041266],\n",
       " ['betha', 'ROUT/T10', 187.3654586233708],\n",
       " ['betha', 'ROD/T10', 185.93237652197632],\n",
       " ['betha', 'LF/T9', 237.67286840922614],\n",
       " ['betha', 'LB/T9', 9526.697057723939],\n",
       " ['betha', 'LOU/T9', 252.4666748418394],\n",
       " ['betha', 'LOD/T9', 263.809683928788],\n",
       " ['betha', 'RF/T10', 221.15446409467884],\n",
       " ['betha', 'RB/T10', 237.36971438903765],\n",
       " ['betha', 'ROUT/T10', 90846.43307471792],\n",
       " ['betha', 'ROD/T10', 220.81980351298282],\n",
       " ['betha', 'LF/T9', 228.18840866689948],\n",
       " ['betha', 'LB/T9', 249.52516251492779],\n",
       " ['betha', 'LOU/T9', 226.73992465216796],\n",
       " ['betha', 'LOD/T9', 229.35904803012704],\n",
       " ['betha', 'RF/T10', 259.93066579877484],\n",
       " ['betha', 'RB/T10', 365.0999825413148],\n",
       " ['betha', 'ROUT/T10', 318.5920993006294],\n",
       " ['betha', 'ROD/T10', 278.8056895857703],\n",
       " ['betha', 'LF/T9', 403.27968116713305],\n",
       " ['betha', 'LB/T9', 403.6665208920599],\n",
       " ['betha', 'LOU/T9', 419.7143919507065],\n",
       " ['betha', 'LOD/T9', 408.07927921625816],\n",
       " ['betha', 'RF/T10', 430.65338160709905],\n",
       " ['betha', 'RB/T10', 439.78687524269037],\n",
       " ['betha', 'ROUT/T10', 454.29303032308405],\n",
       " ['betha', 'ROD/T10', 447.45086832819527],\n",
       " ['betha', 'LF/T9', 263.85513797173996],\n",
       " ['betha', 'LB/T9', 295.7540775780182],\n",
       " ['betha', 'LOU/T9', 334.163529947516],\n",
       " ['betha', 'LOD/T9', 313.9307299515498],\n",
       " ['betha', 'RF/T10', 272.21301580869925],\n",
       " ['betha', 'RB/T10', 331.9426476972877],\n",
       " ['betha', 'ROUT/T10', 380.03300740928097],\n",
       " ['betha', 'ROD/T10', 340.94954381120755],\n",
       " ['low gamma', 'LF/T9', 189.3646546454443],\n",
       " ['low gamma', 'LB/T9', 177.04968901700633],\n",
       " ['low gamma', 'LOU/T9', 197.29464287039156],\n",
       " ['low gamma', 'LOD/T9', 187.17066636541512],\n",
       " ['low gamma', 'RF/T10', 186.75073942887732],\n",
       " ['low gamma', 'RB/T10', 192.68144978818358],\n",
       " ['low gamma', 'ROUT/T10', 201.7146833827414],\n",
       " ['low gamma', 'ROD/T10', 180.1463502840774],\n",
       " ['low gamma', 'LF/T9', 160.57130604083127],\n",
       " ['low gamma', 'LB/T9', 128.10878775461484],\n",
       " ['low gamma', 'LOU/T9', 151.55623269163007],\n",
       " ['low gamma', 'LOD/T9', 127.44181753236899],\n",
       " ['low gamma', 'RF/T10', 126.02488461399655],\n",
       " ['low gamma', 'RB/T10', 144.83834888115967],\n",
       " ['low gamma', 'ROUT/T10', 164.2622123035389],\n",
       " ['low gamma', 'ROD/T10', 155.4659312118449],\n",
       " ['low gamma', 'LF/T9', 193.7546359611354],\n",
       " ['low gamma', 'LB/T9', 6502.5473775412265],\n",
       " ['low gamma', 'LOU/T9', 194.98230524233966],\n",
       " ['low gamma', 'LOD/T9', 209.17879704905508],\n",
       " ['low gamma', 'RF/T10', 206.84295609578038],\n",
       " ['low gamma', 'RB/T10', 218.95925666697505],\n",
       " ['low gamma', 'ROUT/T10', 126235.94576046102],\n",
       " ['low gamma', 'ROD/T10', 205.083882194968],\n",
       " ['low gamma', 'LF/T9', 168.73296031313518],\n",
       " ['low gamma', 'LB/T9', 187.8006858597625],\n",
       " ['low gamma', 'LOU/T9', 163.56227656812607],\n",
       " ['low gamma', 'LOD/T9', 157.52104356864223],\n",
       " ['low gamma', 'RF/T10', 192.2079227399792],\n",
       " ['low gamma', 'RB/T10', 340.6044017782326],\n",
       " ['low gamma', 'ROUT/T10', 383.77191194155233],\n",
       " ['low gamma', 'ROD/T10', 225.41047780979767],\n",
       " ['low gamma', 'LF/T9', 332.159927050107],\n",
       " ['low gamma', 'LB/T9', 311.12817330054463],\n",
       " ['low gamma', 'LOU/T9', 348.88922477162384],\n",
       " ['low gamma', 'LOD/T9', 303.45034327186534],\n",
       " ['low gamma', 'RF/T10', 348.3303936455795],\n",
       " ['low gamma', 'RB/T10', 355.92840022646743],\n",
       " ['low gamma', 'ROUT/T10', 370.3888573376869],\n",
       " ['low gamma', 'ROD/T10', 351.1262759108707],\n",
       " ['low gamma', 'LF/T9', 258.04620493905344],\n",
       " ['low gamma', 'LB/T9', 294.8907323471775],\n",
       " ['low gamma', 'LOU/T9', 344.61033289402553],\n",
       " ['low gamma', 'LOD/T9', 323.66467932302385],\n",
       " ['low gamma', 'RF/T10', 277.7674858475794],\n",
       " ['low gamma', 'RB/T10', 373.4323164169135],\n",
       " ['low gamma', 'ROUT/T10', 467.8855931498297],\n",
       " ['low gamma', 'ROD/T10', 395.89289175464035]]"
      ]
     },
     "execution_count": 66,
     "metadata": {},
     "output_type": "execute_result"
    }
   ],
   "source": [
    "data_list"
   ]
  },
  {
   "cell_type": "code",
   "execution_count": 67,
   "id": "25050b6b-f3dd-45c8-a63a-dee8348a545d",
   "metadata": {},
   "outputs": [],
   "source": [
    "data_list = []"
   ]
  },
  {
   "cell_type": "code",
   "execution_count": 70,
   "id": "6fbcf529-6186-4589-b672-b7fd73b8d504",
   "metadata": {},
   "outputs": [
    {
     "data": {
      "image/png": "[encoded data removed]",
      "text/plain": [
       "<Figure size 800x600 with 1 Axes>"
      ]
     },
     "metadata": {},
     "output_type": "display_data"
    }
   ],
   "source": [
    "# Loop through the ear_scalp data and add to data_list\n",
    "for band, values in ear_scalp.items():\n",
    "    for idx, value in enumerate(values):\n",
    "        ear_channel = ear_channels[idx % len(ear_channels)]  # Repeat the ear channels for each frequency band\n",
    "        data_list.append([band, ear_channel, value])\n",
    "\n",
    "# Convert the list into a pandas DataFrame\n",
    "df = pd.DataFrame(data_list, columns=['Frequency Band', 'Ear Channel', 'Power Ratio'])\n",
    "\n",
    "# Plot using seaborn\n",
    "plt.figure(figsize=(8, 6))\n",
    "sns.boxplot(x='Frequency Band', y='Power Ratio', hue='Ear Channel', data=df, palette='Set2')\n",
    "\n",
    "# Customize the plot\n",
    "plt.ylabel('Ear-biosignals to adjacent scalp EEG power ratio')\n",
    "plt.ylim(0, 400)  # Adjust the y-axis limits based on your data if necessary\n",
    "plt.legend(title='Ear Channels', bbox_to_anchor=(1.05, 1), loc='upper left')\n",
    "\n",
    "# Display the plot\n",
    "plt.tight_layout()\n",
    "plt.show()"
   ]
  },
  {
   "cell_type": "markdown",
   "id": "ece7e9ea-4943-4e4b-956a-729073f28657",
   "metadata": {},
   "source": [
    "plot ear motor"
   ]
  },
  {
   "cell_type": "code",
   "execution_count": 71,
   "id": "1fd5a825-c5c6-4184-b082-511a319332e2",
   "metadata": {},
   "outputs": [],
   "source": [
    "ear_motor_chs = ['LF/C3', 'LB/C3', 'LOU/C3', 'LOD/C3', 'RF/C4', 'RB/C4', 'ROU/C4', 'ROD/C4']"
   ]
  },
  {
   "cell_type": "code",
   "execution_count": 74,
   "id": "7fa85bec-41bd-40ca-9b43-bcafc44e9806",
   "metadata": {},
   "outputs": [
    {
     "data": {
      "text/plain": [
       "[]"
      ]
     },
     "execution_count": 74,
     "metadata": {},
     "output_type": "execute_result"
    }
   ],
   "source": [
    "data_list"
   ]
  },
  {
   "cell_type": "code",
   "execution_count": 73,
   "id": "997b2538-34d4-47b9-91e7-40323d15f60e",
   "metadata": {},
   "outputs": [],
   "source": [
    "data_list = []"
   ]
  },
  {
   "cell_type": "code",
   "execution_count": 75,
   "id": "dc6cb10a-525d-490e-8fb5-00314156bbce",
   "metadata": {},
   "outputs": [
    {
     "data": {
      "image/png": "[encoded data removed]",
      "text/plain": [
       "<Figure size 800x600 with 1 Axes>"
      ]
     },
     "metadata": {},
     "output_type": "display_data"
    }
   ],
   "source": [
    "# Loop through the ear_scalp data and add to data_list\n",
    "for band, values in ear_motor.items():\n",
    "    for idx, value in enumerate(values):\n",
    "        ear_channel = ear_motor_chs[idx % len(ear_motor_chs)]  # Repeat the ear channels for each frequency band\n",
    "        data_list.append([band, ear_channel, value])\n",
    "\n",
    "# Convert the list into a pandas DataFrame\n",
    "df = pd.DataFrame(data_list, columns=['Frequency Band', 'Ear Channel', 'Power Ratio'])\n",
    "\n",
    "# Plot using seaborn\n",
    "plt.figure(figsize=(8, 6))\n",
    "sns.boxplot(x='Frequency Band', y='Power Ratio', hue='Ear Channel', data=df, palette='Set2')\n",
    "\n",
    "# Customize the plot\n",
    "plt.ylabel('Ear-biosignals to adjacent scalp EEG power ratio')\n",
    "plt.ylim(0, 400)  # Adjust the y-axis limits based on your data if necessary\n",
    "plt.legend(title='Ear Channels', bbox_to_anchor=(1.05, 1), loc='upper left')\n",
    "\n",
    "# Display the plot\n",
    "plt.tight_layout()\n",
    "plt.show()"
   ]
  },
  {
   "cell_type": "markdown",
   "id": "d746e5cb-4d8f-4ef9-adc6-a543e46443e6",
   "metadata": {},
   "source": [
    "calculate pearson correlation between **in-ear** and **scalp** and **motor** channels"
   ]
  },
  {
   "cell_type": "code",
   "execution_count": 55,
   "id": "2de274dd-1c68-4b38-b9a7-b6562e607e24",
   "metadata": {},
   "outputs": [],
   "source": [
    "ear_channels = ['LF','LB','LOU','LOD','RF','RB','ROU','ROD']\n",
    "other = ['T9', 'T7', 'C5', 'C3', 'C1', 'Cz', 'C2', 'C4', 'C6', 'T8', 'T10','LF','LB','LOU','LOD','RF','RB','ROU','ROD']\n",
    "correlations = []\n",
    "for sbj in clean_epochs:\n",
    "    tmp = []\n",
    "    for ear in ear_channels:\n",
    "        ear_data = sbj.get_data(picks=[ear])\n",
    "        for ch in other:\n",
    "            scalp_data = sbj.get_data(picks=[ch])\n",
    "            corr, _ = pearsonr(ear_data, scalp_data)\n",
    "            tmp.append(corr)\n",
    "    correlations.append(np.array(tmp))\n",
    "correlations = np.array(correlations)"
   ]
  },
  {
   "cell_type": "code",
   "execution_count": 64,
   "id": "a6e30bbc-9069-404e-8b32-8d775967e75d",
   "metadata": {},
   "outputs": [
    {
     "data": {
      "text/plain": [
       "(6, 152, 1, 2001)"
      ]
     },
     "execution_count": 64,
     "metadata": {},
     "output_type": "execute_result"
    }
   ],
   "source": [
    "correlations.shape"
   ]
  },
  {
   "cell_type": "markdown",
   "id": "78e4638f-3b6a-4959-925d-cf0223482854",
   "metadata": {},
   "source": [
    "**Permution test**"
   ]
  },
  {
   "cell_type": "code",
   "execution_count": 23,
   "id": "4c3c7923-118e-4e31-8854-cfa26e614aac",
   "metadata": {},
   "outputs": [],
   "source": [
    "motor_channels = ['C3', 'C4']"
   ]
  },
  {
   "cell_type": "code",
   "execution_count": 24,
   "id": "cb4c1fdb-e266-4950-be36-5273c9e9bf07",
   "metadata": {},
   "outputs": [],
   "source": [
    "num_permution = 10"
   ]
  },
  {
   "cell_type": "code",
   "execution_count": 25,
   "id": "f50d5ad4-9d59-4e94-a629-0b5cb96e3a1e",
   "metadata": {},
   "outputs": [],
   "source": [
    "permuted_correlations = np.zeros((6, len(ear_channels), len(motor_channels), num_permution))"
   ]
  },
  {
   "cell_type": "code",
   "execution_count": 26,
   "id": "b0dcbd28-28ea-41bb-ad2f-41d24459ea8e",
   "metadata": {},
   "outputs": [
    {
     "data": {
      "text/plain": [
       "(6, 8, 2, 10)"
      ]
     },
     "execution_count": 26,
     "metadata": {},
     "output_type": "execute_result"
    }
   ],
   "source": [
    "permuted_correlations.shape"
   ]
  },
  {
   "cell_type": "code",
   "execution_count": 27,
   "id": "89f35d22-6afc-4e4d-b163-8d16dd8443f9",
   "metadata": {
    "scrolled": true
   },
   "outputs": [],
   "source": [
    "# subject = 0\n",
    "# for epoch in clean_epochs:\n",
    "#     for permution in range(num_permution):\n",
    "#         epoch_copy = epoch.copy()\n",
    "#         epoch_copy._data = np.random.permutation(epoch_copy.get_data())\n",
    "#         for i, in_ear_ch in enumerate(ear_channels):\n",
    "#             for j, motor_ch in enumerate(motor_channels):\n",
    "#                 in_ear_data = epoch_copy.get_data(picks=[in_ear_ch]).ravel()\n",
    "#                 motor_data = epoch_copy.get_data(picks=[motor_ch]).ravel()\n",
    "#                 permuted_corr, _ = pearsonr(in_ear_data, motor_data)\n",
    "#                 permuted_correlations[subject, i, j, permution] = permuted_corr\n",
    "#     subject += 1"
   ]
  },
  {
   "cell_type": "code",
   "execution_count": 28,
   "id": "9d09dc8a-dba3-4e62-be44-538c2c1fabcf",
   "metadata": {},
   "outputs": [],
   "source": [
    "p_values = {}\n",
    "observed_correlations = {}"
   ]
  },
  {
   "cell_type": "code",
   "execution_count": 29,
   "id": "1332af39-bb1b-4a7c-9463-15ba982d215c",
   "metadata": {},
   "outputs": [],
   "source": [
    "epoch_copy = clean_epochs[0].copy()\n",
    "for i, in_ear_ch in enumerate(ear_channels):\n",
    "    p_values[in_ear_ch] = {}\n",
    "    observed_correlations[in_ear_ch] = {}\n",
    "    for j, motor_ch in enumerate(motor_channels):\n",
    "        in_ear_data = epoch_copy.get_data(picks=[in_ear_ch])\n",
    "        motor_data = epoch_copy.get_data(picks=[motor_ch])\n",
    "        # Calculate observed correlation\n",
    "        observed_corr = pearsonr(in_ear_data.ravel(), motor_data.ravel())[0]\n",
    "        observed_correlations[in_ear_ch][motor_ch] = observed_corr\n",
    "        # Perform permutation test\n",
    "        perm_test_result = permutation_test(\n",
    "            data=(in_ear_data, motor_data),\n",
    "            statistic=calc_pearson_corr,\n",
    "            vectorized=False,\n",
    "            n_resamples=100,\n",
    "            alternative='two-sided'\n",
    "        )\n",
    "        # Store p-value\n",
    "        p_values[in_ear_ch][motor_ch] = perm_test_result.pvalue"
   ]
  },
  {
   "cell_type": "code",
   "execution_count": 30,
   "id": "96e5d5ff-cb01-4d56-b683-1241cd428ca6",
   "metadata": {},
   "outputs": [
    {
     "data": {
      "text/plain": [
       "{'LF': {'C3': -0.0007065683815221342, 'C4': -0.002266194561674083},\n",
       " 'LB': {'C3': -0.0009119096740704763, 'C4': -0.0027244027856115657},\n",
       " 'LOU': {'C3': -0.000828584626615553, 'C4': -0.0031608294525883895},\n",
       " 'LOD': {'C3': -0.0009750973627862487, 'C4': -0.0029421631121759138},\n",
       " 'RF': {'C3': -0.0022153076073480288, 'C4': -0.0016688612067300645},\n",
       " 'RB': {'C3': -0.006667837713586108, 'C4': -0.004834866134275631},\n",
       " 'ROU': {'C3': -0.002492121849426746, 'C4': -0.0015508879261253},\n",
       " 'ROD': {'C3': -0.0007661951500670377, 'C4': -0.0005690316698566038}}"
      ]
     },
     "execution_count": 30,
     "metadata": {},
     "output_type": "execute_result"
    }
   ],
   "source": [
    "observed_correlations"
   ]
  },
  {
   "cell_type": "code",
   "execution_count": 32,
   "id": "2b262e83-3761-448a-930a-d39c1a1877e0",
   "metadata": {},
   "outputs": [],
   "source": [
    "oc_df = pd.DataFrame(observed_correlations)"
   ]
  },
  {
   "cell_type": "code",
   "execution_count": 81,
   "id": "bd805bbb-2b5a-491c-833e-3bcba6633c15",
   "metadata": {},
   "outputs": [
    {
     "data": {
      "text/html": [
       "<div>\n",
       "<style scoped>\n",
       "    .dataframe tbody tr th:only-of-type {\n",
       "        vertical-align: middle;\n",
       "    }\n",
       "\n",
       "    .dataframe tbody tr th {\n",
       "        vertical-align: top;\n",
       "    }\n",
       "\n",
       "    .dataframe thead th {\n",
       "        text-align: right;\n",
       "    }\n",
       "</style>\n",
       "<table border=\"1\" class=\"dataframe\">\n",
       "  <thead>\n",
       "    <tr style=\"text-align: right;\">\n",
       "      <th></th>\n",
       "      <th>LF</th>\n",
       "      <th>LB</th>\n",
       "      <th>LOU</th>\n",
       "      <th>LOD</th>\n",
       "      <th>RF</th>\n",
       "      <th>RB</th>\n",
       "      <th>ROU</th>\n",
       "      <th>ROD</th>\n",
       "    </tr>\n",
       "  </thead>\n",
       "  <tbody>\n",
       "    <tr>\n",
       "      <th>C3</th>\n",
       "      <td>-0.000707</td>\n",
       "      <td>-0.000912</td>\n",
       "      <td>-0.000829</td>\n",
       "      <td>-0.000975</td>\n",
       "      <td>-0.002215</td>\n",
       "      <td>-0.006668</td>\n",
       "      <td>-0.002492</td>\n",
       "      <td>-0.000766</td>\n",
       "    </tr>\n",
       "    <tr>\n",
       "      <th>C4</th>\n",
       "      <td>-0.002266</td>\n",
       "      <td>-0.002724</td>\n",
       "      <td>-0.003161</td>\n",
       "      <td>-0.002942</td>\n",
       "      <td>-0.001669</td>\n",
       "      <td>-0.004835</td>\n",
       "      <td>-0.001551</td>\n",
       "      <td>-0.000569</td>\n",
       "    </tr>\n",
       "  </tbody>\n",
       "</table>\n",
       "</div>"
      ],
      "text/plain": [
       "          LF        LB       LOU       LOD        RF        RB       ROU  \\\n",
       "C3 -0.000707 -0.000912 -0.000829 -0.000975 -0.002215 -0.006668 -0.002492   \n",
       "C4 -0.002266 -0.002724 -0.003161 -0.002942 -0.001669 -0.004835 -0.001551   \n",
       "\n",
       "         ROD  \n",
       "C3 -0.000766  \n",
       "C4 -0.000569  "
      ]
     },
     "execution_count": 81,
     "metadata": {},
     "output_type": "execute_result"
    }
   ],
   "source": [
    "oc_df"
   ]
  },
  {
   "cell_type": "code",
   "execution_count": 83,
   "id": "f28662fe-15f4-4344-addf-10d4d22ac84d",
   "metadata": {},
   "outputs": [
    {
     "data": {
      "text/plain": [
       "<Axes: >"
      ]
     },
     "execution_count": 83,
     "metadata": {},
     "output_type": "execute_result"
    },
    {
     "data": {
      "image/png": "[encoded data removed]",
      "text/plain": [
       "<Figure size 640x480 with 2 Axes>"
      ]
     },
     "metadata": {},
     "output_type": "display_data"
    }
   ],
   "source": [
    "sns.heatmap(oc_df)"
   ]
  },
  {
   "cell_type": "code",
   "execution_count": 31,
   "id": "294652a1-452a-4996-9e50-7a5ddf962e1d",
   "metadata": {},
   "outputs": [
    {
     "data": {
      "text/plain": [
       "{'LF': {'C3': array([[0.97029703, 0.89108911, 0.63366337, ..., 0.27722772, 0.27722772,\n",
       "          0.2970297 ]]),\n",
       "  'C4': array([[0.99009901, 0.79207921, 0.45544554, ..., 0.79207921, 0.89108911,\n",
       "          0.89108911]])},\n",
       " 'LB': {'C3': array([[0.75247525, 0.63366337, 0.41584158, ..., 0.35643564, 0.35643564,\n",
       "          0.35643564]]),\n",
       "  'C4': array([[0.63366337, 0.43564356, 0.2970297 , ..., 0.43564356, 0.45544554,\n",
       "          0.75247525]])},\n",
       " 'LOU': {'C3': array([[0.85148515, 0.77227723, 0.59405941, ..., 0.35643564, 0.37623762,\n",
       "          0.41584158]]),\n",
       "  'C4': array([[0.51485149, 0.37623762, 0.21782178, ..., 0.3960396 , 0.4950495 ,\n",
       "          0.73267327]])},\n",
       " 'LOD': {'C3': array([[0.73267327, 0.67326733, 0.53465347, ..., 0.37623762, 0.3960396 ,\n",
       "          0.45544554]]),\n",
       "  'C4': array([[0.55445545, 0.3960396 , 0.15841584, ..., 0.41584158, 0.47524752,\n",
       "          0.83168317]])},\n",
       " 'RF': {'C3': array([[0.77227723, 0.75247525, 0.55445545, ..., 0.25742574, 0.41584158,\n",
       "          0.47524752]]),\n",
       "  'C4': array([[0.65346535, 0.45544554, 0.31683168, ..., 0.65346535, 0.65346535,\n",
       "          0.83168317]])},\n",
       " 'RB': {'C3': array([[0.93069307, 0.81188119, 0.71287129, ..., 0.27722772, 0.35643564,\n",
       "          0.35643564]]),\n",
       "  'C4': array([[0.93069307, 0.69306931, 0.51485149, ..., 0.91089109, 0.91089109,\n",
       "          0.99009901]])},\n",
       " 'ROU': {'C3': array([[0.99009901, 0.97029703, 0.85148515, ..., 0.23762376, 0.31683168,\n",
       "          0.3960396 ]]),\n",
       "  'C4': array([[0.83168317, 0.63366337, 0.31683168, ..., 0.63366337, 0.65346535,\n",
       "          0.83168317]])},\n",
       " 'ROD': {'C3': array([[0.79207921, 0.71287129, 0.4950495 , ..., 0.67326733, 0.77227723,\n",
       "          0.83168317]]),\n",
       "  'C4': array([[0.75247525, 0.61386139, 0.37623762, ..., 0.43564356, 0.63366337,\n",
       "          0.87128713]])}}"
      ]
     },
     "execution_count": 31,
     "metadata": {},
     "output_type": "execute_result"
    }
   ],
   "source": [
    "p_values"
   ]
  },
  {
   "cell_type": "code",
   "execution_count": 85,
   "id": "197c6bad-6bc8-4c30-b8e8-d89ed8f25578",
   "metadata": {},
   "outputs": [],
   "source": [
    "for key in p_values.keys():\n",
    "    for sub_key in p_values[key].keys():\n",
    "        p_values[key][sub_key] = np.mean(p_values[key][sub_key])"
   ]
  },
  {
   "cell_type": "code",
   "execution_count": 87,
   "id": "8c5704e1-1a3d-4299-84d7-938da248e9bc",
   "metadata": {},
   "outputs": [],
   "source": [
    "pv_df = pd.DataFrame(p_values)"
   ]
  },
  {
   "cell_type": "code",
   "execution_count": 88,
   "id": "fd70d038-bb4f-4fba-93dc-971c86147ca3",
   "metadata": {},
   "outputs": [
    {
     "data": {
      "text/html": [
       "<div>\n",
       "<style scoped>\n",
       "    .dataframe tbody tr th:only-of-type {\n",
       "        vertical-align: middle;\n",
       "    }\n",
       "\n",
       "    .dataframe tbody tr th {\n",
       "        vertical-align: top;\n",
       "    }\n",
       "\n",
       "    .dataframe thead th {\n",
       "        text-align: right;\n",
       "    }\n",
       "</style>\n",
       "<table border=\"1\" class=\"dataframe\">\n",
       "  <thead>\n",
       "    <tr style=\"text-align: right;\">\n",
       "      <th></th>\n",
       "      <th>LF</th>\n",
       "      <th>LB</th>\n",
       "      <th>LOU</th>\n",
       "      <th>LOD</th>\n",
       "      <th>RF</th>\n",
       "      <th>RB</th>\n",
       "      <th>ROU</th>\n",
       "      <th>ROD</th>\n",
       "    </tr>\n",
       "  </thead>\n",
       "  <tbody>\n",
       "    <tr>\n",
       "      <th>C3</th>\n",
       "      <td>0.479280</td>\n",
       "      <td>0.477039</td>\n",
       "      <td>0.502447</td>\n",
       "      <td>0.469201</td>\n",
       "      <td>0.518889</td>\n",
       "      <td>0.481002</td>\n",
       "      <td>0.467350</td>\n",
       "      <td>0.520200</td>\n",
       "    </tr>\n",
       "    <tr>\n",
       "      <th>C4</th>\n",
       "      <td>0.548251</td>\n",
       "      <td>0.514085</td>\n",
       "      <td>0.480309</td>\n",
       "      <td>0.459701</td>\n",
       "      <td>0.487984</td>\n",
       "      <td>0.598038</td>\n",
       "      <td>0.495341</td>\n",
       "      <td>0.535321</td>\n",
       "    </tr>\n",
       "  </tbody>\n",
       "</table>\n",
       "</div>"
      ],
      "text/plain": [
       "          LF        LB       LOU       LOD        RF        RB       ROU  \\\n",
       "C3  0.479280  0.477039  0.502447  0.469201  0.518889  0.481002  0.467350   \n",
       "C4  0.548251  0.514085  0.480309  0.459701  0.487984  0.598038  0.495341   \n",
       "\n",
       "         ROD  \n",
       "C3  0.520200  \n",
       "C4  0.535321  "
      ]
     },
     "execution_count": 88,
     "metadata": {},
     "output_type": "execute_result"
    }
   ],
   "source": [
    "pv_df"
   ]
  },
  {
   "cell_type": "code",
   "execution_count": 89,
   "id": "a6133ef2-57a4-4a9f-94f5-ac758bf617a1",
   "metadata": {},
   "outputs": [
    {
     "data": {
      "text/plain": [
       "<Axes: >"
      ]
     },
     "execution_count": 89,
     "metadata": {},
     "output_type": "execute_result"
    },
    {
     "data": {
      "image/png": "[encoded data removed]",
      "text/plain": [
       "<Figure size 640x480 with 2 Axes>"
      ]
     },
     "metadata": {},
     "output_type": "display_data"
    }
   ],
   "source": [
    "sns.heatmap(pv_df)"
   ]
  },
  {
   "cell_type": "code",
   "execution_count": null,
   "id": "4d96ab87-02a1-4aea-99ce-8caae62c400f",
   "metadata": {},
   "outputs": [],
   "source": []
  }
 ],
 "metadata": {
  "kernelspec": {
   "display_name": "Python 3 (ipykernel)",
   "language": "python",
   "name": "python3"
  },
  "language_info": {
   "codemirror_mode": {
    "name": "ipython",
    "version": 3
   },
   "file_extension": ".py",
   "mimetype": "text/x-python",
   "name": "python",
   "nbconvert_exporter": "python",
   "pygments_lexer": "ipython3",
   "version": "3.10.2"
  }
 },
 "nbformat": 4,
 "nbformat_minor": 5
}
